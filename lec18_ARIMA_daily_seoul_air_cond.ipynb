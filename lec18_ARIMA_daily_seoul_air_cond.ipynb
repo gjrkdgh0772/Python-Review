{
  "cells": [
    {
      "cell_type": "markdown",
      "metadata": {
        "id": "view-in-github",
        "colab_type": "text"
      },
      "source": [
        "<a href=\"https://colab.research.google.com/github/gjrkdgh0772/Python-Review/blob/master/lec18_ARIMA_daily_seoul_air_cond.ipynb\" target=\"_parent\"><img src=\"https://colab.research.google.com/assets/colab-badge.svg\" alt=\"Open In Colab\"/></a>"
      ]
    },
    {
      "cell_type": "markdown",
      "id": "ab9a0fdb-b50b-4478-a6ce-51cf075f2e6c",
      "metadata": {
        "id": "ab9a0fdb-b50b-4478-a6ce-51cf075f2e6c"
      },
      "source": [
        "# lec18. ARIMA - 공공데이터포털\n",
        "* daily_seoul_air_cond"
      ]
    },
    {
      "cell_type": "code",
      "execution_count": null,
      "id": "7cbb8bf7-9ce6-4e7d-883a-9a418d501477",
      "metadata": {
        "tags": [],
        "colab": {
          "base_uri": "https://localhost:8080/",
          "height": 17
        },
        "id": "7cbb8bf7-9ce6-4e7d-883a-9a418d501477",
        "outputId": "483b4205-df5c-46b1-834a-ac85e1289e63"
      },
      "outputs": [
        {
          "output_type": "display_data",
          "data": {
            "text/html": [
              "<style>.container{width:100% !important;}</style>"
            ],
            "text/plain": [
              "<IPython.core.display.HTML object>"
            ]
          },
          "metadata": {}
        }
      ],
      "source": [
        "import pandas as pd\n",
        "import numpy as np\n",
        "import matplotlib.pyplot as plt\n",
        "import seaborn as sns\n",
        "\n",
        "import datetime as dt\n",
        "\n",
        "\n",
        "import warnings\n",
        "warnings.filterwarnings(action='ignore')\n",
        "\n",
        "#-------------------- 차트 관련 속성 (한글처리, 그리드) -----------\n",
        "#plt.rc('font', family='NanumGothicOTF') # For MacOS\n",
        "plt.rcParams['font.family']= 'Malgun Gothic'\n",
        "plt.rcParams['axes.unicode_minus'] = False\n",
        "sns.set()\n",
        "\n",
        "#-------------------- 주피터 , 출력결과 넓이 늘리기 ---------------\n",
        "from IPython.core.display import display, HTML\n",
        "display(HTML(\"<style>.container{width:100% !important;}</style>\"))\n",
        "pd.set_option('display.max_rows', 100)\n",
        "pd.set_option('display.max_columns', 100)\n",
        "pd.set_option('max_colwidth', None)"
      ]
    },
    {
      "cell_type": "markdown",
      "id": "b45a55ca-3b27-43b3-a9e5-dc6c5dd8263d",
      "metadata": {
        "id": "b45a55ca-3b27-43b3-a9e5-dc6c5dd8263d"
      },
      "source": [
        "# Data Load"
      ]
    },
    {
      "cell_type": "code",
      "source": [
        "from google.colab import drive\n",
        "drive.mount('/content/drive')"
      ],
      "metadata": {
        "colab": {
          "base_uri": "https://localhost:8080/"
        },
        "id": "Jwvy77zC1vg4",
        "outputId": "eee3d734-10f0-4117-b372-9bb9d4ec88ba"
      },
      "id": "Jwvy77zC1vg4",
      "execution_count": null,
      "outputs": [
        {
          "output_type": "stream",
          "name": "stdout",
          "text": [
            "Drive already mounted at /content/drive; to attempt to forcibly remount, call drive.mount(\"/content/drive\", force_remount=True).\n"
          ]
        }
      ]
    },
    {
      "cell_type": "code",
      "execution_count": null,
      "id": "7db0660a-9813-4e5e-8d65-a06404edee09",
      "metadata": {
        "id": "7db0660a-9813-4e5e-8d65-a06404edee09"
      },
      "outputs": [],
      "source": [
        "df = pd.read_csv('/content/drive/MyDrive/pkg/02.daily_seoul_air_cond_2020.04.txt', parse_dates=['측정일시']) "
      ]
    },
    {
      "cell_type": "code",
      "execution_count": null,
      "id": "a002c485-08a0-468d-a0bf-787a26da9db5",
      "metadata": {
        "colab": {
          "base_uri": "https://localhost:8080/"
        },
        "id": "a002c485-08a0-468d-a0bf-787a26da9db5",
        "outputId": "d746eef3-2d13-42a8-f81c-89c08124fe78"
      },
      "outputs": [
        {
          "output_type": "execute_result",
          "data": {
            "text/plain": [
              "Index(['측정일시', '권역코드', '권역명', '측정소코드', '측정소명', '미세먼지 1시간(㎍/㎥)',\n",
              "       '미세먼지 24시간(㎍/㎥)', '초미세먼지(㎍/㎥)', '오존(ppm)', '이산화질소농도(ppm)',\n",
              "       '일산화탄소농도(ppm)', '아황산가스농도(ppm)'],\n",
              "      dtype='object')"
            ]
          },
          "metadata": {},
          "execution_count": 27
        }
      ],
      "source": [
        "df.columns   # '측정일시' '측정소명' '초미세먼지(㎍/㎥)',"
      ]
    },
    {
      "cell_type": "code",
      "execution_count": null,
      "id": "9c2eb87b-91e7-419a-8cd9-6732c84508c0",
      "metadata": {
        "colab": {
          "base_uri": "https://localhost:8080/",
          "height": 592
        },
        "id": "9c2eb87b-91e7-419a-8cd9-6732c84508c0",
        "outputId": "164e4e62-8749-498c-c3da-2aa8dc9cc676"
      },
      "outputs": [
        {
          "output_type": "stream",
          "name": "stdout",
          "text": [
            "(18000, 12)\n",
            "<class 'pandas.core.frame.DataFrame'>\n",
            "RangeIndex: 18000 entries, 0 to 17999\n",
            "Data columns (total 12 columns):\n",
            " #   Column          Non-Null Count  Dtype         \n",
            "---  ------          --------------  -----         \n",
            " 0   측정일시            18000 non-null  datetime64[ns]\n",
            " 1   권역코드            18000 non-null  int64         \n",
            " 2   권역명             18000 non-null  object        \n",
            " 3   측정소코드           18000 non-null  int64         \n",
            " 4   측정소명            18000 non-null  object        \n",
            " 5   미세먼지 1시간(㎍/㎥)   18000 non-null  int64         \n",
            " 6   미세먼지 24시간(㎍/㎥)  18000 non-null  int64         \n",
            " 7   초미세먼지(㎍/㎥)      18000 non-null  int64         \n",
            " 8   오존(ppm)         18000 non-null  float64       \n",
            " 9   이산화질소농도(ppm)    18000 non-null  float64       \n",
            " 10  일산화탄소농도(ppm)    18000 non-null  float64       \n",
            " 11  아황산가스농도(ppm)    18000 non-null  float64       \n",
            "dtypes: datetime64[ns](1), float64(4), int64(5), object(2)\n",
            "memory usage: 1.6+ MB\n",
            "None\n"
          ]
        },
        {
          "output_type": "execute_result",
          "data": {
            "text/html": [
              "\n",
              "  <div id=\"df-8142a587-9d17-46f8-a104-c84b94d140c9\">\n",
              "    <div class=\"colab-df-container\">\n",
              "      <div>\n",
              "<style scoped>\n",
              "    .dataframe tbody tr th:only-of-type {\n",
              "        vertical-align: middle;\n",
              "    }\n",
              "\n",
              "    .dataframe tbody tr th {\n",
              "        vertical-align: top;\n",
              "    }\n",
              "\n",
              "    .dataframe thead th {\n",
              "        text-align: right;\n",
              "    }\n",
              "</style>\n",
              "<table border=\"1\" class=\"dataframe\">\n",
              "  <thead>\n",
              "    <tr style=\"text-align: right;\">\n",
              "      <th></th>\n",
              "      <th>측정일시</th>\n",
              "      <th>권역코드</th>\n",
              "      <th>권역명</th>\n",
              "      <th>측정소코드</th>\n",
              "      <th>측정소명</th>\n",
              "      <th>미세먼지 1시간(㎍/㎥)</th>\n",
              "      <th>미세먼지 24시간(㎍/㎥)</th>\n",
              "      <th>초미세먼지(㎍/㎥)</th>\n",
              "      <th>오존(ppm)</th>\n",
              "      <th>이산화질소농도(ppm)</th>\n",
              "      <th>일산화탄소농도(ppm)</th>\n",
              "      <th>아황산가스농도(ppm)</th>\n",
              "    </tr>\n",
              "  </thead>\n",
              "  <tbody>\n",
              "    <tr>\n",
              "      <th>0</th>\n",
              "      <td>2020-04-30 23:00:00</td>\n",
              "      <td>100</td>\n",
              "      <td>도심권</td>\n",
              "      <td>111123</td>\n",
              "      <td>종로구</td>\n",
              "      <td>40</td>\n",
              "      <td>43</td>\n",
              "      <td>21</td>\n",
              "      <td>0.036</td>\n",
              "      <td>0.008</td>\n",
              "      <td>0.3</td>\n",
              "      <td>0.003</td>\n",
              "    </tr>\n",
              "    <tr>\n",
              "      <th>1</th>\n",
              "      <td>2020-04-30 23:00:00</td>\n",
              "      <td>100</td>\n",
              "      <td>도심권</td>\n",
              "      <td>111121</td>\n",
              "      <td>중구</td>\n",
              "      <td>31</td>\n",
              "      <td>41</td>\n",
              "      <td>22</td>\n",
              "      <td>0.037</td>\n",
              "      <td>0.010</td>\n",
              "      <td>0.3</td>\n",
              "      <td>0.003</td>\n",
              "    </tr>\n",
              "    <tr>\n",
              "      <th>2</th>\n",
              "      <td>2020-04-30 23:00:00</td>\n",
              "      <td>100</td>\n",
              "      <td>도심권</td>\n",
              "      <td>111131</td>\n",
              "      <td>용산구</td>\n",
              "      <td>41</td>\n",
              "      <td>40</td>\n",
              "      <td>21</td>\n",
              "      <td>0.035</td>\n",
              "      <td>0.011</td>\n",
              "      <td>0.3</td>\n",
              "      <td>0.002</td>\n",
              "    </tr>\n",
              "    <tr>\n",
              "      <th>3</th>\n",
              "      <td>2020-04-30 23:00:00</td>\n",
              "      <td>101</td>\n",
              "      <td>서북권</td>\n",
              "      <td>111181</td>\n",
              "      <td>은평구</td>\n",
              "      <td>32</td>\n",
              "      <td>37</td>\n",
              "      <td>20</td>\n",
              "      <td>0.053</td>\n",
              "      <td>0.005</td>\n",
              "      <td>0.3</td>\n",
              "      <td>0.003</td>\n",
              "    </tr>\n",
              "    <tr>\n",
              "      <th>4</th>\n",
              "      <td>2020-04-30 23:00:00</td>\n",
              "      <td>101</td>\n",
              "      <td>서북권</td>\n",
              "      <td>111201</td>\n",
              "      <td>마포구</td>\n",
              "      <td>34</td>\n",
              "      <td>34</td>\n",
              "      <td>21</td>\n",
              "      <td>0.043</td>\n",
              "      <td>0.009</td>\n",
              "      <td>0.3</td>\n",
              "      <td>0.002</td>\n",
              "    </tr>\n",
              "  </tbody>\n",
              "</table>\n",
              "</div>\n",
              "      <button class=\"colab-df-convert\" onclick=\"convertToInteractive('df-8142a587-9d17-46f8-a104-c84b94d140c9')\"\n",
              "              title=\"Convert this dataframe to an interactive table.\"\n",
              "              style=\"display:none;\">\n",
              "        \n",
              "  <svg xmlns=\"http://www.w3.org/2000/svg\" height=\"24px\"viewBox=\"0 0 24 24\"\n",
              "       width=\"24px\">\n",
              "    <path d=\"M0 0h24v24H0V0z\" fill=\"none\"/>\n",
              "    <path d=\"M18.56 5.44l.94 2.06.94-2.06 2.06-.94-2.06-.94-.94-2.06-.94 2.06-2.06.94zm-11 1L8.5 8.5l.94-2.06 2.06-.94-2.06-.94L8.5 2.5l-.94 2.06-2.06.94zm10 10l.94 2.06.94-2.06 2.06-.94-2.06-.94-.94-2.06-.94 2.06-2.06.94z\"/><path d=\"M17.41 7.96l-1.37-1.37c-.4-.4-.92-.59-1.43-.59-.52 0-1.04.2-1.43.59L10.3 9.45l-7.72 7.72c-.78.78-.78 2.05 0 2.83L4 21.41c.39.39.9.59 1.41.59.51 0 1.02-.2 1.41-.59l7.78-7.78 2.81-2.81c.8-.78.8-2.07 0-2.86zM5.41 20L4 18.59l7.72-7.72 1.47 1.35L5.41 20z\"/>\n",
              "  </svg>\n",
              "      </button>\n",
              "      \n",
              "  <style>\n",
              "    .colab-df-container {\n",
              "      display:flex;\n",
              "      flex-wrap:wrap;\n",
              "      gap: 12px;\n",
              "    }\n",
              "\n",
              "    .colab-df-convert {\n",
              "      background-color: #E8F0FE;\n",
              "      border: none;\n",
              "      border-radius: 50%;\n",
              "      cursor: pointer;\n",
              "      display: none;\n",
              "      fill: #1967D2;\n",
              "      height: 32px;\n",
              "      padding: 0 0 0 0;\n",
              "      width: 32px;\n",
              "    }\n",
              "\n",
              "    .colab-df-convert:hover {\n",
              "      background-color: #E2EBFA;\n",
              "      box-shadow: 0px 1px 2px rgba(60, 64, 67, 0.3), 0px 1px 3px 1px rgba(60, 64, 67, 0.15);\n",
              "      fill: #174EA6;\n",
              "    }\n",
              "\n",
              "    [theme=dark] .colab-df-convert {\n",
              "      background-color: #3B4455;\n",
              "      fill: #D2E3FC;\n",
              "    }\n",
              "\n",
              "    [theme=dark] .colab-df-convert:hover {\n",
              "      background-color: #434B5C;\n",
              "      box-shadow: 0px 1px 3px 1px rgba(0, 0, 0, 0.15);\n",
              "      filter: drop-shadow(0px 1px 2px rgba(0, 0, 0, 0.3));\n",
              "      fill: #FFFFFF;\n",
              "    }\n",
              "  </style>\n",
              "\n",
              "      <script>\n",
              "        const buttonEl =\n",
              "          document.querySelector('#df-8142a587-9d17-46f8-a104-c84b94d140c9 button.colab-df-convert');\n",
              "        buttonEl.style.display =\n",
              "          google.colab.kernel.accessAllowed ? 'block' : 'none';\n",
              "\n",
              "        async function convertToInteractive(key) {\n",
              "          const element = document.querySelector('#df-8142a587-9d17-46f8-a104-c84b94d140c9');\n",
              "          const dataTable =\n",
              "            await google.colab.kernel.invokeFunction('convertToInteractive',\n",
              "                                                     [key], {});\n",
              "          if (!dataTable) return;\n",
              "\n",
              "          const docLinkHtml = 'Like what you see? Visit the ' +\n",
              "            '<a target=\"_blank\" href=https://colab.research.google.com/notebooks/data_table.ipynb>data table notebook</a>'\n",
              "            + ' to learn more about interactive tables.';\n",
              "          element.innerHTML = '';\n",
              "          dataTable['output_type'] = 'display_data';\n",
              "          await google.colab.output.renderOutput(dataTable, element);\n",
              "          const docLink = document.createElement('div');\n",
              "          docLink.innerHTML = docLinkHtml;\n",
              "          element.appendChild(docLink);\n",
              "        }\n",
              "      </script>\n",
              "    </div>\n",
              "  </div>\n",
              "  "
            ],
            "text/plain": [
              "                 측정일시  권역코드  권역명   측정소코드 측정소명  미세먼지 1시간(㎍/㎥)  미세먼지 24시간(㎍/㎥)  \\\n",
              "0 2020-04-30 23:00:00   100  도심권  111123  종로구             40              43   \n",
              "1 2020-04-30 23:00:00   100  도심권  111121   중구             31              41   \n",
              "2 2020-04-30 23:00:00   100  도심권  111131  용산구             41              40   \n",
              "3 2020-04-30 23:00:00   101  서북권  111181  은평구             32              37   \n",
              "4 2020-04-30 23:00:00   101  서북권  111201  마포구             34              34   \n",
              "\n",
              "   초미세먼지(㎍/㎥)  오존(ppm)  이산화질소농도(ppm)  일산화탄소농도(ppm)  아황산가스농도(ppm)  \n",
              "0          21    0.036         0.008           0.3         0.003  \n",
              "1          22    0.037         0.010           0.3         0.003  \n",
              "2          21    0.035         0.011           0.3         0.002  \n",
              "3          20    0.053         0.005           0.3         0.003  \n",
              "4          21    0.043         0.009           0.3         0.002  "
            ]
          },
          "metadata": {},
          "execution_count": 28
        }
      ],
      "source": [
        "print(df.shape)\n",
        "print(df.info())\n",
        "df.head()\n"
      ]
    },
    {
      "cell_type": "code",
      "execution_count": null,
      "id": "3c31c27e-6635-4117-a8e2-7fc47516c19d",
      "metadata": {
        "colab": {
          "base_uri": "https://localhost:8080/",
          "height": 112
        },
        "id": "3c31c27e-6635-4117-a8e2-7fc47516c19d",
        "outputId": "80ed7945-9e0a-4d38-f32a-5b24b36864be"
      },
      "outputs": [
        {
          "output_type": "execute_result",
          "data": {
            "text/html": [
              "\n",
              "  <div id=\"df-3185ea01-93ad-45aa-b31a-9b8c40744d37\">\n",
              "    <div class=\"colab-df-container\">\n",
              "      <div>\n",
              "<style scoped>\n",
              "    .dataframe tbody tr th:only-of-type {\n",
              "        vertical-align: middle;\n",
              "    }\n",
              "\n",
              "    .dataframe tbody tr th {\n",
              "        vertical-align: top;\n",
              "    }\n",
              "\n",
              "    .dataframe thead th {\n",
              "        text-align: right;\n",
              "    }\n",
              "</style>\n",
              "<table border=\"1\" class=\"dataframe\">\n",
              "  <thead>\n",
              "    <tr style=\"text-align: right;\">\n",
              "      <th></th>\n",
              "      <th>측정일시</th>\n",
              "      <th>측정소명</th>\n",
              "      <th>미세먼지 1시간(㎍/㎥)</th>\n",
              "    </tr>\n",
              "  </thead>\n",
              "  <tbody>\n",
              "    <tr>\n",
              "      <th>0</th>\n",
              "      <td>2020-04-30 23:00:00</td>\n",
              "      <td>종로구</td>\n",
              "      <td>40</td>\n",
              "    </tr>\n",
              "    <tr>\n",
              "      <th>1</th>\n",
              "      <td>2020-04-30 23:00:00</td>\n",
              "      <td>중구</td>\n",
              "      <td>31</td>\n",
              "    </tr>\n",
              "  </tbody>\n",
              "</table>\n",
              "</div>\n",
              "      <button class=\"colab-df-convert\" onclick=\"convertToInteractive('df-3185ea01-93ad-45aa-b31a-9b8c40744d37')\"\n",
              "              title=\"Convert this dataframe to an interactive table.\"\n",
              "              style=\"display:none;\">\n",
              "        \n",
              "  <svg xmlns=\"http://www.w3.org/2000/svg\" height=\"24px\"viewBox=\"0 0 24 24\"\n",
              "       width=\"24px\">\n",
              "    <path d=\"M0 0h24v24H0V0z\" fill=\"none\"/>\n",
              "    <path d=\"M18.56 5.44l.94 2.06.94-2.06 2.06-.94-2.06-.94-.94-2.06-.94 2.06-2.06.94zm-11 1L8.5 8.5l.94-2.06 2.06-.94-2.06-.94L8.5 2.5l-.94 2.06-2.06.94zm10 10l.94 2.06.94-2.06 2.06-.94-2.06-.94-.94-2.06-.94 2.06-2.06.94z\"/><path d=\"M17.41 7.96l-1.37-1.37c-.4-.4-.92-.59-1.43-.59-.52 0-1.04.2-1.43.59L10.3 9.45l-7.72 7.72c-.78.78-.78 2.05 0 2.83L4 21.41c.39.39.9.59 1.41.59.51 0 1.02-.2 1.41-.59l7.78-7.78 2.81-2.81c.8-.78.8-2.07 0-2.86zM5.41 20L4 18.59l7.72-7.72 1.47 1.35L5.41 20z\"/>\n",
              "  </svg>\n",
              "      </button>\n",
              "      \n",
              "  <style>\n",
              "    .colab-df-container {\n",
              "      display:flex;\n",
              "      flex-wrap:wrap;\n",
              "      gap: 12px;\n",
              "    }\n",
              "\n",
              "    .colab-df-convert {\n",
              "      background-color: #E8F0FE;\n",
              "      border: none;\n",
              "      border-radius: 50%;\n",
              "      cursor: pointer;\n",
              "      display: none;\n",
              "      fill: #1967D2;\n",
              "      height: 32px;\n",
              "      padding: 0 0 0 0;\n",
              "      width: 32px;\n",
              "    }\n",
              "\n",
              "    .colab-df-convert:hover {\n",
              "      background-color: #E2EBFA;\n",
              "      box-shadow: 0px 1px 2px rgba(60, 64, 67, 0.3), 0px 1px 3px 1px rgba(60, 64, 67, 0.15);\n",
              "      fill: #174EA6;\n",
              "    }\n",
              "\n",
              "    [theme=dark] .colab-df-convert {\n",
              "      background-color: #3B4455;\n",
              "      fill: #D2E3FC;\n",
              "    }\n",
              "\n",
              "    [theme=dark] .colab-df-convert:hover {\n",
              "      background-color: #434B5C;\n",
              "      box-shadow: 0px 1px 3px 1px rgba(0, 0, 0, 0.15);\n",
              "      filter: drop-shadow(0px 1px 2px rgba(0, 0, 0, 0.3));\n",
              "      fill: #FFFFFF;\n",
              "    }\n",
              "  </style>\n",
              "\n",
              "      <script>\n",
              "        const buttonEl =\n",
              "          document.querySelector('#df-3185ea01-93ad-45aa-b31a-9b8c40744d37 button.colab-df-convert');\n",
              "        buttonEl.style.display =\n",
              "          google.colab.kernel.accessAllowed ? 'block' : 'none';\n",
              "\n",
              "        async function convertToInteractive(key) {\n",
              "          const element = document.querySelector('#df-3185ea01-93ad-45aa-b31a-9b8c40744d37');\n",
              "          const dataTable =\n",
              "            await google.colab.kernel.invokeFunction('convertToInteractive',\n",
              "                                                     [key], {});\n",
              "          if (!dataTable) return;\n",
              "\n",
              "          const docLinkHtml = 'Like what you see? Visit the ' +\n",
              "            '<a target=\"_blank\" href=https://colab.research.google.com/notebooks/data_table.ipynb>data table notebook</a>'\n",
              "            + ' to learn more about interactive tables.';\n",
              "          element.innerHTML = '';\n",
              "          dataTable['output_type'] = 'display_data';\n",
              "          await google.colab.output.renderOutput(dataTable, element);\n",
              "          const docLink = document.createElement('div');\n",
              "          docLink.innerHTML = docLinkHtml;\n",
              "          element.appendChild(docLink);\n",
              "        }\n",
              "      </script>\n",
              "    </div>\n",
              "  </div>\n",
              "  "
            ],
            "text/plain": [
              "                 측정일시 측정소명  미세먼지 1시간(㎍/㎥)\n",
              "0 2020-04-30 23:00:00  종로구             40\n",
              "1 2020-04-30 23:00:00   중구             31"
            ]
          },
          "metadata": {},
          "execution_count": 29
        }
      ],
      "source": [
        "df = df[['측정일시', '측정소명','미세먼지 1시간(㎍/㎥)']].copy()\n",
        "df.head(2)"
      ]
    },
    {
      "cell_type": "markdown",
      "id": "20736286-4582-4de4-8c1a-05bd19db2790",
      "metadata": {
        "id": "20736286-4582-4de4-8c1a-05bd19db2790"
      },
      "source": [
        "# EDA"
      ]
    },
    {
      "cell_type": "code",
      "execution_count": null,
      "id": "f81cca6c-161c-4360-a431-8491c79a92be",
      "metadata": {
        "colab": {
          "base_uri": "https://localhost:8080/",
          "height": 797
        },
        "id": "f81cca6c-161c-4360-a431-8491c79a92be",
        "outputId": "972b61ea-9090-4551-f37e-07e276cd7ff4"
      },
      "outputs": [
        {
          "output_type": "stream",
          "name": "stdout",
          "text": [
            "측정소명\n",
            "강남구     37.991667\n",
            "강동구     43.100000\n",
            "강북구     46.843056\n",
            "강서구     44.644444\n",
            "관악구     42.352778\n",
            "광진구     43.195833\n",
            "구로구     46.881944\n",
            "금천구     39.061111\n",
            "노원구     45.326389\n",
            "도봉구     41.506944\n",
            "동대문구    38.659722\n",
            "동작구     48.633333\n",
            "마포구     40.162500\n",
            "서대문구    48.919444\n",
            "서초구     44.475000\n",
            "성동구     39.758333\n",
            "성북구     44.994444\n",
            "송파구     42.641667\n",
            "양천구     44.781944\n",
            "영등포구    39.716667\n",
            "용산구     44.798611\n",
            "은평구     45.851389\n",
            "종로구     41.561111\n",
            "중구      38.544444\n",
            "중랑구     42.206944\n",
            "Name: 미세먼지 1시간(㎍/㎥), dtype: float64\n"
          ]
        },
        {
          "output_type": "display_data",
          "data": {
            "image/png": "[encoded data removed]",
            "text/plain": [
              "<Figure size 432x288 with 1 Axes>"
            ]
          },
          "metadata": {}
        }
      ],
      "source": [
        "plt.rcParams['font.family']= 'Malgun Gothic'\n",
        "print(df.groupby(by=\"측정소명\")['미세먼지 1시간(㎍/㎥)'].mean())\n",
        "df.groupby(by=\"측정소명\")['미세먼지 1시간(㎍/㎥)'].mean().plot(kind='bar')\n",
        "plt.show()"
      ]
    },
    {
      "cell_type": "code",
      "execution_count": null,
      "id": "59653947-8dc4-4697-adb1-b4242d752c46",
      "metadata": {
        "colab": {
          "base_uri": "https://localhost:8080/",
          "height": 285
        },
        "id": "59653947-8dc4-4697-adb1-b4242d752c46",
        "outputId": "4e08552d-7909-4178-bf54-d632d360fa85"
      },
      "outputs": [
        {
          "output_type": "display_data",
          "data": {
            "image/png": "[encoded data removed]",
            "text/plain": [
              "<Figure size 432x288 with 1 Axes>"
            ]
          },
          "metadata": {}
        }
      ],
      "source": [
        "sns.barplot(data=df, x=\"측정소명\", y='미세먼지 1시간(㎍/㎥)')\n",
        "plt.show()"
      ]
    },
    {
      "cell_type": "markdown",
      "id": "3d985ef1-82c3-450c-982b-47f62ba63d55",
      "metadata": {
        "id": "3d985ef1-82c3-450c-982b-47f62ba63d55"
      },
      "source": [
        "## ARIAMA 모델을 위한 데이터셋 준비"
      ]
    },
    {
      "cell_type": "markdown",
      "id": "63f52753-cf8f-40f8-abb7-b26027f81d7a",
      "metadata": {
        "tags": [],
        "id": "63f52753-cf8f-40f8-abb7-b26027f81d7a"
      },
      "source": [
        "### (방법1) df[조건].copy()"
      ]
    },
    {
      "cell_type": "code",
      "execution_count": null,
      "id": "98477545-a143-483e-81f0-97da607e92b3",
      "metadata": {
        "id": "98477545-a143-483e-81f0-97da607e92b3"
      },
      "outputs": [],
      "source": [
        "dfg = df[df['측정소명']=='중구'][['측정일시', '미세먼지 1시간(㎍/㎥)']].copy()\n",
        "dfs = df[df['측정소명']=='서대문구'][['측정일시', '미세먼지 1시간(㎍/㎥)']].copy()"
      ]
    },
    {
      "cell_type": "code",
      "execution_count": null,
      "id": "92f01188-6459-40ec-bb52-9e09c544e78d",
      "metadata": {
        "colab": {
          "base_uri": "https://localhost:8080/",
          "height": 112
        },
        "id": "92f01188-6459-40ec-bb52-9e09c544e78d",
        "outputId": "d9bae2c8-0056-42a1-8b76-4dedb39d695e"
      },
      "outputs": [
        {
          "output_type": "execute_result",
          "data": {
            "text/html": [
              "\n",
              "  <div id=\"df-3d71e5ab-2f80-4c76-a4ef-5ddebd8dacc6\">\n",
              "    <div class=\"colab-df-container\">\n",
              "      <div>\n",
              "<style scoped>\n",
              "    .dataframe tbody tr th:only-of-type {\n",
              "        vertical-align: middle;\n",
              "    }\n",
              "\n",
              "    .dataframe tbody tr th {\n",
              "        vertical-align: top;\n",
              "    }\n",
              "\n",
              "    .dataframe thead th {\n",
              "        text-align: right;\n",
              "    }\n",
              "</style>\n",
              "<table border=\"1\" class=\"dataframe\">\n",
              "  <thead>\n",
              "    <tr style=\"text-align: right;\">\n",
              "      <th></th>\n",
              "      <th>측정일시</th>\n",
              "      <th>미세먼지 1시간(㎍/㎥)</th>\n",
              "    </tr>\n",
              "  </thead>\n",
              "  <tbody>\n",
              "    <tr>\n",
              "      <th>1</th>\n",
              "      <td>2020-04-30 23:00:00</td>\n",
              "      <td>31</td>\n",
              "    </tr>\n",
              "    <tr>\n",
              "      <th>26</th>\n",
              "      <td>2020-04-30 22:00:00</td>\n",
              "      <td>35</td>\n",
              "    </tr>\n",
              "  </tbody>\n",
              "</table>\n",
              "</div>\n",
              "      <button class=\"colab-df-convert\" onclick=\"convertToInteractive('df-3d71e5ab-2f80-4c76-a4ef-5ddebd8dacc6')\"\n",
              "              title=\"Convert this dataframe to an interactive table.\"\n",
              "              style=\"display:none;\">\n",
              "        \n",
              "  <svg xmlns=\"http://www.w3.org/2000/svg\" height=\"24px\"viewBox=\"0 0 24 24\"\n",
              "       width=\"24px\">\n",
              "    <path d=\"M0 0h24v24H0V0z\" fill=\"none\"/>\n",
              "    <path d=\"M18.56 5.44l.94 2.06.94-2.06 2.06-.94-2.06-.94-.94-2.06-.94 2.06-2.06.94zm-11 1L8.5 8.5l.94-2.06 2.06-.94-2.06-.94L8.5 2.5l-.94 2.06-2.06.94zm10 10l.94 2.06.94-2.06 2.06-.94-2.06-.94-.94-2.06-.94 2.06-2.06.94z\"/><path d=\"M17.41 7.96l-1.37-1.37c-.4-.4-.92-.59-1.43-.59-.52 0-1.04.2-1.43.59L10.3 9.45l-7.72 7.72c-.78.78-.78 2.05 0 2.83L4 21.41c.39.39.9.59 1.41.59.51 0 1.02-.2 1.41-.59l7.78-7.78 2.81-2.81c.8-.78.8-2.07 0-2.86zM5.41 20L4 18.59l7.72-7.72 1.47 1.35L5.41 20z\"/>\n",
              "  </svg>\n",
              "      </button>\n",
              "      \n",
              "  <style>\n",
              "    .colab-df-container {\n",
              "      display:flex;\n",
              "      flex-wrap:wrap;\n",
              "      gap: 12px;\n",
              "    }\n",
              "\n",
              "    .colab-df-convert {\n",
              "      background-color: #E8F0FE;\n",
              "      border: none;\n",
              "      border-radius: 50%;\n",
              "      cursor: pointer;\n",
              "      display: none;\n",
              "      fill: #1967D2;\n",
              "      height: 32px;\n",
              "      padding: 0 0 0 0;\n",
              "      width: 32px;\n",
              "    }\n",
              "\n",
              "    .colab-df-convert:hover {\n",
              "      background-color: #E2EBFA;\n",
              "      box-shadow: 0px 1px 2px rgba(60, 64, 67, 0.3), 0px 1px 3px 1px rgba(60, 64, 67, 0.15);\n",
              "      fill: #174EA6;\n",
              "    }\n",
              "\n",
              "    [theme=dark] .colab-df-convert {\n",
              "      background-color: #3B4455;\n",
              "      fill: #D2E3FC;\n",
              "    }\n",
              "\n",
              "    [theme=dark] .colab-df-convert:hover {\n",
              "      background-color: #434B5C;\n",
              "      box-shadow: 0px 1px 3px 1px rgba(0, 0, 0, 0.15);\n",
              "      filter: drop-shadow(0px 1px 2px rgba(0, 0, 0, 0.3));\n",
              "      fill: #FFFFFF;\n",
              "    }\n",
              "  </style>\n",
              "\n",
              "      <script>\n",
              "        const buttonEl =\n",
              "          document.querySelector('#df-3d71e5ab-2f80-4c76-a4ef-5ddebd8dacc6 button.colab-df-convert');\n",
              "        buttonEl.style.display =\n",
              "          google.colab.kernel.accessAllowed ? 'block' : 'none';\n",
              "\n",
              "        async function convertToInteractive(key) {\n",
              "          const element = document.querySelector('#df-3d71e5ab-2f80-4c76-a4ef-5ddebd8dacc6');\n",
              "          const dataTable =\n",
              "            await google.colab.kernel.invokeFunction('convertToInteractive',\n",
              "                                                     [key], {});\n",
              "          if (!dataTable) return;\n",
              "\n",
              "          const docLinkHtml = 'Like what you see? Visit the ' +\n",
              "            '<a target=\"_blank\" href=https://colab.research.google.com/notebooks/data_table.ipynb>data table notebook</a>'\n",
              "            + ' to learn more about interactive tables.';\n",
              "          element.innerHTML = '';\n",
              "          dataTable['output_type'] = 'display_data';\n",
              "          await google.colab.output.renderOutput(dataTable, element);\n",
              "          const docLink = document.createElement('div');\n",
              "          docLink.innerHTML = docLinkHtml;\n",
              "          element.appendChild(docLink);\n",
              "        }\n",
              "      </script>\n",
              "    </div>\n",
              "  </div>\n",
              "  "
            ],
            "text/plain": [
              "                  측정일시  미세먼지 1시간(㎍/㎥)\n",
              "1  2020-04-30 23:00:00             31\n",
              "26 2020-04-30 22:00:00             35"
            ]
          },
          "metadata": {},
          "execution_count": 36
        }
      ],
      "source": [
        "dfg.head(2)"
      ]
    },
    {
      "cell_type": "markdown",
      "id": "46a3467b-6cd2-4810-86a1-a9ef4a02795e",
      "metadata": {
        "id": "46a3467b-6cd2-4810-86a1-a9ef4a02795e"
      },
      "source": [
        "### (방법2) 피벗"
      ]
    },
    {
      "cell_type": "code",
      "execution_count": null,
      "id": "79b1ec8e-6241-449b-a993-aee51ef7cfb1",
      "metadata": {
        "colab": {
          "base_uri": "https://localhost:8080/"
        },
        "id": "79b1ec8e-6241-449b-a993-aee51ef7cfb1",
        "outputId": "fe3e3782-62d4-49a9-baba-4fa608dfb966"
      },
      "outputs": [
        {
          "output_type": "execute_result",
          "data": {
            "text/plain": [
              "측정일시                 측정소명\n",
              "2020-04-01 00:00:00  강남구     44.0\n",
              "                     강동구     51.0\n",
              "                     강북구     56.0\n",
              "                     강서구     52.0\n",
              "                     관악구     45.0\n",
              "                             ... \n",
              "2020-04-30 23:00:00  용산구     41.0\n",
              "                     은평구     32.0\n",
              "                     종로구     40.0\n",
              "                     중구      31.0\n",
              "                     중랑구     40.0\n",
              "Name: 미세먼지 1시간(㎍/㎥), Length: 18000, dtype: float64"
            ]
          },
          "metadata": {},
          "execution_count": 37
        }
      ],
      "source": [
        "df.groupby(by=[\"측정일시\",\"측정소명\"])['미세먼지 1시간(㎍/㎥)'].mean()"
      ]
    },
    {
      "cell_type": "code",
      "execution_count": null,
      "id": "a5c6f73e-a03c-4d35-9448-b404b0c87cd9",
      "metadata": {
        "colab": {
          "base_uri": "https://localhost:8080/",
          "height": 175
        },
        "id": "a5c6f73e-a03c-4d35-9448-b404b0c87cd9",
        "outputId": "34c743e8-1030-40d8-864d-a0241265af49"
      },
      "outputs": [
        {
          "output_type": "execute_result",
          "data": {
            "text/html": [
              "\n",
              "  <div id=\"df-a49256f6-8417-4af6-91a2-5b0d73ebf267\">\n",
              "    <div class=\"colab-df-container\">\n",
              "      <div>\n",
              "<style scoped>\n",
              "    .dataframe tbody tr th:only-of-type {\n",
              "        vertical-align: middle;\n",
              "    }\n",
              "\n",
              "    .dataframe tbody tr th {\n",
              "        vertical-align: top;\n",
              "    }\n",
              "\n",
              "    .dataframe thead th {\n",
              "        text-align: right;\n",
              "    }\n",
              "</style>\n",
              "<table border=\"1\" class=\"dataframe\">\n",
              "  <thead>\n",
              "    <tr style=\"text-align: right;\">\n",
              "      <th>측정소명</th>\n",
              "      <th>강남구</th>\n",
              "      <th>강동구</th>\n",
              "      <th>강북구</th>\n",
              "      <th>강서구</th>\n",
              "      <th>관악구</th>\n",
              "      <th>광진구</th>\n",
              "      <th>구로구</th>\n",
              "      <th>금천구</th>\n",
              "      <th>노원구</th>\n",
              "      <th>도봉구</th>\n",
              "      <th>동대문구</th>\n",
              "      <th>동작구</th>\n",
              "      <th>마포구</th>\n",
              "      <th>서대문구</th>\n",
              "      <th>서초구</th>\n",
              "      <th>성동구</th>\n",
              "      <th>성북구</th>\n",
              "      <th>송파구</th>\n",
              "      <th>양천구</th>\n",
              "      <th>영등포구</th>\n",
              "      <th>용산구</th>\n",
              "      <th>은평구</th>\n",
              "      <th>종로구</th>\n",
              "      <th>중구</th>\n",
              "      <th>중랑구</th>\n",
              "    </tr>\n",
              "    <tr>\n",
              "      <th>측정일시</th>\n",
              "      <th></th>\n",
              "      <th></th>\n",
              "      <th></th>\n",
              "      <th></th>\n",
              "      <th></th>\n",
              "      <th></th>\n",
              "      <th></th>\n",
              "      <th></th>\n",
              "      <th></th>\n",
              "      <th></th>\n",
              "      <th></th>\n",
              "      <th></th>\n",
              "      <th></th>\n",
              "      <th></th>\n",
              "      <th></th>\n",
              "      <th></th>\n",
              "      <th></th>\n",
              "      <th></th>\n",
              "      <th></th>\n",
              "      <th></th>\n",
              "      <th></th>\n",
              "      <th></th>\n",
              "      <th></th>\n",
              "      <th></th>\n",
              "      <th></th>\n",
              "    </tr>\n",
              "  </thead>\n",
              "  <tbody>\n",
              "    <tr>\n",
              "      <th>2020-04-01 00:00:00</th>\n",
              "      <td>44</td>\n",
              "      <td>51</td>\n",
              "      <td>56</td>\n",
              "      <td>52</td>\n",
              "      <td>45</td>\n",
              "      <td>54</td>\n",
              "      <td>62</td>\n",
              "      <td>39</td>\n",
              "      <td>56</td>\n",
              "      <td>57</td>\n",
              "      <td>44</td>\n",
              "      <td>51</td>\n",
              "      <td>48</td>\n",
              "      <td>55</td>\n",
              "      <td>55</td>\n",
              "      <td>45</td>\n",
              "      <td>48</td>\n",
              "      <td>51</td>\n",
              "      <td>52</td>\n",
              "      <td>46</td>\n",
              "      <td>58</td>\n",
              "      <td>54</td>\n",
              "      <td>46</td>\n",
              "      <td>44</td>\n",
              "      <td>51</td>\n",
              "    </tr>\n",
              "    <tr>\n",
              "      <th>2020-04-01 01:00:00</th>\n",
              "      <td>49</td>\n",
              "      <td>56</td>\n",
              "      <td>69</td>\n",
              "      <td>51</td>\n",
              "      <td>52</td>\n",
              "      <td>54</td>\n",
              "      <td>64</td>\n",
              "      <td>43</td>\n",
              "      <td>73</td>\n",
              "      <td>64</td>\n",
              "      <td>46</td>\n",
              "      <td>57</td>\n",
              "      <td>52</td>\n",
              "      <td>61</td>\n",
              "      <td>59</td>\n",
              "      <td>46</td>\n",
              "      <td>55</td>\n",
              "      <td>55</td>\n",
              "      <td>52</td>\n",
              "      <td>49</td>\n",
              "      <td>59</td>\n",
              "      <td>55</td>\n",
              "      <td>47</td>\n",
              "      <td>44</td>\n",
              "      <td>53</td>\n",
              "    </tr>\n",
              "    <tr>\n",
              "      <th>2020-04-01 02:00:00</th>\n",
              "      <td>50</td>\n",
              "      <td>55</td>\n",
              "      <td>90</td>\n",
              "      <td>59</td>\n",
              "      <td>57</td>\n",
              "      <td>61</td>\n",
              "      <td>79</td>\n",
              "      <td>52</td>\n",
              "      <td>91</td>\n",
              "      <td>82</td>\n",
              "      <td>51</td>\n",
              "      <td>68</td>\n",
              "      <td>51</td>\n",
              "      <td>61</td>\n",
              "      <td>68</td>\n",
              "      <td>52</td>\n",
              "      <td>90</td>\n",
              "      <td>55</td>\n",
              "      <td>60</td>\n",
              "      <td>51</td>\n",
              "      <td>60</td>\n",
              "      <td>52</td>\n",
              "      <td>53</td>\n",
              "      <td>47</td>\n",
              "      <td>64</td>\n",
              "    </tr>\n",
              "  </tbody>\n",
              "</table>\n",
              "</div>\n",
              "      <button class=\"colab-df-convert\" onclick=\"convertToInteractive('df-a49256f6-8417-4af6-91a2-5b0d73ebf267')\"\n",
              "              title=\"Convert this dataframe to an interactive table.\"\n",
              "              style=\"display:none;\">\n",
              "        \n",
              "  <svg xmlns=\"http://www.w3.org/2000/svg\" height=\"24px\"viewBox=\"0 0 24 24\"\n",
              "       width=\"24px\">\n",
              "    <path d=\"M0 0h24v24H0V0z\" fill=\"none\"/>\n",
              "    <path d=\"M18.56 5.44l.94 2.06.94-2.06 2.06-.94-2.06-.94-.94-2.06-.94 2.06-2.06.94zm-11 1L8.5 8.5l.94-2.06 2.06-.94-2.06-.94L8.5 2.5l-.94 2.06-2.06.94zm10 10l.94 2.06.94-2.06 2.06-.94-2.06-.94-.94-2.06-.94 2.06-2.06.94z\"/><path d=\"M17.41 7.96l-1.37-1.37c-.4-.4-.92-.59-1.43-.59-.52 0-1.04.2-1.43.59L10.3 9.45l-7.72 7.72c-.78.78-.78 2.05 0 2.83L4 21.41c.39.39.9.59 1.41.59.51 0 1.02-.2 1.41-.59l7.78-7.78 2.81-2.81c.8-.78.8-2.07 0-2.86zM5.41 20L4 18.59l7.72-7.72 1.47 1.35L5.41 20z\"/>\n",
              "  </svg>\n",
              "      </button>\n",
              "      \n",
              "  <style>\n",
              "    .colab-df-container {\n",
              "      display:flex;\n",
              "      flex-wrap:wrap;\n",
              "      gap: 12px;\n",
              "    }\n",
              "\n",
              "    .colab-df-convert {\n",
              "      background-color: #E8F0FE;\n",
              "      border: none;\n",
              "      border-radius: 50%;\n",
              "      cursor: pointer;\n",
              "      display: none;\n",
              "      fill: #1967D2;\n",
              "      height: 32px;\n",
              "      padding: 0 0 0 0;\n",
              "      width: 32px;\n",
              "    }\n",
              "\n",
              "    .colab-df-convert:hover {\n",
              "      background-color: #E2EBFA;\n",
              "      box-shadow: 0px 1px 2px rgba(60, 64, 67, 0.3), 0px 1px 3px 1px rgba(60, 64, 67, 0.15);\n",
              "      fill: #174EA6;\n",
              "    }\n",
              "\n",
              "    [theme=dark] .colab-df-convert {\n",
              "      background-color: #3B4455;\n",
              "      fill: #D2E3FC;\n",
              "    }\n",
              "\n",
              "    [theme=dark] .colab-df-convert:hover {\n",
              "      background-color: #434B5C;\n",
              "      box-shadow: 0px 1px 3px 1px rgba(0, 0, 0, 0.15);\n",
              "      filter: drop-shadow(0px 1px 2px rgba(0, 0, 0, 0.3));\n",
              "      fill: #FFFFFF;\n",
              "    }\n",
              "  </style>\n",
              "\n",
              "      <script>\n",
              "        const buttonEl =\n",
              "          document.querySelector('#df-a49256f6-8417-4af6-91a2-5b0d73ebf267 button.colab-df-convert');\n",
              "        buttonEl.style.display =\n",
              "          google.colab.kernel.accessAllowed ? 'block' : 'none';\n",
              "\n",
              "        async function convertToInteractive(key) {\n",
              "          const element = document.querySelector('#df-a49256f6-8417-4af6-91a2-5b0d73ebf267');\n",
              "          const dataTable =\n",
              "            await google.colab.kernel.invokeFunction('convertToInteractive',\n",
              "                                                     [key], {});\n",
              "          if (!dataTable) return;\n",
              "\n",
              "          const docLinkHtml = 'Like what you see? Visit the ' +\n",
              "            '<a target=\"_blank\" href=https://colab.research.google.com/notebooks/data_table.ipynb>data table notebook</a>'\n",
              "            + ' to learn more about interactive tables.';\n",
              "          element.innerHTML = '';\n",
              "          dataTable['output_type'] = 'display_data';\n",
              "          await google.colab.output.renderOutput(dataTable, element);\n",
              "          const docLink = document.createElement('div');\n",
              "          docLink.innerHTML = docLinkHtml;\n",
              "          element.appendChild(docLink);\n",
              "        }\n",
              "      </script>\n",
              "    </div>\n",
              "  </div>\n",
              "  "
            ],
            "text/plain": [
              "측정소명                 강남구  강동구  강북구  강서구  관악구  광진구  구로구  금천구  노원구  도봉구  동대문구  \\\n",
              "측정일시                                                                          \n",
              "2020-04-01 00:00:00   44   51   56   52   45   54   62   39   56   57    44   \n",
              "2020-04-01 01:00:00   49   56   69   51   52   54   64   43   73   64    46   \n",
              "2020-04-01 02:00:00   50   55   90   59   57   61   79   52   91   82    51   \n",
              "\n",
              "측정소명                 동작구  마포구  서대문구  서초구  성동구  성북구  송파구  양천구  영등포구  용산구  은평구  \\\n",
              "측정일시                                                                           \n",
              "2020-04-01 00:00:00   51   48    55   55   45   48   51   52    46   58   54   \n",
              "2020-04-01 01:00:00   57   52    61   59   46   55   55   52    49   59   55   \n",
              "2020-04-01 02:00:00   68   51    61   68   52   90   55   60    51   60   52   \n",
              "\n",
              "측정소명                 종로구  중구  중랑구  \n",
              "측정일시                               \n",
              "2020-04-01 00:00:00   46  44   51  \n",
              "2020-04-01 01:00:00   47  44   53  \n",
              "2020-04-01 02:00:00   53  47   64  "
            ]
          },
          "metadata": {},
          "execution_count": 38
        }
      ],
      "source": [
        "pvdf = df.pivot_table(values='미세먼지 1시간(㎍/㎥)',\n",
        "                    index=\"측정일시\",\n",
        "                    columns=\"측정소명\",\n",
        "                    aggfunc=\"mean\")\n",
        "pvdf.head(3)     "
      ]
    },
    {
      "cell_type": "code",
      "execution_count": null,
      "id": "313fda22-3b79-479c-abfc-fe2a36e1c408",
      "metadata": {
        "colab": {
          "base_uri": "https://localhost:8080/",
          "height": 238
        },
        "id": "313fda22-3b79-479c-abfc-fe2a36e1c408",
        "outputId": "f5bcb806-5490-43da-8996-627998a27542"
      },
      "outputs": [
        {
          "output_type": "execute_result",
          "data": {
            "text/html": [
              "\n",
              "  <div id=\"df-1f6a47f0-7cd9-4c58-bfc9-9a164daa5a63\">\n",
              "    <div class=\"colab-df-container\">\n",
              "      <div>\n",
              "<style scoped>\n",
              "    .dataframe tbody tr th:only-of-type {\n",
              "        vertical-align: middle;\n",
              "    }\n",
              "\n",
              "    .dataframe tbody tr th {\n",
              "        vertical-align: top;\n",
              "    }\n",
              "\n",
              "    .dataframe thead th {\n",
              "        text-align: right;\n",
              "    }\n",
              "</style>\n",
              "<table border=\"1\" class=\"dataframe\">\n",
              "  <thead>\n",
              "    <tr style=\"text-align: right;\">\n",
              "      <th>측정소명</th>\n",
              "      <th>중구</th>\n",
              "      <th>서대문구</th>\n",
              "    </tr>\n",
              "    <tr>\n",
              "      <th>측정일시</th>\n",
              "      <th></th>\n",
              "      <th></th>\n",
              "    </tr>\n",
              "  </thead>\n",
              "  <tbody>\n",
              "    <tr>\n",
              "      <th>2020-04-01 00:00:00</th>\n",
              "      <td>44</td>\n",
              "      <td>55</td>\n",
              "    </tr>\n",
              "    <tr>\n",
              "      <th>2020-04-01 01:00:00</th>\n",
              "      <td>44</td>\n",
              "      <td>61</td>\n",
              "    </tr>\n",
              "    <tr>\n",
              "      <th>2020-04-01 02:00:00</th>\n",
              "      <td>47</td>\n",
              "      <td>61</td>\n",
              "    </tr>\n",
              "    <tr>\n",
              "      <th>2020-04-01 03:00:00</th>\n",
              "      <td>56</td>\n",
              "      <td>88</td>\n",
              "    </tr>\n",
              "    <tr>\n",
              "      <th>2020-04-01 04:00:00</th>\n",
              "      <td>71</td>\n",
              "      <td>83</td>\n",
              "    </tr>\n",
              "  </tbody>\n",
              "</table>\n",
              "</div>\n",
              "      <button class=\"colab-df-convert\" onclick=\"convertToInteractive('df-1f6a47f0-7cd9-4c58-bfc9-9a164daa5a63')\"\n",
              "              title=\"Convert this dataframe to an interactive table.\"\n",
              "              style=\"display:none;\">\n",
              "        \n",
              "  <svg xmlns=\"http://www.w3.org/2000/svg\" height=\"24px\"viewBox=\"0 0 24 24\"\n",
              "       width=\"24px\">\n",
              "    <path d=\"M0 0h24v24H0V0z\" fill=\"none\"/>\n",
              "    <path d=\"M18.56 5.44l.94 2.06.94-2.06 2.06-.94-2.06-.94-.94-2.06-.94 2.06-2.06.94zm-11 1L8.5 8.5l.94-2.06 2.06-.94-2.06-.94L8.5 2.5l-.94 2.06-2.06.94zm10 10l.94 2.06.94-2.06 2.06-.94-2.06-.94-.94-2.06-.94 2.06-2.06.94z\"/><path d=\"M17.41 7.96l-1.37-1.37c-.4-.4-.92-.59-1.43-.59-.52 0-1.04.2-1.43.59L10.3 9.45l-7.72 7.72c-.78.78-.78 2.05 0 2.83L4 21.41c.39.39.9.59 1.41.59.51 0 1.02-.2 1.41-.59l7.78-7.78 2.81-2.81c.8-.78.8-2.07 0-2.86zM5.41 20L4 18.59l7.72-7.72 1.47 1.35L5.41 20z\"/>\n",
              "  </svg>\n",
              "      </button>\n",
              "      \n",
              "  <style>\n",
              "    .colab-df-container {\n",
              "      display:flex;\n",
              "      flex-wrap:wrap;\n",
              "      gap: 12px;\n",
              "    }\n",
              "\n",
              "    .colab-df-convert {\n",
              "      background-color: #E8F0FE;\n",
              "      border: none;\n",
              "      border-radius: 50%;\n",
              "      cursor: pointer;\n",
              "      display: none;\n",
              "      fill: #1967D2;\n",
              "      height: 32px;\n",
              "      padding: 0 0 0 0;\n",
              "      width: 32px;\n",
              "    }\n",
              "\n",
              "    .colab-df-convert:hover {\n",
              "      background-color: #E2EBFA;\n",
              "      box-shadow: 0px 1px 2px rgba(60, 64, 67, 0.3), 0px 1px 3px 1px rgba(60, 64, 67, 0.15);\n",
              "      fill: #174EA6;\n",
              "    }\n",
              "\n",
              "    [theme=dark] .colab-df-convert {\n",
              "      background-color: #3B4455;\n",
              "      fill: #D2E3FC;\n",
              "    }\n",
              "\n",
              "    [theme=dark] .colab-df-convert:hover {\n",
              "      background-color: #434B5C;\n",
              "      box-shadow: 0px 1px 3px 1px rgba(0, 0, 0, 0.15);\n",
              "      filter: drop-shadow(0px 1px 2px rgba(0, 0, 0, 0.3));\n",
              "      fill: #FFFFFF;\n",
              "    }\n",
              "  </style>\n",
              "\n",
              "      <script>\n",
              "        const buttonEl =\n",
              "          document.querySelector('#df-1f6a47f0-7cd9-4c58-bfc9-9a164daa5a63 button.colab-df-convert');\n",
              "        buttonEl.style.display =\n",
              "          google.colab.kernel.accessAllowed ? 'block' : 'none';\n",
              "\n",
              "        async function convertToInteractive(key) {\n",
              "          const element = document.querySelector('#df-1f6a47f0-7cd9-4c58-bfc9-9a164daa5a63');\n",
              "          const dataTable =\n",
              "            await google.colab.kernel.invokeFunction('convertToInteractive',\n",
              "                                                     [key], {});\n",
              "          if (!dataTable) return;\n",
              "\n",
              "          const docLinkHtml = 'Like what you see? Visit the ' +\n",
              "            '<a target=\"_blank\" href=https://colab.research.google.com/notebooks/data_table.ipynb>data table notebook</a>'\n",
              "            + ' to learn more about interactive tables.';\n",
              "          element.innerHTML = '';\n",
              "          dataTable['output_type'] = 'display_data';\n",
              "          await google.colab.output.renderOutput(dataTable, element);\n",
              "          const docLink = document.createElement('div');\n",
              "          docLink.innerHTML = docLinkHtml;\n",
              "          element.appendChild(docLink);\n",
              "        }\n",
              "      </script>\n",
              "    </div>\n",
              "  </div>\n",
              "  "
            ],
            "text/plain": [
              "측정소명                 중구  서대문구\n",
              "측정일시                         \n",
              "2020-04-01 00:00:00  44    55\n",
              "2020-04-01 01:00:00  44    61\n",
              "2020-04-01 02:00:00  47    61\n",
              "2020-04-01 03:00:00  56    88\n",
              "2020-04-01 04:00:00  71    83"
            ]
          },
          "metadata": {},
          "execution_count": 39
        }
      ],
      "source": [
        "pvdf[[\"중구\",'서대문구']].head()"
      ]
    },
    {
      "cell_type": "code",
      "execution_count": null,
      "id": "494e14ab-89e4-46b8-beb0-b20d346cad8b",
      "metadata": {
        "colab": {
          "base_uri": "https://localhost:8080/",
          "height": 303
        },
        "id": "494e14ab-89e4-46b8-beb0-b20d346cad8b",
        "outputId": "7c1671ba-c940-4644-fbbb-ae0269fc1d72"
      },
      "outputs": [
        {
          "output_type": "stream",
          "name": "stderr",
          "text": [
            "No handles with labels found to put in legend.\n"
          ]
        },
        {
          "output_type": "display_data",
          "data": {
            "image/png": "[encoded data removed]",
            "text/plain": [
              "<Figure size 1152x288 with 3 Axes>"
            ]
          },
          "metadata": {}
        }
      ],
      "source": [
        "f, axs=plt.subplots(1,3, figsize=(16,4))\n",
        "sns.lineplot(x=pvdf.index, y=pvdf['중구']    , ax=axs[0])\n",
        "sns.lineplot(x=pvdf.index, y=pvdf['서대문구'], ax=axs[0])\n",
        "axs[0].legend()\n",
        "\n",
        "sns.boxplot(pvdf['중구']   , ax=axs[1])\n",
        "sns.boxplot(pvdf['서대문구'], ax=axs[2])\n",
        "plt.show()\n"
      ]
    },
    {
      "cell_type": "markdown",
      "id": "d3711b68-21c5-4f1b-b87e-35ea483f9312",
      "metadata": {
        "tags": [],
        "id": "d3711b68-21c5-4f1b-b87e-35ea483f9312"
      },
      "source": [
        "# 차분 계산"
      ]
    },
    {
      "cell_type": "code",
      "execution_count": null,
      "id": "c92513f1-bca4-44ca-8144-84e12396d6c4",
      "metadata": {
        "id": "c92513f1-bca4-44ca-8144-84e12396d6c4"
      },
      "outputs": [],
      "source": [
        "pvdf = pvdf['중구'].copy()"
      ]
    },
    {
      "cell_type": "markdown",
      "id": "02d3f848-c905-41a3-b7d7-0f96b3a3506d",
      "metadata": {
        "tags": [],
        "id": "02d3f848-c905-41a3-b7d7-0f96b3a3506d"
      },
      "source": [
        "### ACF PACF plot"
      ]
    },
    {
      "cell_type": "code",
      "execution_count": null,
      "id": "d1ba4f12-afe0-4ae5-a720-14f475b34331",
      "metadata": {
        "id": "d1ba4f12-afe0-4ae5-a720-14f475b34331"
      },
      "outputs": [],
      "source": [
        "from statsmodels.graphics.tsaplots import plot_acf, plot_pacf\n",
        "# from statsmodels.tsa.arima.model import ARIMA  #statsmodel version 1.12  over\n",
        "from statsmodels.tsa.arima_model import ARIMA  #statsmodel version 1.10.2  under"
      ]
    },
    {
      "cell_type": "markdown",
      "id": "1937d8e4-1a3a-470f-a6c3-bbcec902a11f",
      "metadata": {
        "id": "1937d8e4-1a3a-470f-a6c3-bbcec902a11f"
      },
      "source": [
        "### I : 1"
      ]
    },
    {
      "cell_type": "code",
      "execution_count": null,
      "id": "4b8fdd42-e21b-40ce-ace7-194c3108d222",
      "metadata": {
        "id": "4b8fdd42-e21b-40ce-ace7-194c3108d222"
      },
      "outputs": [],
      "source": [
        "# pvdf = pvdf.dropna()\n",
        "# pvdf.head()"
      ]
    },
    {
      "cell_type": "markdown",
      "id": "6ec99a3f-e97a-4c1d-a6e6-b47209a4823e",
      "metadata": {
        "id": "6ec99a3f-e97a-4c1d-a6e6-b47209a4823e"
      },
      "source": [
        "### AR : 2, MA:2"
      ]
    },
    {
      "cell_type": "markdown",
      "id": "abe4289f-3dd9-4deb-943f-37e7475a06be",
      "metadata": {
        "id": "abe4289f-3dd9-4deb-943f-37e7475a06be"
      },
      "source": [
        "* AR모형 - 2차수~ 3차수\n",
        "* MA모형 - 2차수\n",
        "* I : 1~2차분"
      ]
    },
    {
      "cell_type": "code",
      "execution_count": null,
      "id": "ed768adc-4205-4e9d-91d3-c978fe015a33",
      "metadata": {
        "colab": {
          "base_uri": "https://localhost:8080/",
          "height": 284
        },
        "id": "ed768adc-4205-4e9d-91d3-c978fe015a33",
        "outputId": "38f51433-8a1a-46bb-f682-34c8117b073f"
      },
      "outputs": [
        {
          "output_type": "display_data",
          "data": {
            "image/png": "[encoded data removed]",
            "text/plain": [
              "<Figure size 720x288 with 2 Axes>"
            ]
          },
          "metadata": {}
        }
      ],
      "source": [
        "p, axes = plt.subplots(1,2,figsize=(10,4))\n",
        "plot_acf(pvdf.diff(1).dropna(), ax=axes[0])\n",
        "plot_pacf(pvdf.diff(1).dropna(), ax=axes[1])\n",
        "plt.show()"
      ]
    },
    {
      "cell_type": "markdown",
      "id": "d19104eb-8304-4b0e-98ad-16d8f4f4af2f",
      "metadata": {
        "tags": [],
        "id": "d19104eb-8304-4b0e-98ad-16d8f4f4af2f"
      },
      "source": [
        "# 모델학습 & 평가"
      ]
    },
    {
      "cell_type": "code",
      "execution_count": null,
      "id": "e54a801b-e8dd-4d37-9c2c-5e5acda1b7ca",
      "metadata": {
        "colab": {
          "base_uri": "https://localhost:8080/"
        },
        "id": "e54a801b-e8dd-4d37-9c2c-5e5acda1b7ca",
        "outputId": "27445294-aae4-4771-d3e4-45d68a54be5a"
      },
      "outputs": [
        {
          "output_type": "stream",
          "name": "stdout",
          "text": [
            "                             ARIMA Model Results                              \n",
            "==============================================================================\n",
            "Dep. Variable:                   D.중구   No. Observations:                  719\n",
            "Model:                 ARIMA(1, 1, 2)   Log Likelihood               -2337.423\n",
            "Method:                       css-mle   S.D. of innovations              6.245\n",
            "Date:                Tue, 08 Feb 2022   AIC                           4682.845\n",
            "Time:                        01:03:36   BIC                           4701.157\n",
            "Sample:                    04-01-2020   HQIC                          4689.915\n",
            "                         - 04-30-2020                                         \n",
            "==============================================================================\n",
            "                 coef    std err          z      P>|z|      [0.025      0.975]\n",
            "------------------------------------------------------------------------------\n",
            "ar.L1.D.중구    -0.3447      0.126     -2.744      0.006      -0.591      -0.099\n",
            "ma.L1.D.중구     0.6959      0.119      5.871      0.000       0.464       0.928\n",
            "ma.L2.D.중구     0.3384      0.042      8.017      0.000       0.256       0.421\n",
            "                                    Roots                                    \n",
            "=============================================================================\n",
            "                  Real          Imaginary           Modulus         Frequency\n",
            "-----------------------------------------------------------------------------\n",
            "AR.1           -2.9007           +0.0000j            2.9007            0.5000\n",
            "MA.1           -1.0280           -1.3776j            1.7189           -0.3520\n",
            "MA.2           -1.0280           +1.3776j            1.7189            0.3520\n",
            "-----------------------------------------------------------------------------\n"
          ]
        }
      ],
      "source": [
        "model = ARIMA(pvdf, order=(1,1,2), freq='H')\n",
        "fit_res = model.fit(trend='nc')\n",
        "print(fit_res.summary())"
      ]
    },
    {
      "cell_type": "code",
      "execution_count": null,
      "id": "1c038279-ef5e-4a64-bf10-d5447dbd050c",
      "metadata": {
        "colab": {
          "base_uri": "https://localhost:8080/",
          "height": 301
        },
        "id": "1c038279-ef5e-4a64-bf10-d5447dbd050c",
        "outputId": "1b0ae10d-29e6-4df3-fe61-a2f4bca9b931"
      },
      "outputs": [
        {
          "output_type": "display_data",
          "data": {
            "image/png": "[encoded data removed]",
            "text/plain": [
              "<Figure size 432x288 with 1 Axes>"
            ]
          },
          "metadata": {}
        }
      ],
      "source": [
        "fit_res.plot_predict(dynamic=False)  # in-sample lagged values are used for prediction\n",
        "plt.show()"
      ]
    },
    {
      "cell_type": "markdown",
      "id": "fc10e58f-57fc-4792-bc0f-94e88a6c30c1",
      "metadata": {
        "id": "fc10e58f-57fc-4792-bc0f-94e88a6c30c1"
      },
      "source": [
        "* ‘linear’ : Linear prediction in terms of the differenced endogenous variables.\n",
        "* ‘levels’ : Predict the levels of the original endogenous variables."
      ]
    },
    {
      "cell_type": "code",
      "execution_count": null,
      "id": "c7797b68-3790-45ee-83bd-b0cc1ba2bd41",
      "metadata": {
        "colab": {
          "base_uri": "https://localhost:8080/"
        },
        "id": "c7797b68-3790-45ee-83bd-b0cc1ba2bd41",
        "outputId": "bdbd7ba9-597e-4322-ea59-82d9048cd420"
      },
      "outputs": [
        {
          "output_type": "stream",
          "name": "stdout",
          "text": [
            "2020-04-01 01:00:00    44.000000\n",
            "2020-04-01 02:00:00    44.000000\n",
            "2020-04-01 03:00:00    47.986721\n",
            "2020-04-01 04:00:00    59.340968\n",
            "2020-04-01 05:00:00    76.556699\n",
            "Freq: H, dtype: float64\n",
            "측정일시\n",
            "2020-04-01 01:00:00    44\n",
            "2020-04-01 02:00:00    47\n",
            "2020-04-01 03:00:00    56\n",
            "2020-04-01 04:00:00    71\n",
            "2020-04-01 05:00:00    70\n",
            "Name: 중구, dtype: int64\n"
          ]
        }
      ],
      "source": [
        "# train = pvdf['중구'].iloc[:-5] \n",
        "# test  = pvdf['중구'].iloc[-5:]\n",
        "\n",
        "model = ARIMA(pvdf, order=(1,1,2), freq='H')\n",
        "fit_res = model.fit(trend='nc')\n",
        "# pred = fit_res.forecast(steps=3)  # 4,145.1\n",
        "pred = fit_res.predict(start=1, end=30, typ='levels', dynamic=False)\n",
        "\n",
        "print(pred[:5])\n",
        "print(pvdf.dropna()[1:6])"
      ]
    },
    {
      "cell_type": "code",
      "execution_count": null,
      "id": "2ab20519-3bbb-43b2-bfed-a06d903c685c",
      "metadata": {
        "id": "2ab20519-3bbb-43b2-bfed-a06d903c685c"
      },
      "outputs": [],
      "source": [
        ""
      ]
    },
    {
      "cell_type": "code",
      "execution_count": null,
      "id": "b30926ea-50d5-4f8e-90b6-1f07aa8c0893",
      "metadata": {
        "id": "b30926ea-50d5-4f8e-90b6-1f07aa8c0893"
      },
      "outputs": [],
      "source": [
        ""
      ]
    },
    {
      "cell_type": "code",
      "execution_count": null,
      "id": "3cf77d31-c4f6-483e-8a97-7074398991e0",
      "metadata": {
        "id": "3cf77d31-c4f6-483e-8a97-7074398991e0"
      },
      "outputs": [],
      "source": [
        ""
      ]
    },
    {
      "cell_type": "code",
      "execution_count": null,
      "id": "4ec8635a-93f8-4534-a826-dcc7f6bf6128",
      "metadata": {
        "id": "4ec8635a-93f8-4534-a826-dcc7f6bf6128"
      },
      "outputs": [],
      "source": [
        ""
      ]
    }
  ],
  "metadata": {
    "kernelspec": {
      "display_name": "Python 3 (ipykernel)",
      "language": "python",
      "name": "python3"
    },
    "language_info": {
      "codemirror_mode": {
        "name": "ipython",
        "version": 3
      },
      "file_extension": ".py",
      "mimetype": "text/x-python",
      "name": "python",
      "nbconvert_exporter": "python",
      "pygments_lexer": "ipython3",
      "version": "3.8.8"
    },
    "colab": {
      "name": "lec18_ARIMA_daily_seoul_air_cond.ipynb",
      "provenance": [],
      "include_colab_link": true
    }
  },
  "nbformat": 4,
  "nbformat_minor": 5
}