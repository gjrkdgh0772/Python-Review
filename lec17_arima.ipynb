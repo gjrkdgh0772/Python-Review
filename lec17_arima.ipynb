{
  "cells": [
    {
      "cell_type": "markdown",
      "metadata": {
        "id": "view-in-github",
        "colab_type": "text"
      },
      "source": [
        "<a href=\"https://colab.research.google.com/github/gjrkdgh0772/Python-Review/blob/master/lec17_arima.ipynb\" target=\"_parent\"><img src=\"https://colab.research.google.com/assets/colab-badge.svg\" alt=\"Open In Colab\"/></a>"
      ]
    },
    {
      "cell_type": "markdown",
      "id": "d81c4e9f-f9fb-4ed2-a6cb-468a1f408848",
      "metadata": {
        "id": "d81c4e9f-f9fb-4ed2-a6cb-468a1f408848"
      },
      "source": [
        "# lec17. ARIMA - Time Seris Model"
      ]
    },
    {
      "cell_type": "code",
      "execution_count": null,
      "id": "48afe023-9418-43a2-b256-dcfa2a0ec38a",
      "metadata": {
        "id": "48afe023-9418-43a2-b256-dcfa2a0ec38a"
      },
      "outputs": [],
      "source": [
        "import pandas as pd\n",
        "import numpy as np\n",
        "import matplotlib.pyplot as plt\n",
        "import seaborn as sns\n",
        "\n",
        "import datetime as dt"
      ]
    },
    {
      "cell_type": "code",
      "execution_count": null,
      "id": "b6dd5a65-ea42-4c39-8d9c-bc61e4fbf320",
      "metadata": {
        "id": "b6dd5a65-ea42-4c39-8d9c-bc61e4fbf320"
      },
      "outputs": [],
      "source": [
        "df = pd.read_csv(\"./lec17_bitcoin.txt\", sep=\"\\t\",\n",
        "                # dtype={\n",
        "                #        'Price':'float64', \n",
        "                #        'Open':'float64', \n",
        "                #        'High':'float64', \n",
        "                #        'Low':'float64', \n",
        "                #        'Vol.':'float64'}\n",
        "                #, parse_dates=\"Date\"  dtype\n",
        "                ) "
      ]
    },
    {
      "cell_type": "code",
      "execution_count": null,
      "id": "40fd36d9-f72d-48f4-9805-4cdfdf567dc0",
      "metadata": {
        "id": "40fd36d9-f72d-48f4-9805-4cdfdf567dc0",
        "outputId": "491d1c67-4d20-4a45-ba7b-3ea9a8aa4a98"
      },
      "outputs": [
        {
          "data": {
            "text/plain": [
              "Index(['Date', 'Price', 'Open', 'High', 'Low', 'Vol.', 'Change'], dtype='object')"
            ]
          },
          "execution_count": 3,
          "metadata": {},
          "output_type": "execute_result"
        }
      ],
      "source": [
        "df.columns"
      ]
    },
    {
      "cell_type": "code",
      "execution_count": null,
      "id": "c14c4806-1443-4676-b1f7-aacd42dd6d5a",
      "metadata": {
        "id": "c14c4806-1443-4676-b1f7-aacd42dd6d5a",
        "outputId": "79da4a6b-5583-4a2d-f595-44e6bf906db5"
      },
      "outputs": [
        {
          "name": "stdout",
          "output_type": "stream",
          "text": [
            "(59, 7)\n",
            "<class 'pandas.core.frame.DataFrame'>\n",
            "RangeIndex: 59 entries, 0 to 58\n",
            "Data columns (total 7 columns):\n",
            " #   Column  Non-Null Count  Dtype  \n",
            "---  ------  --------------  -----  \n",
            " 0   Date    59 non-null     object \n",
            " 1   Price   59 non-null     object \n",
            " 2   Open    59 non-null     object \n",
            " 3   High    59 non-null     object \n",
            " 4   Low     59 non-null     object \n",
            " 5   Vol.    59 non-null     object \n",
            " 6   Change  59 non-null     float64\n",
            "dtypes: float64(1), object(6)\n",
            "memory usage: 3.4+ KB\n",
            "None\n"
          ]
        },
        {
          "data": {
            "text/html": [
              "<div>\n",
              "<style scoped>\n",
              "    .dataframe tbody tr th:only-of-type {\n",
              "        vertical-align: middle;\n",
              "    }\n",
              "\n",
              "    .dataframe tbody tr th {\n",
              "        vertical-align: top;\n",
              "    }\n",
              "\n",
              "    .dataframe thead th {\n",
              "        text-align: right;\n",
              "    }\n",
              "</style>\n",
              "<table border=\"1\" class=\"dataframe\">\n",
              "  <thead>\n",
              "    <tr style=\"text-align: right;\">\n",
              "      <th></th>\n",
              "      <th>Date</th>\n",
              "      <th>Price</th>\n",
              "      <th>Open</th>\n",
              "      <th>High</th>\n",
              "      <th>Low</th>\n",
              "      <th>Vol.</th>\n",
              "      <th>Change</th>\n",
              "    </tr>\n",
              "  </thead>\n",
              "  <tbody>\n",
              "    <tr>\n",
              "      <th>0</th>\n",
              "      <td>31-Mar-19</td>\n",
              "      <td>4,102.30</td>\n",
              "      <td>4,111.80</td>\n",
              "      <td>4,121.90</td>\n",
              "      <td>4,082.20</td>\n",
              "      <td>2.43M</td>\n",
              "      <td>-23.0</td>\n",
              "    </tr>\n",
              "    <tr>\n",
              "      <th>1</th>\n",
              "      <td>30-Mar-19</td>\n",
              "      <td>4,111.80</td>\n",
              "      <td>4,103.70</td>\n",
              "      <td>4,138.10</td>\n",
              "      <td>4,057.10</td>\n",
              "      <td>2.55M</td>\n",
              "      <td>23.0</td>\n",
              "    </tr>\n",
              "    <tr>\n",
              "      <th>2</th>\n",
              "      <td>29-Mar-19</td>\n",
              "      <td>4,102.20</td>\n",
              "      <td>4,025.70</td>\n",
              "      <td>4,123.10</td>\n",
              "      <td>4,022.60</td>\n",
              "      <td>3.30M</td>\n",
              "      <td>190.0</td>\n",
              "    </tr>\n",
              "    <tr>\n",
              "      <th>3</th>\n",
              "      <td>28-Mar-19</td>\n",
              "      <td>4,025.60</td>\n",
              "      <td>4,041.70</td>\n",
              "      <td>4,041.70</td>\n",
              "      <td>4,008.40</td>\n",
              "      <td>2.11M</td>\n",
              "      <td>-40.0</td>\n",
              "    </tr>\n",
              "    <tr>\n",
              "      <th>4</th>\n",
              "      <td>27-Mar-19</td>\n",
              "      <td>4,041.70</td>\n",
              "      <td>3,942.80</td>\n",
              "      <td>4,043.30</td>\n",
              "      <td>3,936.20</td>\n",
              "      <td>2.78M</td>\n",
              "      <td>251.0</td>\n",
              "    </tr>\n",
              "  </tbody>\n",
              "</table>\n",
              "</div>"
            ],
            "text/plain": [
              "        Date     Price      Open      High       Low   Vol.  Change\n",
              "0  31-Mar-19  4,102.30  4,111.80  4,121.90  4,082.20  2.43M   -23.0\n",
              "1  30-Mar-19  4,111.80  4,103.70  4,138.10  4,057.10  2.55M    23.0\n",
              "2  29-Mar-19  4,102.20  4,025.70  4,123.10  4,022.60  3.30M   190.0\n",
              "3  28-Mar-19  4,025.60  4,041.70  4,041.70  4,008.40  2.11M   -40.0\n",
              "4  27-Mar-19  4,041.70  3,942.80  4,043.30  3,936.20  2.78M   251.0"
            ]
          },
          "execution_count": 4,
          "metadata": {},
          "output_type": "execute_result"
        }
      ],
      "source": [
        "print(df.shape)\n",
        "print(df.info())\n",
        "df.head()\n"
      ]
    },
    {
      "cell_type": "markdown",
      "id": "03420819-9a19-497f-bf76-59a631c5c6fd",
      "metadata": {
        "id": "03420819-9a19-497f-bf76-59a631c5c6fd"
      },
      "source": [
        "# 콤마 없에기, 날짜 포맷변경"
      ]
    },
    {
      "cell_type": "markdown",
      "id": "d0a2123a-914b-4c1e-83cc-3305e123fe3f",
      "metadata": {
        "id": "d0a2123a-914b-4c1e-83cc-3305e123fe3f"
      },
      "source": [
        "<table style=\"border-collapse: collapse; width: 100%; height: 452px;\" border=\"1\" data-ke-style=\"style15\">\n",
        "<tbody>\n",
        "<tr style=\"height: 18px;\">\n",
        "<td style=\"width: 8.83722%; height: 18px;\"><b>포맷 코드</b></td>\n",
        "<td style=\"width: 47.7616%; height: 18px;\">설명</td>\n",
        "<td style=\"width: 24.9419%; height: 18px;\">예</td>\n",
        "</tr>\n",
        "<tr style=\"height: 38px;\">\n",
        "<td style=\"width: 8.83722%; height: 38px;\"><b>%a</b></td>\n",
        "<td style=\"width: 47.7616%; height: 38px;\">요일을 짧게 표시합니다.</td>\n",
        "<td style=\"width: 24.9419%; height: 38px;\">Sun</td>\n",
        "</tr>\n",
        "<tr style=\"height: 18px;\">\n",
        "<td style=\"width: 8.83722%; height: 18px;\"><b>%A</b></td>\n",
        "<td style=\"width: 47.7616%; height: 18px;\">요일을 길게 표시합니다.</td>\n",
        "<td style=\"width: 24.9419%; height: 18px;\">Sunday</td>\n",
        "</tr>\n",
        "<tr style=\"height: 18px;\">\n",
        "<td style=\"width: 8.83722%; height: 18px;\"><b>%w</b></td>\n",
        "<td style=\"width: 47.7616%; height: 18px;\">요일을 숫자로 표시합니다. 일요일을 0부터 시작하여 토요일은 6입니다.</td>\n",
        "<td style=\"width: 24.9419%; height: 18px;\">0</td>\n",
        "</tr>\n",
        "<tr style=\"height: 18px;\">\n",
        "<td style=\"width: 8.83722%; height: 18px;\"><b>%d</b></td>\n",
        "<td style=\"width: 47.7616%; height: 18px;\">날(day)을 출력합니다. 1부터 31까지가 있겠죠</td>\n",
        "<td style=\"width: 24.9419%; height: 18px;\">18</td>\n",
        "</tr>\n",
        "<tr style=\"height: 18px;\">\n",
        "<td style=\"width: 8.83722%; height: 18px;\"><b>%b</b></td>\n",
        "<td style=\"width: 47.7616%; height: 18px;\">월을 영어로 짧게 출력해줍니다.</td>\n",
        "<td style=\"width: 24.9419%; height: 18px;\">Apr</td>\n",
        "</tr>\n",
        "<tr style=\"height: 18px;\">\n",
        "<td style=\"width: 8.83722%; height: 18px;\"><b>%B</b></td>\n",
        "<td style=\"width: 47.7616%; height: 18px;\">월을 영어로 길게 출력해줍니다.</td>\n",
        "<td style=\"width: 24.9419%; height: 18px;\">April</td>\n",
        "</tr>\n",
        "<tr style=\"height: 18px;\">\n",
        "<td style=\"width: 8.83722%; height: 18px;\"><b>%m</b></td>\n",
        "<td style=\"width: 47.7616%; height: 18px;\">월을 숫자로 표현합니다.</td>\n",
        "<td style=\"width: 24.9419%; height: 18px;\">04</td>\n",
        "</tr>\n",
        "<tr style=\"height: 18px;\">\n",
        "<td style=\"width: 8.83722%; height: 18px;\"><b>%y</b></td>\n",
        "<td style=\"width: 47.7616%; height: 18px;\">년을 짧게 숫자로 표시합니다</td>\n",
        "<td style=\"width: 24.9419%; height: 18px;\">21</td>\n",
        "</tr>\n",
        "<tr style=\"height: 18px;\">\n",
        "<td style=\"width: 8.83722%; height: 18px;\"><b>%Y</b></td>\n",
        "<td style=\"width: 47.7616%; height: 18px;\">년을 길게 숫자로 표시합니다.</td>\n",
        "<td style=\"width: 24.9419%; height: 18px;\">2021</td>\n",
        "</tr>\n",
        "<tr style=\"height: 18px;\">\n",
        "<td style=\"width: 8.83722%; height: 18px;\"><b>%H</b></td>\n",
        "<td style=\"width: 47.7616%; height: 18px;\">시간을 24시간의 표현 방식(00-23)으로 숫자로 표시합니다.</td>\n",
        "<td style=\"width: 24.9419%; height: 18px;\">18</td>\n",
        "</tr>\n",
        "<tr style=\"height: 18px;\">\n",
        "<td style=\"width: 8.83722%; height: 18px;\"><b>%I</b></td>\n",
        "<td style=\"width: 47.7616%; height: 18px;\">시간을 0-12시 표시 방법으로 표시합니다</td>\n",
        "<td style=\"width: 24.9419%; height: 18px;\">6</td>\n",
        "</tr>\n",
        "<tr style=\"height: 18px;\">\n",
        "<td style=\"width: 8.83722%; height: 18px;\"><b>%p</b></td>\n",
        "<td style=\"width: 47.7616%; height: 18px;\">오전(AM), 오후(PM)을 표시합니다.</td>\n",
        "<td style=\"width: 24.9419%; height: 18px;\">PM</td>\n",
        "</tr>\n",
        "<tr style=\"height: 18px;\">\n",
        "<td style=\"width: 8.83722%; height: 18px;\"><b>%M</b></td>\n",
        "<td style=\"width: 47.7616%; height: 18px;\">분(0 - 59)을 표시합니다.</td>\n",
        "<td style=\"width: 24.9419%; height: 18px;\">38</td>\n",
        "</tr>\n",
        "<tr style=\"height: 18px;\">\n",
        "<td style=\"width: 8.83722%; height: 18px;\"><b>%S</b></td>\n",
        "<td style=\"width: 47.7616%; height: 18px;\">초(0 - 59)를 표시합니다.</td>\n",
        "<td style=\"width: 24.9419%; height: 18px;\">55</td>\n",
        "</tr>\n",
        "<tr style=\"height: 18px;\">\n",
        "<td style=\"width: 8.83722%; height: 18px;\"><b>%f</b></td>\n",
        "<td style=\"width: 47.7616%; height: 18px;\">microsecond단위를 표시합니다.</td>\n",
        "<td style=\"width: 24.9419%; height: 18px;\">545433</td>\n",
        "</tr>\n",
        "<tr style=\"height: 18px;\">\n",
        "<td style=\"width: 8.83722%; height: 18px;\"><b>%j</b></td>\n",
        "<td style=\"width: 47.7616%; height: 18px;\">일년중 몇번째일인지 나타냅니다.</td>\n",
        "<td style=\"width: 24.9419%; height: 18px;\">108</td>\n",
        "</tr>\n",
        "<tr style=\"height: 18px;\">\n",
        "<td style=\"width: 8.83722%; height: 18px;\"><b>%U</b></td>\n",
        "<td style=\"width: 47.7616%; height: 18px;\">일년 중 몇번째 주 인지 나타내니다. 이 포맷에서 일요일은 일주일의 시작입니다. 일년은 52주, 53주입니다.</td>\n",
        "<td style=\"width: 24.9419%; height: 18px;\">108</td>\n",
        "</tr>\n",
        "<tr style=\"height: 18px;\">\n",
        "<td style=\"width: 8.83722%; height: 18px;\"><b>%W</b></td>\n",
        "<td style=\"width: 47.7616%; height: 18px;\">일년 중 몇번째 주 인지 나타내는 것은 %U와 같지만 일주일의 시작을 월요일로 정합니다.</td>\n",
        "<td style=\"width: 24.9419%; height: 18px;\">108</td>\n",
        "</tr>\n",
        "<tr style=\"height: 18px;\">\n",
        "<td style=\"width: 8.83722%; height: 18px;\"><b>%c</b></td>\n",
        "<td style=\"width: 47.7616%; height: 18px;\">Local version의 날짜와 시간을 나타냅니다.</td>\n",
        "<td style=\"width: 24.9419%; height: 18px;\">Sun&nbsp;Apr&nbsp;18&nbsp;17:26:26&nbsp;2021</td>\n",
        "</tr>\n",
        "<tr style=\"height: 18px;\">\n",
        "<td style=\"width: 8.83722%; height: 18px;\"><b>%x</b></td>\n",
        "<td style=\"width: 47.7616%; height: 18px;\">Local version의 날짜만 나타냅니다.</td>\n",
        "<td style=\"width: 24.9419%; height: 18px;\">04/18/21</td>\n",
        "</tr>\n",
        "<tr style=\"height: 18px;\">\n",
        "<td style=\"width: 8.83722%; height: 18px;\"><b>%X</b></td>\n",
        "<td style=\"width: 47.7616%; height: 18px;\">Local version의 시간만 나타냅니다.</td>\n",
        "<td style=\"width: 24.9419%; height: 18px;\">17:26:26</td>\n",
        "</tr>\n",
        "</tbody>\n",
        "</table>"
      ]
    },
    {
      "cell_type": "markdown",
      "id": "833be2d3-657c-469a-aaff-31b18c91e646",
      "metadata": {
        "id": "833be2d3-657c-469a-aaff-31b18c91e646"
      },
      "source": [
        "### (방법1) read_csv에서 직접 "
      ]
    },
    {
      "cell_type": "code",
      "execution_count": null,
      "id": "8acdbae3-867c-412d-8269-6e1fc6115316",
      "metadata": {
        "id": "8acdbae3-867c-412d-8269-6e1fc6115316",
        "outputId": "2f95f23b-77e0-4d79-89ca-79d8d9a1faf2"
      },
      "outputs": [
        {
          "data": {
            "text/html": [
              "<div>\n",
              "<style scoped>\n",
              "    .dataframe tbody tr th:only-of-type {\n",
              "        vertical-align: middle;\n",
              "    }\n",
              "\n",
              "    .dataframe tbody tr th {\n",
              "        vertical-align: top;\n",
              "    }\n",
              "\n",
              "    .dataframe thead th {\n",
              "        text-align: right;\n",
              "    }\n",
              "</style>\n",
              "<table border=\"1\" class=\"dataframe\">\n",
              "  <thead>\n",
              "    <tr style=\"text-align: right;\">\n",
              "      <th></th>\n",
              "      <th>Date</th>\n",
              "      <th>Price</th>\n",
              "      <th>Open</th>\n",
              "      <th>High</th>\n",
              "      <th>Low</th>\n",
              "      <th>Vol.</th>\n",
              "      <th>Change</th>\n",
              "    </tr>\n",
              "  </thead>\n",
              "  <tbody>\n",
              "    <tr>\n",
              "      <th>0</th>\n",
              "      <td>2019-03-31</td>\n",
              "      <td>4,102.30</td>\n",
              "      <td>4,111.80</td>\n",
              "      <td>4,121.90</td>\n",
              "      <td>4,082.20</td>\n",
              "      <td>2.43M</td>\n",
              "      <td>-23.0</td>\n",
              "    </tr>\n",
              "    <tr>\n",
              "      <th>1</th>\n",
              "      <td>2019-03-30</td>\n",
              "      <td>4,111.80</td>\n",
              "      <td>4,103.70</td>\n",
              "      <td>4,138.10</td>\n",
              "      <td>4,057.10</td>\n",
              "      <td>2.55M</td>\n",
              "      <td>23.0</td>\n",
              "    </tr>\n",
              "    <tr>\n",
              "      <th>2</th>\n",
              "      <td>2019-03-29</td>\n",
              "      <td>4,102.20</td>\n",
              "      <td>4,025.70</td>\n",
              "      <td>4,123.10</td>\n",
              "      <td>4,022.60</td>\n",
              "      <td>3.30M</td>\n",
              "      <td>190.0</td>\n",
              "    </tr>\n",
              "    <tr>\n",
              "      <th>3</th>\n",
              "      <td>2019-03-28</td>\n",
              "      <td>4,025.60</td>\n",
              "      <td>4,041.70</td>\n",
              "      <td>4,041.70</td>\n",
              "      <td>4,008.40</td>\n",
              "      <td>2.11M</td>\n",
              "      <td>-40.0</td>\n",
              "    </tr>\n",
              "    <tr>\n",
              "      <th>4</th>\n",
              "      <td>2019-03-27</td>\n",
              "      <td>4,041.70</td>\n",
              "      <td>3,942.80</td>\n",
              "      <td>4,043.30</td>\n",
              "      <td>3,936.20</td>\n",
              "      <td>2.78M</td>\n",
              "      <td>251.0</td>\n",
              "    </tr>\n",
              "  </tbody>\n",
              "</table>\n",
              "</div>"
            ],
            "text/plain": [
              "        Date     Price      Open      High       Low   Vol.  Change\n",
              "0 2019-03-31  4,102.30  4,111.80  4,121.90  4,082.20  2.43M   -23.0\n",
              "1 2019-03-30  4,111.80  4,103.70  4,138.10  4,057.10  2.55M    23.0\n",
              "2 2019-03-29  4,102.20  4,025.70  4,123.10  4,022.60  3.30M   190.0\n",
              "3 2019-03-28  4,025.60  4,041.70  4,041.70  4,008.40  2.11M   -40.0\n",
              "4 2019-03-27  4,041.70  3,942.80  4,043.30  3,936.20  2.78M   251.0"
            ]
          },
          "execution_count": 5,
          "metadata": {},
          "output_type": "execute_result"
        }
      ],
      "source": [
        "from datetime import datetime as dt\n",
        "df = pd.read_csv(\"./lec17_bitcoin.txt\", sep=\"\\t\")\n",
        "df['Date'] = df['Date'].apply(lambda x: dt.strptime(x, \"%d-%b-%y\"))\n",
        "df.head()"
      ]
    },
    {
      "cell_type": "code",
      "execution_count": null,
      "id": "5c71f6dd-2f96-43d7-866f-5c44491d511b",
      "metadata": {
        "id": "5c71f6dd-2f96-43d7-866f-5c44491d511b",
        "outputId": "d3eb933c-b320-4d1e-abe6-e081342aee1a"
      },
      "outputs": [
        {
          "data": {
            "text/html": [
              "<div>\n",
              "<style scoped>\n",
              "    .dataframe tbody tr th:only-of-type {\n",
              "        vertical-align: middle;\n",
              "    }\n",
              "\n",
              "    .dataframe tbody tr th {\n",
              "        vertical-align: top;\n",
              "    }\n",
              "\n",
              "    .dataframe thead th {\n",
              "        text-align: right;\n",
              "    }\n",
              "</style>\n",
              "<table border=\"1\" class=\"dataframe\">\n",
              "  <thead>\n",
              "    <tr style=\"text-align: right;\">\n",
              "      <th></th>\n",
              "      <th>Date</th>\n",
              "      <th>Price</th>\n",
              "      <th>Open</th>\n",
              "      <th>High</th>\n",
              "      <th>Low</th>\n",
              "      <th>Vol.</th>\n",
              "      <th>Change</th>\n",
              "    </tr>\n",
              "  </thead>\n",
              "  <tbody>\n",
              "    <tr>\n",
              "      <th>0</th>\n",
              "      <td>2019-03-31</td>\n",
              "      <td>4102.3</td>\n",
              "      <td>4111.8</td>\n",
              "      <td>4121.9</td>\n",
              "      <td>4082.2</td>\n",
              "      <td>2.43M</td>\n",
              "      <td>-23.0</td>\n",
              "    </tr>\n",
              "    <tr>\n",
              "      <th>1</th>\n",
              "      <td>2019-03-30</td>\n",
              "      <td>4111.8</td>\n",
              "      <td>4103.7</td>\n",
              "      <td>4138.1</td>\n",
              "      <td>4057.1</td>\n",
              "      <td>2.55M</td>\n",
              "      <td>23.0</td>\n",
              "    </tr>\n",
              "    <tr>\n",
              "      <th>2</th>\n",
              "      <td>2019-03-29</td>\n",
              "      <td>4102.2</td>\n",
              "      <td>4025.7</td>\n",
              "      <td>4123.1</td>\n",
              "      <td>4022.6</td>\n",
              "      <td>3.30M</td>\n",
              "      <td>190.0</td>\n",
              "    </tr>\n",
              "    <tr>\n",
              "      <th>3</th>\n",
              "      <td>2019-03-28</td>\n",
              "      <td>4025.6</td>\n",
              "      <td>4041.7</td>\n",
              "      <td>4041.7</td>\n",
              "      <td>4008.4</td>\n",
              "      <td>2.11M</td>\n",
              "      <td>-40.0</td>\n",
              "    </tr>\n",
              "    <tr>\n",
              "      <th>4</th>\n",
              "      <td>2019-03-27</td>\n",
              "      <td>4041.7</td>\n",
              "      <td>3942.8</td>\n",
              "      <td>4043.3</td>\n",
              "      <td>3936.2</td>\n",
              "      <td>2.78M</td>\n",
              "      <td>251.0</td>\n",
              "    </tr>\n",
              "  </tbody>\n",
              "</table>\n",
              "</div>"
            ],
            "text/plain": [
              "        Date   Price    Open    High     Low   Vol.  Change\n",
              "0 2019-03-31  4102.3  4111.8  4121.9  4082.2  2.43M   -23.0\n",
              "1 2019-03-30  4111.8  4103.7  4138.1  4057.1  2.55M    23.0\n",
              "2 2019-03-29  4102.2  4025.7  4123.1  4022.6  3.30M   190.0\n",
              "3 2019-03-28  4025.6  4041.7  4041.7  4008.4  2.11M   -40.0\n",
              "4 2019-03-27  4041.7  3942.8  4043.3  3936.2  2.78M   251.0"
            ]
          },
          "execution_count": 6,
          "metadata": {},
          "output_type": "execute_result"
        }
      ],
      "source": [
        "my_parser = lambda x: dt.strptime(x, \"%d-%b-%y\")\n",
        "df = pd.read_csv(\"./lec17_bitcoin.txt\", sep=\"\\t\",\n",
        "                  thousands=\",\",\n",
        "                  parse_dates = ['Date'],  # data처리할 컬럼명 2019-03-01\n",
        "                  date_parser = my_parser\n",
        "                 #???\n",
        "                ) \n",
        "df.head()"
      ]
    },
    {
      "cell_type": "markdown",
      "id": "809be096-efc3-41b6-8ded-02e28ff520c9",
      "metadata": {
        "tags": [],
        "id": "809be096-efc3-41b6-8ded-02e28ff520c9"
      },
      "source": [
        "### (방법2) replace() 이용"
      ]
    },
    {
      "cell_type": "code",
      "execution_count": null,
      "id": "723cb8bd-0af3-401f-83d4-0c60beac977a",
      "metadata": {
        "id": "723cb8bd-0af3-401f-83d4-0c60beac977a",
        "outputId": "d3fc0ac7-57a7-453a-cbd3-60a104f9b197"
      },
      "outputs": [
        {
          "data": {
            "text/html": [
              "<div>\n",
              "<style scoped>\n",
              "    .dataframe tbody tr th:only-of-type {\n",
              "        vertical-align: middle;\n",
              "    }\n",
              "\n",
              "    .dataframe tbody tr th {\n",
              "        vertical-align: top;\n",
              "    }\n",
              "\n",
              "    .dataframe thead th {\n",
              "        text-align: right;\n",
              "    }\n",
              "</style>\n",
              "<table border=\"1\" class=\"dataframe\">\n",
              "  <thead>\n",
              "    <tr style=\"text-align: right;\">\n",
              "      <th></th>\n",
              "      <th>Date</th>\n",
              "      <th>Price</th>\n",
              "      <th>Open</th>\n",
              "      <th>High</th>\n",
              "      <th>Low</th>\n",
              "      <th>Vol.</th>\n",
              "      <th>Change</th>\n",
              "    </tr>\n",
              "  </thead>\n",
              "  <tbody>\n",
              "    <tr>\n",
              "      <th>0</th>\n",
              "      <td>2019-03-31</td>\n",
              "      <td>4102.3</td>\n",
              "      <td>4111.8</td>\n",
              "      <td>4121.9</td>\n",
              "      <td>4082.2</td>\n",
              "      <td>2.43</td>\n",
              "      <td>-23.0</td>\n",
              "    </tr>\n",
              "    <tr>\n",
              "      <th>1</th>\n",
              "      <td>2019-03-30</td>\n",
              "      <td>4111.8</td>\n",
              "      <td>4103.7</td>\n",
              "      <td>4138.1</td>\n",
              "      <td>4057.1</td>\n",
              "      <td>2.55</td>\n",
              "      <td>23.0</td>\n",
              "    </tr>\n",
              "    <tr>\n",
              "      <th>2</th>\n",
              "      <td>2019-03-29</td>\n",
              "      <td>4102.2</td>\n",
              "      <td>4025.7</td>\n",
              "      <td>4123.1</td>\n",
              "      <td>4022.6</td>\n",
              "      <td>3.30</td>\n",
              "      <td>190.0</td>\n",
              "    </tr>\n",
              "    <tr>\n",
              "      <th>3</th>\n",
              "      <td>2019-03-28</td>\n",
              "      <td>4025.6</td>\n",
              "      <td>4041.7</td>\n",
              "      <td>4041.7</td>\n",
              "      <td>4008.4</td>\n",
              "      <td>2.11</td>\n",
              "      <td>-40.0</td>\n",
              "    </tr>\n",
              "    <tr>\n",
              "      <th>4</th>\n",
              "      <td>2019-03-27</td>\n",
              "      <td>4041.7</td>\n",
              "      <td>3942.8</td>\n",
              "      <td>4043.3</td>\n",
              "      <td>3936.2</td>\n",
              "      <td>2.78</td>\n",
              "      <td>251.0</td>\n",
              "    </tr>\n",
              "  </tbody>\n",
              "</table>\n",
              "</div>"
            ],
            "text/plain": [
              "        Date   Price    Open    High     Low  Vol.  Change\n",
              "0 2019-03-31  4102.3  4111.8  4121.9  4082.2  2.43   -23.0\n",
              "1 2019-03-30  4111.8  4103.7  4138.1  4057.1  2.55    23.0\n",
              "2 2019-03-29  4102.2  4025.7  4123.1  4022.6  3.30   190.0\n",
              "3 2019-03-28  4025.6  4041.7  4041.7  4008.4  2.11   -40.0\n",
              "4 2019-03-27  4041.7  3942.8  4043.3  3936.2  2.78   251.0"
            ]
          },
          "execution_count": 7,
          "metadata": {},
          "output_type": "execute_result"
        }
      ],
      "source": [
        "df = pd.read_csv(\"./lec17_bitcoin.txt\", sep=\"\\t\", thousands=\",\",) \n",
        "# df = df[''].str.replace(',', '').astype('float64')  #비효율적\n",
        "df['Vol.'] = df['Vol.'].str.replace('M', '')\n",
        "df['Vol.'] = df['Vol.'].str.replace('K', '').astype('float64')\n",
        "df['Date'] = df['Date'].astype('datetime64[ns]')\n",
        "df.head()"
      ]
    },
    {
      "cell_type": "markdown",
      "id": "7364df9b-47fd-4253-8a5d-c4e4940f6611",
      "metadata": {
        "tags": [],
        "id": "7364df9b-47fd-4253-8a5d-c4e4940f6611"
      },
      "source": [
        "### (방법3) 정규표현식 사용"
      ]
    },
    {
      "cell_type": "code",
      "execution_count": null,
      "id": "95868c59-5652-4b78-9696-6ea6d45d5412",
      "metadata": {
        "id": "95868c59-5652-4b78-9696-6ea6d45d5412",
        "outputId": "3cffa45a-c357-4694-a5e8-3db829cf5036"
      },
      "outputs": [
        {
          "data": {
            "text/html": [
              "<div>\n",
              "<style scoped>\n",
              "    .dataframe tbody tr th:only-of-type {\n",
              "        vertical-align: middle;\n",
              "    }\n",
              "\n",
              "    .dataframe tbody tr th {\n",
              "        vertical-align: top;\n",
              "    }\n",
              "\n",
              "    .dataframe thead th {\n",
              "        text-align: right;\n",
              "    }\n",
              "</style>\n",
              "<table border=\"1\" class=\"dataframe\">\n",
              "  <thead>\n",
              "    <tr style=\"text-align: right;\">\n",
              "      <th></th>\n",
              "      <th>Date</th>\n",
              "      <th>Price</th>\n",
              "      <th>Open</th>\n",
              "      <th>High</th>\n",
              "      <th>Low</th>\n",
              "      <th>Vol.</th>\n",
              "      <th>Change</th>\n",
              "    </tr>\n",
              "  </thead>\n",
              "  <tbody>\n",
              "    <tr>\n",
              "      <th>0</th>\n",
              "      <td>2019-03-31</td>\n",
              "      <td>4102.3</td>\n",
              "      <td>4111.8</td>\n",
              "      <td>4121.9</td>\n",
              "      <td>4082.2</td>\n",
              "      <td>2.43</td>\n",
              "      <td>-23.0</td>\n",
              "    </tr>\n",
              "    <tr>\n",
              "      <th>1</th>\n",
              "      <td>2019-03-30</td>\n",
              "      <td>4111.8</td>\n",
              "      <td>4103.7</td>\n",
              "      <td>4138.1</td>\n",
              "      <td>4057.1</td>\n",
              "      <td>2.55</td>\n",
              "      <td>23.0</td>\n",
              "    </tr>\n",
              "    <tr>\n",
              "      <th>2</th>\n",
              "      <td>2019-03-29</td>\n",
              "      <td>4102.2</td>\n",
              "      <td>4025.7</td>\n",
              "      <td>4123.1</td>\n",
              "      <td>4022.6</td>\n",
              "      <td>3.30</td>\n",
              "      <td>190.0</td>\n",
              "    </tr>\n",
              "    <tr>\n",
              "      <th>3</th>\n",
              "      <td>2019-03-28</td>\n",
              "      <td>4025.6</td>\n",
              "      <td>4041.7</td>\n",
              "      <td>4041.7</td>\n",
              "      <td>4008.4</td>\n",
              "      <td>2.11</td>\n",
              "      <td>-40.0</td>\n",
              "    </tr>\n",
              "    <tr>\n",
              "      <th>4</th>\n",
              "      <td>2019-03-27</td>\n",
              "      <td>4041.7</td>\n",
              "      <td>3942.8</td>\n",
              "      <td>4043.3</td>\n",
              "      <td>3936.2</td>\n",
              "      <td>2.78</td>\n",
              "      <td>251.0</td>\n",
              "    </tr>\n",
              "  </tbody>\n",
              "</table>\n",
              "</div>"
            ],
            "text/plain": [
              "        Date   Price    Open    High     Low  Vol.  Change\n",
              "0 2019-03-31  4102.3  4111.8  4121.9  4082.2  2.43   -23.0\n",
              "1 2019-03-30  4111.8  4103.7  4138.1  4057.1  2.55    23.0\n",
              "2 2019-03-29  4102.2  4025.7  4123.1  4022.6  3.30   190.0\n",
              "3 2019-03-28  4025.6  4041.7  4041.7  4008.4  2.11   -40.0\n",
              "4 2019-03-27  4041.7  3942.8  4043.3  3936.2  2.78   251.0"
            ]
          },
          "execution_count": 8,
          "metadata": {},
          "output_type": "execute_result"
        }
      ],
      "source": [
        "import re\n",
        "df = pd.read_csv(\"./lec17_bitcoin.txt\", sep=\"\\t\") \n",
        "for col in ['Price', 'Open', 'High', 'Low', 'Vol.', 'Change']:\n",
        "    #df[col].str.replace(pat=r'[^0-9.-]', repl=r'', regex=True) -- error \n",
        "    df[col] = df[col].apply(lambda x : re.sub('[^0-9.-]', '', '{}'.format(x))).astype('float64')\n",
        "    #df[col] = [re.sub('[^0-9.-]', '', '{}'.format(x)) for x in df[col]]\n",
        "df['Date'] = df['Date'].astype('datetime64[ns]')    \n",
        "df.head()    "
      ]
    },
    {
      "cell_type": "code",
      "execution_count": null,
      "id": "1fe16120-5767-43ef-b68d-82a400f41082",
      "metadata": {
        "id": "1fe16120-5767-43ef-b68d-82a400f41082"
      },
      "outputs": [],
      "source": [
        "df = df.sort_values(by=\"Date\", ascending=True)"
      ]
    },
    {
      "cell_type": "code",
      "execution_count": null,
      "id": "6614f2de-6450-45a4-9086-76b1d40e8af8",
      "metadata": {
        "id": "6614f2de-6450-45a4-9086-76b1d40e8af8",
        "outputId": "7b71c14d-2849-451a-c6e4-9b15f4db5d93"
      },
      "outputs": [
        {
          "name": "stdout",
          "output_type": "stream",
          "text": [
            "<class 'pandas.core.frame.DataFrame'>\n",
            "Int64Index: 59 entries, 58 to 0\n",
            "Data columns (total 7 columns):\n",
            " #   Column  Non-Null Count  Dtype         \n",
            "---  ------  --------------  -----         \n",
            " 0   Date    59 non-null     datetime64[ns]\n",
            " 1   Price   59 non-null     float64       \n",
            " 2   Open    59 non-null     float64       \n",
            " 3   High    59 non-null     float64       \n",
            " 4   Low     59 non-null     float64       \n",
            " 5   Vol.    59 non-null     float64       \n",
            " 6   Change  59 non-null     float64       \n",
            "dtypes: datetime64[ns](1), float64(6)\n",
            "memory usage: 3.7 KB\n"
          ]
        }
      ],
      "source": [
        "df.info()"
      ]
    },
    {
      "cell_type": "markdown",
      "id": "e12d0dc0-0001-426e-b8b4-a322774090c7",
      "metadata": {
        "id": "e12d0dc0-0001-426e-b8b4-a322774090c7"
      },
      "source": [
        "# EDA"
      ]
    },
    {
      "cell_type": "code",
      "execution_count": null,
      "id": "0bf3bbf1-bc40-45a9-be5e-4343ae6e6e8b",
      "metadata": {
        "id": "0bf3bbf1-bc40-45a9-be5e-4343ae6e6e8b",
        "outputId": "4f57bfe5-0dd4-4ffc-8da7-e426cd50ea47"
      },
      "outputs": [
        {
          "data": {
            "image/png": "[encoded data removed]",
            "text/plain": [
              "<Figure size 720x288 with 1 Axes>"
            ]
          },
          "metadata": {
            "needs_background": "light"
          },
          "output_type": "display_data"
        }
      ],
      "source": [
        "plt.figure(figsize = (10,4))\n",
        "ax = sns.lineplot(x='Date',y='Price',data=df)\n",
        "plt.xticks(rotation = - 45 )\n",
        "# ax.set_xticklabels(ax.get_xticklabels(),rotation = 30)\n",
        "plt.show()"
      ]
    },
    {
      "cell_type": "markdown",
      "id": "555b0ea3-4a33-49ac-95ef-506321769e91",
      "metadata": {
        "id": "555b0ea3-4a33-49ac-95ef-506321769e91"
      },
      "source": [
        "* 비정상 데이터  : 시간이 지난엠따라 평균, 분산이 일정하지 않은 데이터"
      ]
    },
    {
      "cell_type": "markdown",
      "id": "00e2bfe9-85f4-46e6-a5af-8aa639b472e8",
      "metadata": {
        "tags": [],
        "id": "00e2bfe9-85f4-46e6-a5af-8aa639b472e8"
      },
      "source": [
        "# statsmodels\n",
        "* ver 1.10.2 이하에서 테스트  : 버전업에 따른 패키지 변화 심하다...........................****\n",
        "* ref :https://pypi.org/project/statsmodels/\n",
        "* ARIMA : https://otexts.com/fppkr/non-seasonal-arima.html"
      ]
    },
    {
      "cell_type": "markdown",
      "id": "94def6d8-4ac8-485e-9296-2cdab5aae692",
      "metadata": {
        "id": "94def6d8-4ac8-485e-9296-2cdab5aae692"
      },
      "source": [
        "* AR : PACF : p=1\n",
        "* MA : ACF  : q=0\n",
        "* ARIMA(p, d ,q)"
      ]
    },
    {
      "cell_type": "code",
      "execution_count": null,
      "id": "e3bfb868-fbe3-4421-b2f0-22983d87ee0d",
      "metadata": {
        "id": "e3bfb868-fbe3-4421-b2f0-22983d87ee0d"
      },
      "outputs": [],
      "source": [
        "# ! pip install statsmodel==1.10.2"
      ]
    },
    {
      "cell_type": "markdown",
      "id": "d6575d4c-a3fd-4dda-bca3-c64173a6f0d6",
      "metadata": {
        "tags": [],
        "id": "d6575d4c-a3fd-4dda-bca3-c64173a6f0d6"
      },
      "source": [
        "## ARIMA"
      ]
    },
    {
      "cell_type": "markdown",
      "id": "9c2600ff-c6f9-4d31-a31c-93f323d791e5",
      "metadata": {
        "id": "9c2600ff-c6f9-4d31-a31c-93f323d791e5"
      },
      "source": [
        "\n",
        "<font color=red><b>ARIMA(Autoregressive Integrated Moving Average) \n",
        "  <img src=\"https://www.machinelearningplus.com/wp-content/uploads/2019/02/Equation-4-min.png\" width=600>\n",
        "---\n",
        "<pre>    \n",
        "<font color=red><b>AR(Autoregression:자기회귀)</b></font> - 이전 관측값의 오차항이 이후 관측값에 영향을 주는 모형\n",
        "  <img src=\"https://www.machinelearningplus.com/wp-content/uploads/2019/02/Equation-1-min.png\" width=400>\n",
        "<font color=red><b>Intgrated</b></font>\n",
        "  누적을 의미\n",
        "<font color=red><b>MA(Moving Average:이동평균)</b></font> - 관측값이 이전의 연속적인 오차항의 영향을 받는다는 모형\n",
        "  <img src=\"https://www.machinelearningplus.com/wp-content/uploads/2019/02/Equation-2-min.png\" width=400>\n"
      ]
    },
    {
      "cell_type": "code",
      "execution_count": null,
      "id": "3a861d72-fdf9-402d-85e2-1b49bd58c69e",
      "metadata": {
        "id": "3a861d72-fdf9-402d-85e2-1b49bd58c69e",
        "outputId": "ee76343e-cec0-4162-a476-4654d0c1529a"
      },
      "outputs": [
        {
          "name": "stderr",
          "output_type": "stream",
          "text": [
            "c:\\ai\\pythonproject\\venv\\lib\\site-packages\\statsmodels\\tools\\_testing.py:19: FutureWarning: pandas.util.testing is deprecated. Use the functions in the public API at pandas.testing instead.\n",
            "  import pandas.util.testing as tm\n"
          ]
        }
      ],
      "source": [
        "from statsmodels.graphics.tsaplots import plot_acf, plot_pacf\n",
        "# from statsmodels.tsa.arima.model import ARIMA  #statsmodel version 1.12  over\n",
        "from statsmodels.tsa.arima_model import ARIMA  #statsmodel version 1.10.2  under"
      ]
    },
    {
      "cell_type": "markdown",
      "id": "d62ad535-24e1-4e85-9ac0-72018a7c703a",
      "metadata": {
        "tags": [],
        "id": "d62ad535-24e1-4e85-9ac0-72018a7c703a"
      },
      "source": [
        "### ACF PACF plot"
      ]
    },
    {
      "cell_type": "code",
      "execution_count": null,
      "id": "e506ef11-7a70-4f44-8a7f-ff3bb1e27b3b",
      "metadata": {
        "id": "e506ef11-7a70-4f44-8a7f-ff3bb1e27b3b",
        "outputId": "3a89c5de-577b-4b89-dade-cdeed54c5fbc"
      },
      "outputs": [
        {
          "data": {
            "text/html": [
              "<div>\n",
              "<style scoped>\n",
              "    .dataframe tbody tr th:only-of-type {\n",
              "        vertical-align: middle;\n",
              "    }\n",
              "\n",
              "    .dataframe tbody tr th {\n",
              "        vertical-align: top;\n",
              "    }\n",
              "\n",
              "    .dataframe thead th {\n",
              "        text-align: right;\n",
              "    }\n",
              "</style>\n",
              "<table border=\"1\" class=\"dataframe\">\n",
              "  <thead>\n",
              "    <tr style=\"text-align: right;\">\n",
              "      <th></th>\n",
              "      <th>Price</th>\n",
              "    </tr>\n",
              "    <tr>\n",
              "      <th>Date</th>\n",
              "      <th></th>\n",
              "    </tr>\n",
              "  </thead>\n",
              "  <tbody>\n",
              "    <tr>\n",
              "      <th>2019-02-01</th>\n",
              "      <td>3467.9</td>\n",
              "    </tr>\n",
              "    <tr>\n",
              "      <th>2019-02-02</th>\n",
              "      <td>3502.5</td>\n",
              "    </tr>\n",
              "    <tr>\n",
              "      <th>2019-02-03</th>\n",
              "      <td>3459.1</td>\n",
              "    </tr>\n",
              "    <tr>\n",
              "      <th>2019-02-04</th>\n",
              "      <td>3462.8</td>\n",
              "    </tr>\n",
              "    <tr>\n",
              "      <th>2019-02-05</th>\n",
              "      <td>3468.4</td>\n",
              "    </tr>\n",
              "  </tbody>\n",
              "</table>\n",
              "</div>"
            ],
            "text/plain": [
              "             Price\n",
              "Date              \n",
              "2019-02-01  3467.9\n",
              "2019-02-02  3502.5\n",
              "2019-02-03  3459.1\n",
              "2019-02-04  3462.8\n",
              "2019-02-05  3468.4"
            ]
          },
          "execution_count": 14,
          "metadata": {},
          "output_type": "execute_result"
        }
      ],
      "source": [
        "pdf = df[['Date','Price']].copy()\n",
        "pdf.sort_values(by='Date', ascending=True)\n",
        "pdf = pdf.set_index('Date')\n",
        "pdf.head()"
      ]
    },
    {
      "cell_type": "markdown",
      "id": "5bb51c1b-0a55-4a54-a2bd-a9dbf617e299",
      "metadata": {
        "id": "5bb51c1b-0a55-4a54-a2bd-a9dbf617e299"
      },
      "source": [
        "### 데이터 1차분"
      ]
    },
    {
      "cell_type": "code",
      "execution_count": null,
      "id": "24763206-1e91-40d5-8acb-e7be67693ddc",
      "metadata": {
        "id": "24763206-1e91-40d5-8acb-e7be67693ddc",
        "outputId": "0322b0aa-dfdf-4e37-b88f-b4d654f178e1"
      },
      "outputs": [
        {
          "data": {
            "image/png": "[encoded data removed]",
            "text/plain": [
              "<Figure size 720x288 with 2 Axes>"
            ]
          },
          "metadata": {
            "needs_background": "light"
          },
          "output_type": "display_data"
        }
      ],
      "source": [
        "p, axes = plt.subplots(1,2,figsize=(10,4))\n",
        "plot_acf(pdf, ax=axes[0])\n",
        "plot_pacf(pdf, ax=axes[1])\n",
        "plt.show()"
      ]
    },
    {
      "cell_type": "markdown",
      "id": "b24d7a9d-ff78-464c-8858-7111e0dac6ba",
      "metadata": {
        "id": "b24d7a9d-ff78-464c-8858-7111e0dac6ba"
      },
      "source": [
        "<pre>\n",
        "<font color=red><b>\n",
        "* ARIMA(p,d,q) = ARIMA(1,1,0)\n",
        "* PACF 차트를 통해 1차분 한 결과 정상성의 데이터를 보였다. == p=1\n",
        "* I : 데이터를 정상성의 데이터를 보였다. == d=1\n",
        "* ACF : 완만한 경사도를 보인다  == MA성향의 데이터가 아니다  = q=0"
      ]
    },
    {
      "cell_type": "markdown",
      "id": "00f2d790-eaf3-41d8-bb75-fcf8ec743701",
      "metadata": {
        "id": "00f2d790-eaf3-41d8-bb75-fcf8ec743701"
      },
      "source": [
        "### 모델 학습 & 예측"
      ]
    },
    {
      "cell_type": "code",
      "execution_count": null,
      "id": "d78a51be-d9ad-4790-97df-57af53ca93b3",
      "metadata": {
        "id": "d78a51be-d9ad-4790-97df-57af53ca93b3",
        "outputId": "18a86f8f-8dff-4180-b908-48b79d469cc6"
      },
      "outputs": [
        {
          "name": "stdout",
          "output_type": "stream",
          "text": [
            "                              ARMA Model Results                              \n",
            "==============================================================================\n",
            "Dep. Variable:                  Price   No. Observations:                   59\n",
            "Model:                     ARMA(1, 0)   Log Likelihood                -343.216\n",
            "Method:                       css-mle   S.D. of innovations             79.915\n",
            "Date:                Tue, 08 Feb 2022   AIC                            692.432\n",
            "Time:                        10:18:04   BIC                            698.665\n",
            "Sample:                    02-01-2019   HQIC                           694.865\n",
            "                         - 03-31-2019                                         \n",
            "===============================================================================\n",
            "                  coef    std err          z      P>|z|      [0.025      0.975]\n",
            "-------------------------------------------------------------------------------\n",
            "const        3810.6436    128.081     29.752      0.000    3559.610    4061.677\n",
            "ar.L1.Price     0.9330      0.049     19.184      0.000       0.838       1.028\n",
            "                                    Roots                                    \n",
            "=============================================================================\n",
            "                  Real          Imaginary           Modulus         Frequency\n",
            "-----------------------------------------------------------------------------\n",
            "AR.1            1.0719           +0.0000j            1.0719            0.0000\n",
            "-----------------------------------------------------------------------------\n"
          ]
        },
        {
          "name": "stderr",
          "output_type": "stream",
          "text": [
            "c:\\ai\\pythonproject\\venv\\lib\\site-packages\\statsmodels\\tsa\\base\\tsa_model.py:162: ValueWarning: No frequency information was provided, so inferred frequency D will be used.\n",
            "  warnings.warn('No frequency information was'\n"
          ]
        }
      ],
      "source": [
        "model = ARIMA(pdf, order=(1,0,0))\n",
        "fit_res = model.fit()  #\n",
        "print(fit_res.summary())"
      ]
    },
    {
      "cell_type": "markdown",
      "id": "12aab73c-4e4b-4bf3-a337-bd507bfdf3b2",
      "metadata": {
        "id": "12aab73c-4e4b-4bf3-a337-bd507bfdf3b2"
      },
      "source": [
        "<pre>\n",
        "<font color=red><b>\n",
        "P>|z| : t-test \n",
        "t-test < 0.05   : 유의미하다 \n",
        "</b></font>"
      ]
    },
    {
      "cell_type": "code",
      "execution_count": null,
      "id": "4dbcdab2-ca14-47d4-b038-9bac6d78ecdd",
      "metadata": {
        "id": "4dbcdab2-ca14-47d4-b038-9bac6d78ecdd"
      },
      "outputs": [],
      "source": [
        "# from statsmodels.tsa.stattools import adfuller\n",
        "# from numpy import log\n",
        "# print(result)\n",
        "# print('constance p-value: %f' % result[0])  #-----------무의미하다. 사용안함\n",
        "# print('AR 모형    p-value: %f' % result[1])\n",
        "# print('MA 모형    p-value: %f' % result[2])"
      ]
    },
    {
      "cell_type": "code",
      "execution_count": null,
      "id": "5c429cf6-09a2-4087-b1cf-f997d4be9bf7",
      "metadata": {
        "id": "5c429cf6-09a2-4087-b1cf-f997d4be9bf7"
      },
      "outputs": [],
      "source": [
        "# # Plot residual errors\n",
        "# residuals = pd.DataFrame(fit_res.resid)\n",
        "# fig, ax = plt.subplots(1,2, figsize=(10,3))\n",
        "# residuals.plot(title=\"Residuals\", ax=ax[0])\n",
        "# residuals.plot(kind='kde', title='Density', ax=ax[1])\n",
        "# plt.show()"
      ]
    },
    {
      "cell_type": "markdown",
      "id": "f6240ca5-4173-44e0-9c63-51ea101db4a0",
      "metadata": {
        "tags": [],
        "id": "f6240ca5-4173-44e0-9c63-51ea101db4a0"
      },
      "source": [
        "###  plot_predict()"
      ]
    },
    {
      "cell_type": "code",
      "execution_count": null,
      "id": "30d893f5-0e5c-4332-96af-d5697798c6a6",
      "metadata": {
        "id": "30d893f5-0e5c-4332-96af-d5697798c6a6",
        "outputId": "1544540b-5d5c-456c-d165-3188da8ee657"
      },
      "outputs": [
        {
          "data": {
            "image/png": "[encoded data removed]",
            "text/plain": [
              "<Figure size 432x288 with 1 Axes>"
            ]
          },
          "metadata": {
            "needs_background": "light"
          },
          "output_type": "display_data"
        }
      ],
      "source": [
        "fit_res.plot_predict(dynamic=False)  # in-sample lagged values are used for prediction\n",
        "plt.show()"
      ]
    },
    {
      "cell_type": "code",
      "execution_count": null,
      "id": "4e86132f-63b6-4d0f-b580-6bd8ce9c9130",
      "metadata": {
        "id": "4e86132f-63b6-4d0f-b580-6bd8ce9c9130",
        "outputId": "46b34e47-d118-47f0-9667-4a1610140a16"
      },
      "outputs": [
        {
          "data": {
            "text/html": [
              "<div>\n",
              "<style scoped>\n",
              "    .dataframe tbody tr th:only-of-type {\n",
              "        vertical-align: middle;\n",
              "    }\n",
              "\n",
              "    .dataframe tbody tr th {\n",
              "        vertical-align: top;\n",
              "    }\n",
              "\n",
              "    .dataframe thead th {\n",
              "        text-align: right;\n",
              "    }\n",
              "</style>\n",
              "<table border=\"1\" class=\"dataframe\">\n",
              "  <thead>\n",
              "    <tr style=\"text-align: right;\">\n",
              "      <th></th>\n",
              "      <th>Date</th>\n",
              "      <th>Price</th>\n",
              "      <th>Open</th>\n",
              "      <th>High</th>\n",
              "      <th>Low</th>\n",
              "      <th>Vol.</th>\n",
              "      <th>Change</th>\n",
              "    </tr>\n",
              "  </thead>\n",
              "  <tbody>\n",
              "    <tr>\n",
              "      <th>2</th>\n",
              "      <td>2019-03-29</td>\n",
              "      <td>4102.2</td>\n",
              "      <td>4025.7</td>\n",
              "      <td>4123.1</td>\n",
              "      <td>4022.6</td>\n",
              "      <td>3.30</td>\n",
              "      <td>190.0</td>\n",
              "    </tr>\n",
              "    <tr>\n",
              "      <th>1</th>\n",
              "      <td>2019-03-30</td>\n",
              "      <td>4111.8</td>\n",
              "      <td>4103.7</td>\n",
              "      <td>4138.1</td>\n",
              "      <td>4057.1</td>\n",
              "      <td>2.55</td>\n",
              "      <td>23.0</td>\n",
              "    </tr>\n",
              "    <tr>\n",
              "      <th>0</th>\n",
              "      <td>2019-03-31</td>\n",
              "      <td>4102.3</td>\n",
              "      <td>4111.8</td>\n",
              "      <td>4121.9</td>\n",
              "      <td>4082.2</td>\n",
              "      <td>2.43</td>\n",
              "      <td>-23.0</td>\n",
              "    </tr>\n",
              "  </tbody>\n",
              "</table>\n",
              "</div>"
            ],
            "text/plain": [
              "        Date   Price    Open    High     Low  Vol.  Change\n",
              "2 2019-03-29  4102.2  4025.7  4123.1  4022.6  3.30   190.0\n",
              "1 2019-03-30  4111.8  4103.7  4138.1  4057.1  2.55    23.0\n",
              "0 2019-03-31  4102.3  4111.8  4121.9  4082.2  2.43   -23.0"
            ]
          },
          "execution_count": 21,
          "metadata": {},
          "output_type": "execute_result"
        }
      ],
      "source": [
        "df.iloc[-3:]"
      ]
    },
    {
      "cell_type": "code",
      "execution_count": null,
      "id": "0b7593ba-b645-42e9-86a1-b3f234b70792",
      "metadata": {
        "id": "0b7593ba-b645-42e9-86a1-b3f234b70792",
        "outputId": "e6699ff7-0e33-4ba2-e5c2-210d0148288d"
      },
      "outputs": [
        {
          "data": {
            "text/html": [
              "<div>\n",
              "<style scoped>\n",
              "    .dataframe tbody tr th:only-of-type {\n",
              "        vertical-align: middle;\n",
              "    }\n",
              "\n",
              "    .dataframe tbody tr th {\n",
              "        vertical-align: top;\n",
              "    }\n",
              "\n",
              "    .dataframe thead th {\n",
              "        text-align: right;\n",
              "    }\n",
              "</style>\n",
              "<table border=\"1\" class=\"dataframe\">\n",
              "  <thead>\n",
              "    <tr style=\"text-align: right;\">\n",
              "      <th></th>\n",
              "      <th>Price</th>\n",
              "    </tr>\n",
              "    <tr>\n",
              "      <th>Date</th>\n",
              "      <th></th>\n",
              "    </tr>\n",
              "  </thead>\n",
              "  <tbody>\n",
              "    <tr>\n",
              "      <th>2019-02-01</th>\n",
              "      <td>3467.9</td>\n",
              "    </tr>\n",
              "    <tr>\n",
              "      <th>2019-02-02</th>\n",
              "      <td>3502.5</td>\n",
              "    </tr>\n",
              "    <tr>\n",
              "      <th>2019-02-03</th>\n",
              "      <td>3459.1</td>\n",
              "    </tr>\n",
              "    <tr>\n",
              "      <th>2019-02-04</th>\n",
              "      <td>3462.8</td>\n",
              "    </tr>\n",
              "    <tr>\n",
              "      <th>2019-02-05</th>\n",
              "      <td>3468.4</td>\n",
              "    </tr>\n",
              "  </tbody>\n",
              "</table>\n",
              "</div>"
            ],
            "text/plain": [
              "             Price\n",
              "Date              \n",
              "2019-02-01  3467.9\n",
              "2019-02-02  3502.5\n",
              "2019-02-03  3459.1\n",
              "2019-02-04  3462.8\n",
              "2019-02-05  3468.4"
            ]
          },
          "execution_count": 22,
          "metadata": {},
          "output_type": "execute_result"
        }
      ],
      "source": [
        "pdf.head()"
      ]
    },
    {
      "cell_type": "code",
      "execution_count": null,
      "id": "0515d1c4-a870-4818-adc0-0a8a0f872933",
      "metadata": {
        "id": "0515d1c4-a870-4818-adc0-0a8a0f872933"
      },
      "outputs": [],
      "source": [
        "# Apr 01, 2019\t4,145.1\t4,102.3\t4,159.1\t4,076.8\t3.22M\t1.04%\n",
        "# Apr 02, 2019\t4,859.3\t4,145.1\t4,899.6\t4,143.5\t14.77M\t17.23%\n",
        "# Apr 03, 2019\t4,968.7\t4,859.3\t5,278.4\t4,814.0\t13.83M\t2.25%"
      ]
    },
    {
      "cell_type": "code",
      "execution_count": null,
      "id": "b10a0cb4-fa40-48d1-83c6-2e32c8d0f128",
      "metadata": {
        "id": "b10a0cb4-fa40-48d1-83c6-2e32c8d0f128",
        "outputId": "28ae6bac-27f7-493c-954e-39a3e32bff9f"
      },
      "outputs": [
        {
          "name": "stdout",
          "output_type": "stream",
          "text": [
            "2019-02-02    3490.877932\n",
            "2019-02-03    3523.158307\n",
            "2019-02-04    3482.667894\n",
            "2019-02-05    3486.119841\n",
            "2019-02-06    3491.344411\n",
            "Freq: D, dtype: float64\n",
            "------------------------------------------------------------\n",
            "             Price\n",
            "Date              \n",
            "2019-02-02  3502.5\n",
            "2019-02-03  3459.1\n",
            "2019-02-04  3462.8\n",
            "2019-02-05  3468.4\n",
            "2019-02-06  3404.3\n"
          ]
        },
        {
          "name": "stderr",
          "output_type": "stream",
          "text": [
            "c:\\ai\\pythonproject\\venv\\lib\\site-packages\\statsmodels\\tsa\\base\\tsa_model.py:162: ValueWarning: No frequency information was provided, so inferred frequency D will be used.\n",
            "  warnings.warn('No frequency information was'\n"
          ]
        }
      ],
      "source": [
        "\n",
        "model = ARIMA(pdf, order=(1,0,0))\n",
        "fit_res = model.fit()\n",
        "# pred = fit_res.forecast(steps=3)  # 4,145.1\n",
        "pred = fit_res.predict(start=1, end=5,  dynamic=False)\n",
        "\n",
        "print(pred)\n",
        "print(\"--\"*30)\n",
        "print(pdf['2019-02-02':'2019-02-06'])"
      ]
    },
    {
      "cell_type": "markdown",
      "id": "b559c8ca-1264-4c33-a098-619e66c03a89",
      "metadata": {
        "id": "b559c8ca-1264-4c33-a098-619e66c03a89"
      },
      "source": [
        "### 평가\n",
        "* ref  : https://www.machinelearningplus.com/time-series/arima-model-time-series-forecasting-python/"
      ]
    },
    {
      "cell_type": "code",
      "execution_count": null,
      "id": "a5cf3010-9506-4026-b528-902625de9afe",
      "metadata": {
        "id": "a5cf3010-9506-4026-b528-902625de9afe",
        "outputId": "e5b8dc64-59c1-46e0-a3ac-51808c511df2"
      },
      "outputs": [
        {
          "name": "stdout",
          "output_type": "stream",
          "text": [
            "[3490.87793154 3523.15830726 3482.66789378 3486.11984148 3491.34441096]\n",
            "[3502.5 3459.1 3462.8 3468.4 3404.3]\n"
          ]
        },
        {
          "data": {
            "text/plain": [
              "{'MAE': 40.06250438773841,\n",
              " 'RMSE': 50.04796632939464,\n",
              " 'minmax': 0.0114439077506292}"
            ]
          },
          "execution_count": 36,
          "metadata": {},
          "output_type": "execute_result"
        }
      ],
      "source": [
        "# Accuracy metrics\n",
        "def my_score(forecast, actual):\n",
        "    # mape = np.mean(np.abs(forecast - actual)/np.abs(actual)) # MAPE\n",
        "    # me = np.mean(forecast - actual)                          # ME\n",
        "    # mpe = np.mean((forecast - actual)/actual)                # MPE\n",
        "    # acf1 = acf(pred-test)[1]                                 # ACF1\n",
        "    # corr = np.corrcoef(forecast, actual)[0,1]                # corr\n",
        "    \n",
        "    mae = np.mean(np.abs(forecast - actual))                   # MAE\n",
        "    rmse = np.mean((forecast - actual)**2)**.5                 # RMSE\n",
        "    \n",
        "    mins = np.amin(np.hstack([forecast[:,None],  actual[:,None]]), axis=1)\n",
        "    maxs = np.amax(np.hstack([forecast[:,None],  actual[:,None]]), axis=1)\n",
        "    minmax = 1 - np.mean(mins/maxs)                            # minmax\n",
        "    \n",
        "    # return({'mape':mape, 'me':me, 'mae': mae,  'mpe': mpe, 'rmse':rmse, 'corr':corr, 'minmax':minmax})\n",
        "    return({'MAE': mae,  'RMSE':rmse, 'minmax':minmax})\n",
        "\n",
        "# Apr 01, 2019\t4,145.1\n",
        "# Apr 02, 2019\t4,859.3\n",
        "# Apr 03, 2019\t4,968.7\n",
        "\n",
        "print(pred.values)\n",
        "print(pdf['2019-02-02':'2019-02-06'].values.reshape(-1))\n",
        "pred = pred.values\n",
        "y_true = pdf['2019-02-02':'2019-02-06'].values.reshape(-1)\n",
        "my_score(pred, y_true)"
      ]
    },
    {
      "cell_type": "code",
      "execution_count": null,
      "id": "84dd3015-951a-412c-b090-dfbff4a648f1",
      "metadata": {
        "id": "84dd3015-951a-412c-b090-dfbff4a648f1"
      },
      "outputs": [],
      "source": [
        ""
      ]
    }
  ],
  "metadata": {
    "kernelspec": {
      "display_name": "Python 3 (ipykernel)",
      "language": "python",
      "name": "python3"
    },
    "language_info": {
      "codemirror_mode": {
        "name": "ipython",
        "version": 3
      },
      "file_extension": ".py",
      "mimetype": "text/x-python",
      "name": "python",
      "nbconvert_exporter": "python",
      "pygments_lexer": "ipython3",
      "version": "3.8.8"
    },
    "toc-autonumbering": true,
    "colab": {
      "name": "lec17_arima.ipynb",
      "provenance": [],
      "include_colab_link": true
    }
  },
  "nbformat": 4,
  "nbformat_minor": 5
}