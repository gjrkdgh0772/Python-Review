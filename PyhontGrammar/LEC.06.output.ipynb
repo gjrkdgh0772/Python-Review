{
 "cells": [
  {
   "cell_type": "markdown",
   "id": "be7f9972-9cff-4243-87fb-9cbe286979d5",
   "metadata": {},
   "source": [
    "## Input & Output"
   ]
  },
  {
   "cell_type": "code",
   "execution_count": 1,
   "id": "3c959ad6-4b26-42e6-856c-ae81784740ff",
   "metadata": {},
   "outputs": [
    {
     "name": "stdout",
     "output_type": "stream",
     "text": [
      "a 10 b 999\n"
     ]
    }
   ],
   "source": [
    "num = 999\n",
    "print(\"a\", 10 , \"b\", num)"
   ]
  },
  {
   "cell_type": "code",
   "execution_count": 3,
   "id": "1c2ef5f4-1316-4e65-8af3-51093790c374",
   "metadata": {},
   "outputs": [
    {
     "name": "stdout",
     "output_type": "stream",
     "text": [
      "a10b999\n",
      "a--10--b--999\n"
     ]
    }
   ],
   "source": [
    "num = 999\n",
    "print(\"a\", 10 , \"b\", num , sep=\"\")\n",
    "print(\"a\", 10 , \"b\", num , sep=\"--\")"
   ]
  },
  {
   "cell_type": "code",
   "execution_count": 5,
   "id": "e6940dc9-b25b-48a0-b790-081957120dc6",
   "metadata": {},
   "outputs": [
    {
     "name": "stdout",
     "output_type": "stream",
     "text": [
      "a10b999\n",
      "a10b999\ta10b999\n"
     ]
    }
   ],
   "source": [
    "print(\"a\", 10 , \"b\", num , sep=\"\", end=\"\\n\")\n",
    "print(\"a\", 10 , \"b\", num , sep=\"\", end=\"\\t\")\n",
    "print(\"a\", 10 , \"b\", num , sep=\"\")"
   ]
  },
  {
   "cell_type": "markdown",
   "id": "53dd8c78-4d6e-481d-a4a3-3b854914c551",
   "metadata": {},
   "source": [
    "### print(    \"____%d%f____\"  % (num,pi)    )    # 괄호주의\n",
    "\n",
    "* %기호\n",
    "* %s(글자)    %d(숫자)    %f(실수)"
   ]
  },
  {
   "cell_type": "code",
   "execution_count": 16,
   "id": "97b9fee6-4544-4179-9e06-57608e55217f",
   "metadata": {},
   "outputs": [
    {
     "name": "stdout",
     "output_type": "stream",
     "text": [
      "____님은 ____점이다 등급이다.\n",
      "허강호 님은 100 점이다 0.7 등급이다.\n",
      "허강호님은 100점이다 0.700000등급이다.\n"
     ]
    }
   ],
   "source": [
    "name = \"허강호\"\n",
    "score = 100\n",
    "rate = 0.7\n",
    "\n",
    "print(\"____님은 ____점이다 등급이다.\")\n",
    "print(name,\"님은\",score,\"점이다\",rate,\"등급이다.\")\n",
    "print(\"%s님은 %d점이다 %f등급이다.\" % (name, score, rate))"
   ]
  },
  {
   "cell_type": "markdown",
   "id": "6d726cce-0750-4945-99bd-0fb96b130b91",
   "metadata": {},
   "source": [
    "# .Format"
   ]
  },
  {
   "cell_type": "code",
   "execution_count": 31,
   "id": "3e16180c-599f-426c-ba97-e8f43705ab34",
   "metadata": {},
   "outputs": [
    {
     "name": "stdout",
     "output_type": "stream",
     "text": [
      "___님은 ___점입니다\n",
      "허강호님은100점입니다\n",
      "허강호님은100점입니다\n",
      "허강호님은100점입니다\n",
      "100님은허강호점입니다\n",
      "허강호님은허강호점입니다\n",
      "허강호님은100점입니다\n",
      "허강호님은100.00점입니다\n",
      "허강호가 사랑하는 정소희\n"
     ]
    }
   ],
   "source": [
    "name = \"허강호\"\n",
    "name1 = \"정소희\"\n",
    "score = 100\n",
    "print(\"___님은 ___점입니다\")\n",
    "#____________________________________________________\n",
    "print(name, \"님은\", score,\"점입니다\", sep=\"\")\n",
    "print( \"%s님은%d점입니다\" %(name, score))\n",
    "#____________________________________________________\n",
    "print(\"{}님은{}점입니다\".format(name, score))\n",
    "print(\"{1}님은{0}점입니다\".format(name, score)) #--- 비추\n",
    "print(\"{0}님은{0}점입니다\".format(name))\n",
    "#____________________________________________________\n",
    "print(f\"{name}님은{score}점입니다\")  #따끈따끈 문법\n",
    "print(f\"{name}님은{score:.2f}점입니다\")\n",
    "print(f\"{name}가 사랑하는 {name1}\")"
   ]
  },
  {
   "cell_type": "markdown",
   "id": "1a6a3578-f1ce-4a87-9bbf-12d42bd56c92",
   "metadata": {},
   "source": [
    "# File read & wirte"
   ]
  },
  {
   "cell_type": "code",
   "execution_count": 65,
   "id": "689513e4-ff3f-4d96-a11a-7f867b444ce2",
   "metadata": {},
   "outputs": [],
   "source": [
    "f = open('c:\\\\AI\\\\two_times_table.txt','w') # (1)파일을 쓰기 모드로 열기\n",
    "for num in range(1,6):              # (2) for문: num이 1~5까지 반복\n",
    "    format_string = f\"{num}\\n\" # 저장할 문자열 생성\n",
    "    f.write(format_string)          # (3) 파일에 문자열 저장\n",
    "f.close()                           # (4) 파일 닫기"
   ]
  },
  {
   "cell_type": "code",
   "execution_count": 38,
   "id": "152ba2a8-cadd-47ed-9ca0-6ec3623b3457",
   "metadata": {},
   "outputs": [
    {
     "name": "stdout",
     "output_type": "stream",
     "text": [
      "1\n",
      "2\n"
     ]
    }
   ],
   "source": [
    "f = open('c:\\\\AI\\\\two_times_table.txt','r')   # 파일을 읽기 모드로 열기\n",
    "line1 = f.readline()              # 한 줄씩 문자열을 읽기\n",
    "line2 = f.readline()\n",
    "f.close()                         # 파일 닫기\n",
    "print(line1, end=\"\")              # 한 줄씩 문자열 출력(줄 바꿈 안 함)\n",
    "print(line2, end=\"\") "
   ]
  },
  {
   "cell_type": "markdown",
   "id": "32f74350-4317-4929-884b-f8733f918da2",
   "metadata": {},
   "source": [
    "* for 문으로 읽기"
   ]
  },
  {
   "cell_type": "code",
   "execution_count": 71,
   "id": "e3359630-0684-4831-98f6-0de3295eead4",
   "metadata": {},
   "outputs": [
    {
     "name": "stdout",
     "output_type": "stream",
     "text": [
      "1\n",
      "2\n",
      "3\n",
      "4\n",
      "5\n",
      "\n"
     ]
    }
   ],
   "source": [
    "f = open('c:\\\\AI\\\\two_times_table.txt','r')   # 파일을 읽기 모드로 열기\n",
    "temp = \"\"\n",
    "\n",
    "for rnum in range(0,5): \n",
    "    line1 = f.readline()\n",
    "    temp = temp + line1    \n",
    "    \n",
    "\n",
    "f.close()   \n",
    "print(temp)        \n",
    "    \n",
    "    "
   ]
  },
  {
   "cell_type": "markdown",
   "id": "0044021a-57c4-4648-b84f-fc8e28f1c95f",
   "metadata": {},
   "source": [
    "* 특이한 형태로 n줄만 읽어와 ~ 이럴때 쓰는 readline"
   ]
  },
  {
   "cell_type": "code",
   "execution_count": 78,
   "id": "94021e86-5257-4749-8a35-d94ef000c36c",
   "metadata": {},
   "outputs": [
    {
     "name": "stdout",
     "output_type": "stream",
     "text": [
      "['1\\n', '2\\n', '3\\n', '4\\n', '5\\n']\n",
      "1\n",
      "2\n",
      "3\n",
      "4\n",
      "5\n"
     ]
    }
   ],
   "source": [
    "f = open('c:\\\\AI\\\\two_times_table.txt','r')   #비추비추\n",
    "line_list = []\n",
    "for rnum in range(0,5): \n",
    "    line1 = f.readline()\n",
    "    line_list.append(line1)\n",
    "    \n",
    "\n",
    "f.close()   \n",
    "print(line_list)        \n",
    "\n",
    "\n",
    "for line in line_list:\n",
    "    print(line, end = \"\")"
   ]
  },
  {
   "cell_type": "markdown",
   "id": "13f6fc8a-3ba2-484a-b7f8-08838695db36",
   "metadata": {},
   "source": [
    "* while문"
   ]
  },
  {
   "cell_type": "code",
   "execution_count": 1,
   "id": "69601738-d9cc-4c53-832b-b1a6f6f03031",
   "metadata": {},
   "outputs": [
    {
     "name": "stdout",
     "output_type": "stream",
     "text": [
      "15 박수를 1번 쳐 주세요! \n",
      "15 박수를 2번 쳐 주세요! \n",
      "15 박수를 3번 쳐 주세요! \n",
      "15 박수를 4번 쳐 주세요! \n",
      "15 박수를 5번 쳐 주세요! \n",
      "15 박수를 6번 쳐 주세요! \n",
      "15 박수를 7번 쳐 주세요! \n",
      "15 박수를 8번 쳐 주세요! \n",
      "0 "
     ]
    }
   ],
   "source": [
    "f = open('c:\\\\AI\\\\two_times_table.txt','r')  # 파일을 읽기 모드로 열기\n",
    "\n",
    "while True:\n",
    "    line = f.readline()\n",
    "    print(len(line),line, end = \"\")\n",
    "    if len(line) <=0:             # if lune == True: 라고 해도된다\n",
    "        break\n",
    "f.close() # 파일 닫기"
   ]
  },
  {
   "cell_type": "markdown",
   "id": "969a5037-e7f0-4ca8-943c-e61991164981",
   "metadata": {},
   "source": [
    "## 파일전체 다 읽어오기\n",
    "* readline - 리스트로 읽어온다\n",
    "* read"
   ]
  },
  {
   "cell_type": "code",
   "execution_count": 86,
   "id": "08a3d480-064b-4f0b-8f85-7c2ff54d06b0",
   "metadata": {},
   "outputs": [
    {
     "name": "stdout",
     "output_type": "stream",
     "text": [
      "['1\\n', '2\\n', '3\\n', '4\\n', '5\\n']\n"
     ]
    }
   ],
   "source": [
    "f = open(\"c:\\\\AI\\\\two_times_table.txt\",\"r\") # (1) 파일을 읽기 모드로 열기\n",
    "lines = f.readlines()           # (2) 파일 전체 읽기(리스트로 반환)\n",
    "\n",
    "f.close()                       # (3) 파일 닫기\n",
    "\n",
    "print(lines)                    # 리스트 변수 내용 출력\n"
   ]
  },
  {
   "cell_type": "code",
   "execution_count": 2,
   "id": "10e00ff0-a923-4dd9-ae80-f7a5a5689e40",
   "metadata": {},
   "outputs": [
    {
     "name": "stdout",
     "output_type": "stream",
     "text": [
      "박수를 1번 쳐 주세요! \n",
      "박수를 2번 쳐 주세요! \n",
      "박수를 3번 쳐 주세요! \n",
      "박수를 4번 쳐 주세요! \n",
      "박수를 5번 쳐 주세요! \n",
      "박수를 6번 쳐 주세요! \n",
      "박수를 7번 쳐 주세요! \n",
      "박수를 8번 쳐 주세요! \n",
      "\n"
     ]
    }
   ],
   "source": [
    "f = open(\"c:\\\\AI\\\\two_times_table.txt\",\"r\")\n",
    "\n",
    "dddd = f.read()\n",
    "f.close()  \n",
    "print(dddd)"
   ]
  },
  {
   "cell_type": "markdown",
   "id": "68186005-c863-48ee-8d63-3a6e124b5c92",
   "metadata": {},
   "source": [
    "# with open \n",
    "*close() 자동으로 해준다."
   ]
  },
  {
   "cell_type": "code",
   "execution_count": 90,
   "id": "82ee9347-38b5-4b3c-a030-655c903de6f1",
   "metadata": {},
   "outputs": [
    {
     "name": "stdout",
     "output_type": "stream",
     "text": [
      "1\n",
      "2\n",
      "3\n",
      "4\n",
      "5\n",
      "\n"
     ]
    }
   ],
   "source": [
    "f = open(\"c:\\\\AI\\\\two_times_table.txt\",\"r\")\n",
    "print(f.read())\n",
    "f.close()"
   ]
  },
  {
   "cell_type": "code",
   "execution_count": 3,
   "id": "63ed253c-6b23-4546-961d-cb605a663e13",
   "metadata": {},
   "outputs": [
    {
     "name": "stdout",
     "output_type": "stream",
     "text": [
      "박수를 1번 쳐 주세요! \n",
      "박수를 2번 쳐 주세요! \n",
      "박수를 3번 쳐 주세요! \n",
      "박수를 4번 쳐 주세요! \n",
      "박수를 5번 쳐 주세요! \n",
      "박수를 6번 쳐 주세요! \n",
      "박수를 7번 쳐 주세요! \n",
      "박수를 8번 쳐 주세요! \n",
      "\n"
     ]
    }
   ],
   "source": [
    "with open(\"c:\\\\AI\\\\two_times_table.txt\",\"r\") as f:\n",
    "    tt = f.read()\n",
    "    print(tt)"
   ]
  },
  {
   "cell_type": "code",
   "execution_count": 7,
   "id": "51210548-b906-4593-8306-405a57ca6c7d",
   "metadata": {},
   "outputs": [
    {
     "name": "stdout",
     "output_type": "stream",
     "text": [
      "박수를 1번 쳐 주세요! \n",
      "\n"
     ]
    }
   ],
   "source": [
    "temp = \"\"\n",
    "with open(\"c:\\\\AI\\\\two_times_table.txt\",\"r\") as f:\n",
    "    temp = temp + f.readline()\n",
    "    print(temp)"
   ]
  },
  {
   "cell_type": "code",
   "execution_count": 1,
   "id": "9a3219fd-b8a3-4f48-8313-ad9095c47b0b",
   "metadata": {},
   "outputs": [
    {
     "ename": "NameError",
     "evalue": "name 'lines' is not defined",
     "output_type": "error",
     "traceback": [
      "\u001b[1;31m---------------------------------------------------------------------------\u001b[0m",
      "\u001b[1;31mNameError\u001b[0m                                 Traceback (most recent call last)",
      "\u001b[1;32m~\\AppData\\Local\\Temp/ipykernel_11860/680934914.py\u001b[0m in \u001b[0;36m<module>\u001b[1;34m\u001b[0m\n\u001b[0;32m      3\u001b[0m \u001b[1;32mwith\u001b[0m \u001b[0mopen\u001b[0m\u001b[1;33m(\u001b[0m\u001b[1;34m\"c:\\\\AI\\\\two_times_table.txt\"\u001b[0m\u001b[1;33m,\u001b[0m\u001b[1;34m\"r\"\u001b[0m\u001b[1;33m)\u001b[0m \u001b[1;32mas\u001b[0m \u001b[0mf\u001b[0m\u001b[1;33m:\u001b[0m\u001b[1;33m\u001b[0m\u001b[1;33m\u001b[0m\u001b[0m\n\u001b[0;32m      4\u001b[0m     \u001b[0mtemp_list\u001b[0m \u001b[1;33m=\u001b[0m \u001b[0mf\u001b[0m\u001b[1;33m.\u001b[0m\u001b[0mreadlines\u001b[0m\u001b[1;33m(\u001b[0m\u001b[1;33m)\u001b[0m\u001b[1;33m\u001b[0m\u001b[1;33m\u001b[0m\u001b[0m\n\u001b[1;32m----> 5\u001b[1;33m     \u001b[0mprint\u001b[0m\u001b[1;33m(\u001b[0m\u001b[0mlines\u001b[0m\u001b[1;33m)\u001b[0m\u001b[1;33m\u001b[0m\u001b[1;33m\u001b[0m\u001b[0m\n\u001b[0m",
      "\u001b[1;31mNameError\u001b[0m: name 'lines' is not defined"
     ]
    }
   ],
   "source": [
    "temp = \"\"\n",
    "temp_list = []\n",
    "with open(\"c:\\\\AI\\\\two_times_table.txt\",\"r\") as f:\n",
    "    temp_list = f.readlines()\n",
    "    print(lines)"
   ]
  },
  {
   "cell_type": "markdown",
   "id": "2e6108cd-f9f4-46da-90a2-f4a7840324e6",
   "metadata": {},
   "source": [
    "## 미션 --------    파일 안에 있는 애국가 카피\n",
    "'c:\\\\AI\\\\original.txt','r'\n",
    "동해물과 백두산이\n",
    "마르고 닳도록\n",
    "\n",
    "\n",
    "\n",
    "'c:\\\\AI\\\\backup.txt','w'\n",
    "동해물과 백두산이\n",
    "마르고 닳도록"
   ]
  },
  {
   "cell_type": "code",
   "execution_count": 3,
   "id": "37d6c6ea-4501-43e8-a6e1-0a156af06d03",
   "metadata": {},
   "outputs": [],
   "source": [
    "f = open(\"c:\\\\AI\\\\original.txt\",\"w\")\n",
    "f.write('동해물과 백두산이 마르고 닳도록')\n",
    "f.close()\n"
   ]
  },
  {
   "cell_type": "code",
   "execution_count": 4,
   "id": "a1e64e6b-ff31-4a01-84de-545b01af2c39",
   "metadata": {},
   "outputs": [
    {
     "name": "stdout",
     "output_type": "stream",
     "text": [
      "동해물과 백두산이 마르고 닳도록\n"
     ]
    }
   ],
   "source": [
    "f = open(\"c:\\\\AI\\\\original.txt\",\"r\") \n",
    "file_text = f.read()        \n",
    "f.close()                  \n",
    "\n",
    "print(file_text)           "
   ]
  },
  {
   "cell_type": "code",
   "execution_count": 6,
   "id": "67c76301-fbb1-4e49-998f-8cfa4bb714f6",
   "metadata": {},
   "outputs": [],
   "source": [
    "f = open(\"c:\\\\AI\\\\backup.txt\",\"w\")\n",
    "f.write(file_text)\n",
    "f.close()\n"
   ]
  },
  {
   "cell_type": "code",
   "execution_count": 7,
   "id": "399d101d-39f3-4c6b-91fe-5befc76018ba",
   "metadata": {},
   "outputs": [
    {
     "name": "stdout",
     "output_type": "stream",
     "text": [
      "동해물과 백두산이 마르고 닳도록\n"
     ]
    }
   ],
   "source": [
    "f = open(\"c:\\\\AI\\\\backup.txt\",\"r\")\n",
    "ddd = f.read()\n",
    "f.close()\n",
    "\n",
    "print(ddd)"
   ]
  },
  {
   "cell_type": "markdown",
   "id": "28467d07-f0a6-4333-8f3b-83698a9f07c6",
   "metadata": {},
   "source": [
    "temp=\"\"\n",
    "with open ('C:\\\\AI\\\\original.txt', 'r', encoding='UTF8') as f:\n",
    "    for line in range(0,2):\n",
    "        line1=f.readline()\n",
    "        temp=temp+ line1\n",
    "print(temp)\n",
    "\n",
    "\n",
    "with open ('C:\\\\AI\\\\backup.txt', 'w', encoding='UTF8') as f:\n",
    "    for line in range(0,1):\n",
    "        f.write(temp)\n"
   ]
  },
  {
   "cell_type": "markdown",
   "id": "cf3437ff-7f4c-4378-a518-c7ef1428b7b2",
   "metadata": {},
   "source": [
    "with open('C://AI//original.txt', 'w') as f: \n",
    "    f.write('동해물과 백두산이 마르고 닳도록\\n')\n",
    "with open('C://AI//original.txt','r') as f:\n",
    "    x = f.read()\n",
    "    print(x)\n",
    "with open('C://AI//backup.txt','w') as f:\n",
    "    f.write(x)\n"
   ]
  },
  {
   "cell_type": "code",
   "execution_count": 9,
   "id": "363439e3-f48a-4662-8221-76cc5e527ce5",
   "metadata": {},
   "outputs": [
    {
     "name": "stdout",
     "output_type": "stream",
     "text": [
      "동해물과 백두산이 마르고 닳도록\n",
      "동해물과 백두산이 마르고 닳도록\n"
     ]
    }
   ],
   "source": [
    "f = open(\"c:\\\\AI\\\\original.txt\",\"w\")\n",
    "f.write('동해물과 백두산이 마르고 닳도록')\n",
    "f.close()\n",
    "f = open(\"c:\\\\AI\\\\original.txt\",\"r\") \n",
    "file_text = f.read()        \n",
    "f.close()                  \n",
    "print(file_text)  \n",
    "f = open(\"c:\\\\AI\\\\backup.txt\",\"w\")\n",
    "f.write(file_text)\n",
    "f.close()\n",
    "f = open(\"c:\\\\AI\\\\backup.txt\",\"r\")\n",
    "ddd = f.read()\n",
    "f.close()\n",
    "\n",
    "print(ddd)\n"
   ]
  }
 ],
 "metadata": {
  "kernelspec": {
   "display_name": "Python 3 (ipykernel)",
   "language": "python",
   "name": "python3"
  },
  "language_info": {
   "codemirror_mode": {
    "name": "ipython",
    "version": 3
   },
   "file_extension": ".py",
   "mimetype": "text/x-python",
   "name": "python",
   "nbconvert_exporter": "python",
   "pygments_lexer": "ipython3",
   "version": "3.8.8"
  }
 },
 "nbformat": 4,
 "nbformat_minor": 5
}
