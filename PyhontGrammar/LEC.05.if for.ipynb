{
 "cells": [
  {
   "cell_type": "markdown",
   "id": "8feda233-716d-408a-bc9b-2e3dff14c2ea",
   "metadata": {},
   "source": [
    "# 조건문"
   ]
  },
  {
   "cell_type": "markdown",
   "id": "ad6451b7-b241-4201-9c3b-d81d1ce1dbd8",
   "metadata": {},
   "source": [
    "score = 85\n",
    "90~100 A\n",
    "80~90 B\n",
    "      C"
   ]
  },
  {
   "cell_type": "code",
   "execution_count": 8,
   "id": "44817fc8-139f-40c5-80a4-520d9dc47f45",
   "metadata": {},
   "outputs": [
    {
     "name": "stdout",
     "output_type": "stream",
     "text": [
      "B\n"
     ]
    }
   ],
   "source": [
    "score = 85\n",
    "if score >= 90 and score <= 100 :  \n",
    "        print(\"A\")\n",
    "elif score >=80 and score < 90 : \n",
    "        print(\"B\")\n",
    "else : \n",
    "        print(\"C\")"
   ]
  },
  {
   "cell_type": "code",
   "execution_count": 19,
   "id": "ba08ba39-19e7-43d1-91c8-80be5d5c7b31",
   "metadata": {},
   "outputs": [
    {
     "name": "stdout",
     "output_type": "stream",
     "text": [
      "A0\n"
     ]
    }
   ],
   "source": [
    "score = 95   \n",
    "if score >= 90 :\n",
    "    \n",
    "    if score >=97 and score <=100 : print(\"A+\")\n",
    "    elif score >=94 and score <=96 : print(\"A0\")\n",
    "    else : print(\"A-\")\n",
    "        \n",
    "elif score >= 80 and score < 90 : \n",
    "        print(\"B\")\n",
    "else : \n",
    "        print(\"C\")"
   ]
  },
  {
   "cell_type": "markdown",
   "id": "cfcd49f5-6c8d-4ba0-b53f-fc55d71c54ed",
   "metadata": {},
   "source": [
    "# 반복문"
   ]
  },
  {
   "cell_type": "markdown",
   "id": "91f3d408-d812-43bb-a3c2-e8772869fa7d",
   "metadata": {},
   "source": [
    "* for\n",
    "* while\n",
    "* do while XXX"
   ]
  },
  {
   "cell_type": "code",
   "execution_count": 20,
   "id": "dd3b0a06-73ad-41a2-8ea1-81dd401ad554",
   "metadata": {},
   "outputs": [
    {
     "data": {
      "text/plain": [
       "True"
      ]
     },
     "execution_count": 20,
     "metadata": {},
     "output_type": "execute_result"
    }
   ],
   "source": [
    "5 in [1,2,3,4,5]"
   ]
  },
  {
   "cell_type": "code",
   "execution_count": 24,
   "id": "baa8a066-0dda-4a19-b97f-e8c95bd18807",
   "metadata": {},
   "outputs": [
    {
     "name": "stdout",
     "output_type": "stream",
     "text": [
      "1\n",
      "2\n",
      "3\n",
      "4\n",
      "5\n"
     ]
    }
   ],
   "source": [
    "for n in [1,2,3,4,5]:              #1,2,3,4,5 중에 n을 하나빼고 반복적으로 빼라\n",
    "        print(n)"
   ]
  },
  {
   "cell_type": "code",
   "execution_count": 33,
   "id": "d7034f80-777d-4544-9a5f-b80bf66dc81b",
   "metadata": {},
   "outputs": [
    {
     "name": "stdout",
     "output_type": "stream",
     "text": [
      "range(1, 6)\n",
      "5\n",
      "[1, 2, 3, 4, 5]\n",
      "[1, 2, 3, 4, 5]\n",
      "[0, 1, 2, 3, 4, 5]\n"
     ]
    }
   ],
   "source": [
    "#range(<=시작번호, <끝번호, 증가)  #증가에 아무것도 안적은면 1씩증가\n",
    "print(range(1, 6, 1))\n",
    "print(len(range(1, 6, 1)))\n",
    "print(list(range(1, 6, 1)))\n",
    "print(list(range(1, 6)))\n",
    "print(list(range(6)))"
   ]
  },
  {
   "cell_type": "code",
   "execution_count": 30,
   "id": "bd3e3752-95f8-4576-b213-99dbdb97975f",
   "metadata": {},
   "outputs": [
    {
     "name": "stdout",
     "output_type": "stream",
     "text": [
      "1\n",
      "3\n",
      "6\n",
      "10\n",
      "15\n",
      "21\n"
     ]
    }
   ],
   "source": [
    "a = 0\n",
    "sum = 0\n",
    "for n in range(1, 7, 1):\n",
    "        a = a + 1\n",
    "        sum =sum + n\n",
    "       \n",
    "        print(sum)"
   ]
  },
  {
   "cell_type": "markdown",
   "id": "c009314f-7146-4772-acc0-df6ee1a7ab47",
   "metadata": {},
   "source": [
    "## 이중 for 문\n",
    "* 구구단출력 "
   ]
  },
  {
   "cell_type": "markdown",
   "id": "58fb5f22-0ce2-419d-bc4a-0946b2c2fc8a",
   "metadata": {},
   "source": [
    "2 * 1 = 2  2 * 2 = 4 .... 2 * 9 =18\n",
    "3 * 1 = 3  3 * 2 = 6 .... 3 * 9 = 27\n",
    "...\n",
    "9 * 1 = 9 9 * 2 = 18 ... 9 * 9 = 81"
   ]
  },
  {
   "cell_type": "code",
   "execution_count": 56,
   "id": "0b247c7d-b0e7-420c-b37e-84cc75e340d7",
   "metadata": {},
   "outputs": [
    {
     "name": "stdout",
     "output_type": "stream",
     "text": [
      "X * Y = XY\n",
      "2 * 1 =\n",
      "2\n",
      "2 * 2 =\n",
      "4\n",
      "2 * 3 =\n",
      "6\n",
      "2 * 4 =\n",
      "8\n",
      "2 * 5 =\n",
      "10\n",
      "2 * 6 =\n",
      "12\n",
      "2 * 7 =\n",
      "14\n",
      "2 * 8 =\n",
      "16\n",
      "2 * 9 =\n",
      "18\n",
      "3 * 1 =\n",
      "3\n",
      "3 * 2 =\n",
      "6\n",
      "3 * 3 =\n",
      "9\n",
      "3 * 4 =\n",
      "12\n",
      "3 * 5 =\n",
      "15\n",
      "3 * 6 =\n",
      "18\n",
      "3 * 7 =\n",
      "21\n",
      "3 * 8 =\n",
      "24\n",
      "3 * 9 =\n",
      "27\n",
      "4 * 1 =\n",
      "4\n",
      "4 * 2 =\n",
      "8\n",
      "4 * 3 =\n",
      "12\n",
      "4 * 4 =\n",
      "16\n",
      "4 * 5 =\n",
      "20\n",
      "4 * 6 =\n",
      "24\n",
      "4 * 7 =\n",
      "28\n",
      "4 * 8 =\n",
      "32\n",
      "4 * 9 =\n",
      "36\n",
      "5 * 1 =\n",
      "5\n",
      "5 * 2 =\n",
      "10\n",
      "5 * 3 =\n",
      "15\n",
      "5 * 4 =\n",
      "20\n",
      "5 * 5 =\n",
      "25\n",
      "5 * 6 =\n",
      "30\n",
      "5 * 7 =\n",
      "35\n",
      "5 * 8 =\n",
      "40\n",
      "5 * 9 =\n",
      "45\n",
      "6 * 1 =\n",
      "6\n",
      "6 * 2 =\n",
      "12\n",
      "6 * 3 =\n",
      "18\n",
      "6 * 4 =\n",
      "24\n",
      "6 * 5 =\n",
      "30\n",
      "6 * 6 =\n",
      "36\n",
      "6 * 7 =\n",
      "42\n",
      "6 * 8 =\n",
      "48\n",
      "6 * 9 =\n",
      "54\n",
      "7 * 1 =\n",
      "7\n",
      "7 * 2 =\n",
      "14\n",
      "7 * 3 =\n",
      "21\n",
      "7 * 4 =\n",
      "28\n",
      "7 * 5 =\n",
      "35\n",
      "7 * 6 =\n",
      "42\n",
      "7 * 7 =\n",
      "49\n",
      "7 * 8 =\n",
      "56\n",
      "7 * 9 =\n",
      "63\n",
      "8 * 1 =\n",
      "8\n",
      "8 * 2 =\n",
      "16\n",
      "8 * 3 =\n",
      "24\n",
      "8 * 4 =\n",
      "32\n",
      "8 * 5 =\n",
      "40\n",
      "8 * 6 =\n",
      "48\n",
      "8 * 7 =\n",
      "56\n",
      "8 * 8 =\n",
      "64\n",
      "8 * 9 =\n",
      "72\n",
      "9 * 1 =\n",
      "9\n",
      "9 * 2 =\n",
      "18\n",
      "9 * 3 =\n",
      "27\n",
      "9 * 4 =\n",
      "36\n",
      "9 * 5 =\n",
      "45\n",
      "9 * 6 =\n",
      "54\n",
      "9 * 7 =\n",
      "63\n",
      "9 * 8 =\n",
      "72\n",
      "9 * 9 =\n",
      "81\n"
     ]
    }
   ],
   "source": [
    "x_list = [2,3,4,5,6,7,8,9]\n",
    "y_list = [1,2,3,4,5,6,7,8,9]\n",
    "print(\"X\",\"*\",\"Y\",\"=\",\"XY\")\n",
    "for x in x_list:\n",
    "    for y in y_list:\n",
    "        \n",
    "        x * y\n",
    "        print(x,\"*\",y,\"=\") \n",
    "        print(x*y)\n",
    "        "
   ]
  },
  {
   "cell_type": "code",
   "execution_count": 134,
   "id": "15939738-dd85-4ee6-8408-bdaf9e6393ed",
   "metadata": {},
   "outputs": [
    {
     "name": "stdout",
     "output_type": "stream",
     "text": [
      "2 * 1 = 2\t2 * 2 = 4\t2 * 3 = 6\t2 * 4 = 8\t2 * 5 = 10\t2 * 6 = 12\t2 * 7 = 14\t2 * 8 = 16\t2 * 9 = 18\t3 * 1 = 3\t3 * 2 = 6\t3 * 3 = 9\t3 * 4 = 12\t3 * 5 = 15\t3 * 6 = 18\t3 * 7 = 21\t3 * 8 = 24\t3 * 9 = 27\t4 * 1 = 4\t4 * 2 = 8\t4 * 3 = 12\t4 * 4 = 16\t4 * 5 = 20\t4 * 6 = 24\t4 * 7 = 28\t4 * 8 = 32\t4 * 9 = 36\t5 * 1 = 5\t5 * 2 = 10\t5 * 3 = 15\t5 * 4 = 20\t5 * 5 = 25\t5 * 6 = 30\t5 * 7 = 35\t5 * 8 = 40\t5 * 9 = 45\t6 * 1 = 6\t6 * 2 = 12\t6 * 3 = 18\t6 * 4 = 24\t6 * 5 = 30\t6 * 6 = 36\t6 * 7 = 42\t6 * 8 = 48\t6 * 9 = 54\t7 * 1 = 7\t7 * 2 = 14\t7 * 3 = 21\t7 * 4 = 28\t7 * 5 = 35\t7 * 6 = 42\t7 * 7 = 49\t7 * 8 = 56\t7 * 9 = 63\t8 * 1 = 8\t8 * 2 = 16\t8 * 3 = 24\t8 * 4 = 32\t8 * 5 = 40\t8 * 6 = 48\t8 * 7 = 56\t8 * 8 = 64\t8 * 9 = 72\t9 * 1 = 9\t9 * 2 = 18\t9 * 3 = 27\t9 * 4 = 36\t9 * 5 = 45\t9 * 6 = 54\t9 * 7 = 63\t9 * 8 = 72\t9 * 9 = 81\t\n"
     ]
    }
   ],
   "source": [
    "for dan in [2,3,4,5,6,7,8,9]:\n",
    "     for gob in[1,2,3,4,5,6,7,8,9]:\n",
    "                print(dan,\"*\",gob,\"=\",dan*gob,  end=\"\\t\")\n",
    "print(\"\") "
   ]
  },
  {
   "cell_type": "code",
   "execution_count": 6,
   "id": "eb62ae3b-d927-4968-8566-d316ff80bf87",
   "metadata": {},
   "outputs": [
    {
     "name": "stdout",
     "output_type": "stream",
     "text": [
      "★ 구구단을 출력합니다.\n",
      "\n",
      "------- [2단] -------\n",
      "2 X 1 = 2\n",
      "2 X 2 = 4\n",
      "2 X 3 = 6\n",
      "2 X 4 = 8\n",
      "2 X 5 = 10\n",
      "2 X 6 = 12\n",
      "2 X 7 = 14\n",
      "2 X 8 = 16\n",
      "2 X 9 = 18\n",
      "------- [3단] -------\n",
      "3 X 1 = 3\n",
      "3 X 2 = 6\n",
      "3 X 3 = 9\n",
      "3 X 4 = 12\n",
      "3 X 5 = 15\n",
      "3 X 6 = 18\n",
      "3 X 7 = 21\n",
      "3 X 8 = 24\n",
      "3 X 9 = 27\n",
      "------- [4단] -------\n",
      "4 X 1 = 4\n",
      "4 X 2 = 8\n",
      "4 X 3 = 12\n",
      "4 X 4 = 16\n",
      "4 X 5 = 20\n",
      "4 X 6 = 24\n",
      "4 X 7 = 28\n",
      "4 X 8 = 32\n",
      "4 X 9 = 36\n",
      "------- [5단] -------\n",
      "5 X 1 = 5\n",
      "5 X 2 = 10\n",
      "5 X 3 = 15\n",
      "5 X 4 = 20\n",
      "5 X 5 = 25\n",
      "5 X 6 = 30\n",
      "5 X 7 = 35\n",
      "5 X 8 = 40\n",
      "5 X 9 = 45\n",
      "------- [6단] -------\n",
      "6 X 1 = 6\n",
      "6 X 2 = 12\n",
      "6 X 3 = 18\n",
      "6 X 4 = 24\n",
      "6 X 5 = 30\n",
      "6 X 6 = 36\n",
      "6 X 7 = 42\n",
      "6 X 8 = 48\n",
      "6 X 9 = 54\n",
      "------- [7단] -------\n",
      "7 X 1 = 7\n",
      "7 X 2 = 14\n",
      "7 X 3 = 21\n",
      "7 X 4 = 28\n",
      "7 X 5 = 35\n",
      "7 X 6 = 42\n",
      "7 X 7 = 49\n",
      "7 X 8 = 56\n",
      "7 X 9 = 63\n",
      "------- [8단] -------\n",
      "8 X 1 = 8\n",
      "8 X 2 = 16\n",
      "8 X 3 = 24\n",
      "8 X 4 = 32\n",
      "8 X 5 = 40\n",
      "8 X 6 = 48\n",
      "8 X 7 = 56\n",
      "8 X 8 = 64\n",
      "8 X 9 = 72\n",
      "------- [9단] -------\n",
      "9 X 1 = 9\n",
      "9 X 2 = 18\n",
      "9 X 3 = 27\n",
      "9 X 4 = 36\n",
      "9 X 5 = 45\n",
      "9 X 6 = 54\n",
      "9 X 7 = 63\n",
      "9 X 8 = 72\n",
      "9 X 9 = 81\n",
      "---------------------\n"
     ]
    }
   ],
   "source": [
    "# https://wikidocs.net/1028\n",
    "print(\"★ 구구단을 출력합니다.\\n\")\n",
    "for x in range(2, 10):\n",
    "    print(\"------- [\" + str(x) + \"단] -------\")\n",
    "    for y in range(1, 10):\n",
    "        print(x, \"X\", y, \"=\", x*y)\n",
    "print(\"---------------------\")"
   ]
  },
  {
   "cell_type": "markdown",
   "id": "af933c86-6210-424e-8266-72c8080c1008",
   "metadata": {},
   "source": [
    "# for + list"
   ]
  },
  {
   "cell_type": "code",
   "execution_count": 135,
   "id": "f62d2888-3d83-49f2-9ab9-09f30c70386d",
   "metadata": {},
   "outputs": [
    {
     "name": "stdout",
     "output_type": "stream",
     "text": [
      "1\n",
      "2\n",
      "3\n",
      "4\n",
      "5\n"
     ]
    }
   ],
   "source": [
    "num_list = [1,2,3,4,5]\n",
    "for n in num_list:\n",
    "    print(n)"
   ]
  },
  {
   "cell_type": "code",
   "execution_count": 31,
   "id": "48b563a2-4df9-4084-99c9-7db7837d9500",
   "metadata": {},
   "outputs": [
    {
     "name": "stdout",
     "output_type": "stream",
     "text": [
      "1\n",
      "3\n",
      "5\n",
      "7\n",
      "9\n",
      "11\n",
      "13\n"
     ]
    }
   ],
   "source": [
    "num_list1 = [1,3,5,7,9,11,13]\n",
    "for k in num_list1:\n",
    "    print(k)"
   ]
  },
  {
   "cell_type": "code",
   "execution_count": 162,
   "id": "7d285b05-5a83-4cc1-9a0a-91b8aec4f061",
   "metadata": {},
   "outputs": [
    {
     "name": "stdout",
     "output_type": "stream",
     "text": [
      "a 0 a\n",
      "b 1 b\n",
      "c 2 c\n",
      "d 3 d\n",
      "e 4 e\n"
     ]
    }
   ],
   "source": [
    "str_list = [\"a\",\"b\",\"c\",\"d\",\"e\"]\n",
    "for i,n in enumerate(str_list):\n",
    "    print(n, i,str_list[i])"
   ]
  },
  {
   "cell_type": "code",
   "execution_count": 9,
   "id": "177372db-c100-48b9-b48c-e87dde6ba594",
   "metadata": {},
   "outputs": [
    {
     "name": "stdout",
     "output_type": "stream",
     "text": [
      "0 강호 강호\n",
      "1 28살 28살\n",
      "2 취준생 취준생\n",
      "3 파이썬 파이썬\n"
     ]
    }
   ],
   "source": [
    "heo_list = [\"강호\",\"28살\",\"취준생\",\"파이썬\"]\n",
    "for h,k in enumerate(heo_list):\n",
    "    print(h,k,heo_list[h])"
   ]
  },
  {
   "cell_type": "code",
   "execution_count": 13,
   "id": "b0699afb-065c-496c-8605-cd325a5e373f",
   "metadata": {},
   "outputs": [
    {
     "name": "stdout",
     "output_type": "stream",
     "text": [
      "1 28살\n",
      "2 취준생\n"
     ]
    }
   ],
   "source": [
    "heo_list = [\"강호\",\"28살\",\"취준생\",\"파이썬\"]\n",
    "for h in range(1,3):\n",
    "    print(h,heo_list[h])"
   ]
  },
  {
   "cell_type": "code",
   "execution_count": 12,
   "id": "0d40669c-f52d-417a-bc7d-4da9e06be9ed",
   "metadata": {},
   "outputs": [
    {
     "name": "stdout",
     "output_type": "stream",
     "text": [
      "0 a\n",
      "1 b\n",
      "2 c\n",
      "3 d\n"
     ]
    }
   ],
   "source": [
    "str1_list = [\"a\",\"b\",\"c\",\"d\",\"e\"]\n",
    "for k in range(0,4):\n",
    "    print(k,str1_list[k])"
   ]
  },
  {
   "cell_type": "code",
   "execution_count": 178,
   "id": "de2199ae-9a33-43d4-a78b-959f5cb35ff7",
   "metadata": {},
   "outputs": [
    {
     "name": "stdout",
     "output_type": "stream",
     "text": [
      "---------- 1 단 ----------------\n",
      "1 * 1 = 1\t\n",
      "1 * 2 = 2\t\n",
      "1 * 3 = 3\t\n",
      "1 * 4 = 4\t\n",
      "1 * 5 = 5\t\n",
      "1 * 6 = 6\t\n",
      "1 * 7 = 7\t\n",
      "1 * 8 = 8\t\n",
      "1 * 9 = 9\t\n",
      "---------- 2 단 ----------------\n",
      "2 * 1 = 2\t\n",
      "2 * 2 = 4\t\n",
      "2 * 3 = 6\t\n",
      "2 * 4 = 8\t\n",
      "2 * 5 = 10\t\n",
      "2 * 6 = 12\t\n",
      "2 * 7 = 14\t\n",
      "2 * 8 = 16\t\n",
      "2 * 9 = 18\t\n",
      "---------- 3 단 ----------------\n",
      "3 * 1 = 3\t\n",
      "3 * 2 = 6\t\n",
      "3 * 3 = 9\t\n",
      "3 * 4 = 12\t\n",
      "3 * 5 = 15\t\n",
      "3 * 6 = 18\t\n",
      "3 * 7 = 21\t\n",
      "3 * 8 = 24\t\n",
      "3 * 9 = 27\t\n",
      "---------- 4 단 ----------------\n",
      "4 * 1 = 4\t\n",
      "4 * 2 = 8\t\n",
      "4 * 3 = 12\t\n",
      "4 * 4 = 16\t\n",
      "4 * 5 = 20\t\n",
      "4 * 6 = 24\t\n",
      "4 * 7 = 28\t\n",
      "4 * 8 = 32\t\n",
      "4 * 9 = 36\t\n",
      "---------- 5 단 ----------------\n",
      "5 * 1 = 5\t\n",
      "5 * 2 = 10\t\n",
      "5 * 3 = 15\t\n",
      "5 * 4 = 20\t\n",
      "5 * 5 = 25\t\n",
      "5 * 6 = 30\t\n",
      "5 * 7 = 35\t\n",
      "5 * 8 = 40\t\n",
      "5 * 9 = 45\t\n",
      "---------- 6 단 ----------------\n",
      "6 * 1 = 6\t\n",
      "6 * 2 = 12\t\n",
      "6 * 3 = 18\t\n",
      "6 * 4 = 24\t\n",
      "6 * 5 = 30\t\n",
      "6 * 6 = 36\t\n",
      "6 * 7 = 42\t\n",
      "6 * 8 = 48\t\n",
      "6 * 9 = 54\t\n",
      "---------- 7 단 ----------------\n",
      "7 * 1 = 7\t\n",
      "7 * 2 = 14\t\n",
      "7 * 3 = 21\t\n",
      "7 * 4 = 28\t\n",
      "7 * 5 = 35\t\n",
      "7 * 6 = 42\t\n",
      "7 * 7 = 49\t\n",
      "7 * 8 = 56\t\n",
      "7 * 9 = 63\t\n",
      "---------- 8 단 ----------------\n",
      "8 * 1 = 8\t\n",
      "8 * 2 = 16\t\n",
      "8 * 3 = 24\t\n",
      "8 * 4 = 32\t\n",
      "8 * 5 = 40\t\n",
      "8 * 6 = 48\t\n",
      "8 * 7 = 56\t\n",
      "8 * 8 = 64\t\n",
      "8 * 9 = 72\t\n",
      "---------- 9 단 ----------------\n",
      "9 * 1 = 9\t\n",
      "9 * 2 = 18\t\n",
      "9 * 3 = 27\t\n",
      "9 * 4 = 36\t\n",
      "9 * 5 = 45\t\n",
      "9 * 6 = 54\t\n",
      "9 * 7 = 63\t\n",
      "9 * 8 = 72\t\n",
      "9 * 9 = 81\t\n"
     ]
    }
   ],
   "source": [
    "list_X = [1,2,3,4,5,6,7,8,9]\n",
    "list_Y = [1,2,3,4,5,6,7,8,9]\n",
    "for X in list_X:\n",
    "    print(\"----------\",X,\"단\",\"----------------\")\n",
    "    for Y in list_Y:\n",
    "        print(X,\"*\",Y,\"=\",X*Y, end=\"\\t\")\n",
    "        print(\"\")\n",
    "        \n",
    "      "
   ]
  },
  {
   "cell_type": "code",
   "execution_count": null,
   "id": "410dc563-1c5f-47e5-9aee-feadc230bc95",
   "metadata": {},
   "outputs": [],
   "source": [
    "print(\"a\", end=',')\n",
    "print(\"b\")\n",
    "\n",
    "print(\"a\",\"b\")\n",
    "print(\"a\",\",\",\"b\")"
   ]
  },
  {
   "cell_type": "code",
   "execution_count": 11,
   "id": "7a109226-0ea1-44e1-98bf-97ff3a43d3c7",
   "metadata": {},
   "outputs": [
    {
     "name": "stdout",
     "output_type": "stream",
     "text": [
      "i sum\n",
      "1 1\n",
      "2 3\n",
      "3 6\n",
      "4 10\n",
      "5 15\n",
      "6 21\n"
     ]
    }
   ],
   "source": [
    "i = 0     # 초기화\n",
    "sum = 0   # 초기화\n",
    "\n",
    "print(\"i sum\")\n",
    "while (sum < 20):  # 조건 검사\n",
    "    i = i + 1      # i를 1씩 증가\n",
    "    sum = sum + i  # 이전의 sum과 현재 i를 더해서 sum을 갱신\n",
    "    print(i, sum)  # i와 sum을 출력"
   ]
  },
  {
   "cell_type": "code",
   "execution_count": 56,
   "id": "f88a9de9-204c-403a-8745-989a128b3a11",
   "metadata": {},
   "outputs": [
    {
     "name": "stdout",
     "output_type": "stream",
     "text": [
      "2 X 1 = 2\n",
      "2 X 2 = 4\n",
      "2 X 3 = 6\n",
      "2 X 4 = 8\n",
      "2 X 5 = 10\n",
      "2 X 6 = 12\n",
      "2 X 7 = 14\n",
      "2 X 8 = 16\n",
      "2 X 9 = 18\n",
      "3 X 1 = 3\n",
      "3 X 2 = 6\n",
      "3 X 3 = 9\n",
      "3 X 4 = 12\n",
      "3 X 5 = 15\n",
      "3 X 6 = 18\n",
      "3 X 7 = 21\n",
      "3 X 8 = 24\n",
      "3 X 9 = 27\n"
     ]
    }
   ],
   "source": [
    "i = 1\n",
    "while i < 3:\n",
    "    i = i + 1\n",
    "    j = 1\n",
    "    while j < 10:\n",
    "        print(i, 'X', j, '=', i*j)\n",
    "        j = j + 1"
   ]
  },
  {
   "cell_type": "markdown",
   "id": "33ecdc9b-6d13-4e9f-94e5-1c6224c14657",
   "metadata": {},
   "source": [
    "## 중첩 while 문"
   ]
  },
  {
   "cell_type": "code",
   "execution_count": 1,
   "id": "f8247f67-8107-43ce-92a6-e5049febaa8f",
   "metadata": {},
   "outputs": [
    {
     "name": "stdout",
     "output_type": "stream",
     "text": [
      "구구단을 외자\n",
      "--------\n",
      "2 * 1 = 2\t\n",
      "2 * 2 = 4\t\n",
      "2 * 3 = 6\t\n",
      "2 * 4 = 8\t\n",
      "2 * 5 = 10\t\n",
      "2 * 6 = 12\t\n",
      "2 * 7 = 14\t\n",
      "2 * 8 = 16\t\n",
      "2 * 9 = 18\t\n",
      "--------\n",
      "3 * 1 = 3\t\n",
      "3 * 2 = 6\t\n",
      "3 * 3 = 9\t\n",
      "3 * 4 = 12\t\n",
      "3 * 5 = 15\t\n",
      "3 * 6 = 18\t\n",
      "3 * 7 = 21\t\n",
      "3 * 8 = 24\t\n",
      "3 * 9 = 27\t\n",
      "--------\n",
      "4 * 1 = 4\t\n",
      "4 * 2 = 8\t\n",
      "4 * 3 = 12\t\n",
      "4 * 4 = 16\t\n",
      "4 * 5 = 20\t\n",
      "4 * 6 = 24\t\n",
      "4 * 7 = 28\t\n",
      "4 * 8 = 32\t\n",
      "4 * 9 = 36\t\n",
      "--------\n",
      "5 * 1 = 5\t\n",
      "5 * 2 = 10\t\n",
      "5 * 3 = 15\t\n",
      "5 * 4 = 20\t\n",
      "5 * 5 = 25\t\n",
      "5 * 6 = 30\t\n",
      "5 * 7 = 35\t\n",
      "5 * 8 = 40\t\n",
      "5 * 9 = 45\t\n",
      "--------\n",
      "6 * 1 = 6\t\n",
      "6 * 2 = 12\t\n",
      "6 * 3 = 18\t\n",
      "6 * 4 = 24\t\n",
      "6 * 5 = 30\t\n",
      "6 * 6 = 36\t\n",
      "6 * 7 = 42\t\n",
      "6 * 8 = 48\t\n",
      "6 * 9 = 54\t\n",
      "--------\n",
      "7 * 1 = 7\t\n",
      "7 * 2 = 14\t\n",
      "7 * 3 = 21\t\n",
      "7 * 4 = 28\t\n",
      "7 * 5 = 35\t\n",
      "7 * 6 = 42\t\n",
      "7 * 7 = 49\t\n",
      "7 * 8 = 56\t\n",
      "7 * 9 = 63\t\n",
      "--------\n",
      "8 * 1 = 8\t\n",
      "8 * 2 = 16\t\n",
      "8 * 3 = 24\t\n",
      "8 * 4 = 32\t\n",
      "8 * 5 = 40\t\n",
      "8 * 6 = 48\t\n",
      "8 * 7 = 56\t\n",
      "8 * 8 = 64\t\n",
      "8 * 9 = 72\t\n",
      "--------\n",
      "9 * 1 = 9\t\n",
      "9 * 2 = 18\t\n",
      "9 * 3 = 27\t\n",
      "9 * 4 = 36\t\n",
      "9 * 5 = 45\t\n",
      "9 * 6 = 54\t\n",
      "9 * 7 = 63\t\n",
      "9 * 8 = 72\t\n",
      "9 * 9 = 81\t\n"
     ]
    }
   ],
   "source": [
    "곱 = 1\n",
    "print(\"구구단을 외자\")\n",
    "while 곱<9:\n",
    "    곱 = 곱+1\n",
    "    print(\"--------\")\n",
    "    \n",
    "    곱2 = 1\n",
    "    while 곱2<10:\n",
    "        print(곱,\"*\",곱2,\"=\",곱*곱2,end=\"\\t\")\n",
    "        곱2 = 곱2 + 1\n",
    "        print(\"\")"
   ]
  },
  {
   "cell_type": "code",
   "execution_count": 200,
   "id": "f4718cfd-b554-4ec3-8593-059a13764ca9",
   "metadata": {},
   "outputs": [
    {
     "name": "stdout",
     "output_type": "stream",
     "text": [
      "------- 2단 -------\n",
      "2 * 1 = 2\t\n",
      "2 * 2 = 4\t\n",
      "2 * 3 = 6\t\n",
      "2 * 4 = 8\t\n",
      "2 * 5 = 10\t\n",
      "2 * 6 = 12\t\n",
      "2 * 7 = 14\t\n",
      "2 * 8 = 16\t\n",
      "2 * 9 = 18\t\n",
      "------- 3단 -------\n",
      "3 * 1 = 3\t\n",
      "3 * 2 = 6\t\n",
      "3 * 3 = 9\t\n",
      "3 * 4 = 12\t\n",
      "3 * 5 = 15\t\n",
      "3 * 6 = 18\t\n",
      "3 * 7 = 21\t\n",
      "3 * 8 = 24\t\n",
      "3 * 9 = 27\t\n",
      "------- 4단 -------\n",
      "4 * 1 = 4\t\n",
      "4 * 2 = 8\t\n",
      "4 * 3 = 12\t\n",
      "4 * 4 = 16\t\n",
      "4 * 5 = 20\t\n",
      "4 * 6 = 24\t\n",
      "4 * 7 = 28\t\n",
      "4 * 8 = 32\t\n",
      "4 * 9 = 36\t\n",
      "------- 5단 -------\n",
      "5 * 1 = 5\t\n",
      "5 * 2 = 10\t\n",
      "5 * 3 = 15\t\n",
      "5 * 4 = 20\t\n",
      "5 * 5 = 25\t\n",
      "5 * 6 = 30\t\n",
      "5 * 7 = 35\t\n",
      "5 * 8 = 40\t\n",
      "5 * 9 = 45\t\n",
      "------- 6단 -------\n",
      "6 * 1 = 6\t\n",
      "6 * 2 = 12\t\n",
      "6 * 3 = 18\t\n",
      "6 * 4 = 24\t\n",
      "6 * 5 = 30\t\n",
      "6 * 6 = 36\t\n",
      "6 * 7 = 42\t\n",
      "6 * 8 = 48\t\n",
      "6 * 9 = 54\t\n",
      "------- 7단 -------\n",
      "7 * 1 = 7\t\n",
      "7 * 2 = 14\t\n",
      "7 * 3 = 21\t\n",
      "7 * 4 = 28\t\n",
      "7 * 5 = 35\t\n",
      "7 * 6 = 42\t\n",
      "7 * 7 = 49\t\n",
      "7 * 8 = 56\t\n",
      "7 * 9 = 63\t\n",
      "------- 8단 -------\n",
      "8 * 1 = 8\t\n",
      "8 * 2 = 16\t\n",
      "8 * 3 = 24\t\n",
      "8 * 4 = 32\t\n",
      "8 * 5 = 40\t\n",
      "8 * 6 = 48\t\n",
      "8 * 7 = 56\t\n",
      "8 * 8 = 64\t\n",
      "8 * 9 = 72\t\n",
      "------- 9단 -------\n",
      "9 * 1 = 9\t\n",
      "9 * 2 = 18\t\n",
      "9 * 3 = 27\t\n",
      "9 * 4 = 36\t\n",
      "9 * 5 = 45\t\n",
      "9 * 6 = 54\t\n",
      "9 * 7 = 63\t\n",
      "9 * 8 = 72\t\n",
      "9 * 9 = 81\t\n",
      "------- 10단 -------\n",
      "10 * 1 = 10\t\n",
      "10 * 2 = 20\t\n",
      "10 * 3 = 30\t\n",
      "10 * 4 = 40\t\n",
      "10 * 5 = 50\t\n",
      "10 * 6 = 60\t\n",
      "10 * 7 = 70\t\n",
      "10 * 8 = 80\t\n",
      "10 * 9 = 90\t\n"
     ]
    }
   ],
   "source": [
    "dan = 1\n",
    "\n",
    "while dan < 10:\n",
    "    dan = dan + 1\n",
    "    print(\"------- \" + str(dan) + \"단 -------\")\n",
    "    gob = 1\n",
    "    \n",
    "    while gob < 10:\n",
    "        print(dan,\"*\",gob,\"=\",dan * gob, end=\"\\t\")\n",
    "        gob = gob + 1\n",
    "        print(\"\")\n",
    "        "
   ]
  },
  {
   "cell_type": "markdown",
   "id": "8a272510-1ac2-4f38-9a34-3eb6cd26037a",
   "metadata": {},
   "source": [
    "### for 한줄표현"
   ]
  },
  {
   "cell_type": "code",
   "execution_count": 88,
   "id": "578f20b4-789c-46ea-aa9d-8a224d7b80a9",
   "metadata": {},
   "outputs": [
    {
     "name": "stdout",
     "output_type": "stream",
     "text": [
      "1\n",
      "2\n",
      "3\n",
      "4\n",
      "5\n"
     ]
    }
   ],
   "source": [
    "numbers = [1,2,3,4,5]\n",
    "for i in numbers:\n",
    "    print(i)"
   ]
  },
  {
   "cell_type": "code",
   "execution_count": 90,
   "id": "4e39cf4d-72dc-4806-90fc-6684a475b2d5",
   "metadata": {},
   "outputs": [
    {
     "name": "stdout",
     "output_type": "stream",
     "text": [
      "[1, 2, 3, 4, 5]\n"
     ]
    }
   ],
   "source": [
    "temp = [i for i in numbers]  # 한줄표현\n",
    "print(temp)"
   ]
  },
  {
   "cell_type": "code",
   "execution_count": 101,
   "id": "5f18d605-c780-4ad8-9d5a-16aca2aa79f1",
   "metadata": {},
   "outputs": [
    {
     "name": "stdout",
     "output_type": "stream",
     "text": [
      "1 홀수\n",
      "3 홀수\n",
      "5 홀수\n"
     ]
    }
   ],
   "source": [
    "numbers = [1,2,3,4,5]          # 하드코딩...\n",
    "for i in numbers:\n",
    "    if i==1:\n",
    "        print(i,\"홀수\")\n",
    "    elif i==3:\n",
    "        print(i,\"홀수\")\n",
    "    elif i==5:\n",
    "        print(i,\"홀수\")"
   ]
  },
  {
   "cell_type": "code",
   "execution_count": null,
   "id": "29e13c39-99b9-432a-9fe2-9984c01ff751",
   "metadata": {},
   "outputs": [],
   "source": [
    "\n"
   ]
  },
  {
   "cell_type": "code",
   "execution_count": 102,
   "id": "aaaee8fc-73ee-45a6-8fe7-6ed457fb6ebb",
   "metadata": {},
   "outputs": [
    {
     "name": "stdout",
     "output_type": "stream",
     "text": [
      "1 홀수\n",
      "3 홀수\n",
      "5 홀수\n"
     ]
    }
   ],
   "source": [
    "numbers = [1,2,3,4,5]          \n",
    "for i in numbers:\n",
    "    if (i%2) == 1:\n",
    "        print(i, \"홀수\")"
   ]
  },
  {
   "cell_type": "code",
   "execution_count": 118,
   "id": "55c6ec8e-7ff1-480b-ab09-f4619e99c6da",
   "metadata": {},
   "outputs": [
    {
     "name": "stdout",
     "output_type": "stream",
     "text": [
      "['1-홀수', '3-홀수', '5-홀수', '7-홀수', '9-홀수', '11-홀수']\n"
     ]
    }
   ],
   "source": [
    "numbers = [1,2,3,4,5,6,7,8,9,10,11]\n",
    "print([str(i)+\"-홀수\" for i in numbers if i%2 == 1])"
   ]
  },
  {
   "cell_type": "code",
   "execution_count": 127,
   "id": "7fd559d2-9ec6-4146-846b-532262ba99ee",
   "metadata": {},
   "outputs": [
    {
     "name": "stdout",
     "output_type": "stream",
     "text": [
      "1 홀수\n",
      "2 짝수\n",
      "3 홀수\n",
      "4 짝수\n",
      "5 홀수\n"
     ]
    }
   ],
   "source": [
    "numbers = [1,2,3,4,5]          \n",
    "for i in numbers:\n",
    "    if (i%2) == 1:\n",
    "        print(i, \"홀수\")\n",
    "    else:\n",
    "        print(i,\"짝수\")"
   ]
  },
  {
   "cell_type": "code",
   "execution_count": 133,
   "id": "a3674576-1289-4bed-a246-42b28ea81bc6",
   "metadata": {},
   "outputs": [
    {
     "name": "stdout",
     "output_type": "stream",
     "text": [
      "['1-홀수', '2-짝수', '3-홀수', '4-짝수', '5-홀수']\n"
     ]
    }
   ],
   "source": [
    "print([str(i)+\"-홀수\" if i%2 == 1 else str(i)+\"-짝수\" for i in numbers ])  #else 가 나올때 에는 포 문 앞으로 입력시킨다"
   ]
  },
  {
   "cell_type": "code",
   "execution_count": 212,
   "id": "5dfb68dd-94c8-4d48-b5d0-0f395c7be57b",
   "metadata": {},
   "outputs": [
    {
     "name": "stdout",
     "output_type": "stream",
     "text": [
      "['1-홀수', '2-짝수', '3-홀수', '4-짝수', '5-홀수', '6-짝수']\n"
     ]
    }
   ],
   "source": []
  },
  {
   "cell_type": "code",
   "execution_count": 120,
   "id": "1116f894-29b3-4f5c-9fc3-096026911393",
   "metadata": {},
   "outputs": [
    {
     "name": "stdout",
     "output_type": "stream",
     "text": [
      "5 홀수\n"
     ]
    }
   ],
   "source": [
    "i = 5\n",
    "if (i%2) == 1:\n",
    "    print(i,\"홀수\")\n",
    "else:\n",
    "    print(i,\"짝수\")"
   ]
  },
  {
   "cell_type": "code",
   "execution_count": 123,
   "id": "d2005b15-13a8-46e0-96f9-fec623b164e6",
   "metadata": {},
   "outputs": [
    {
     "name": "stdout",
     "output_type": "stream",
     "text": [
      "홀수\n"
     ]
    }
   ],
   "source": [
    "AAA=\"홀수\" if (i%2) == 1 else \"짝수\"\n",
    "print(AAA)"
   ]
  },
  {
   "cell_type": "code",
   "execution_count": 135,
   "id": "03a3eee9-841d-47e3-bb24-bcb05494ec75",
   "metadata": {},
   "outputs": [
    {
     "name": "stdout",
     "output_type": "stream",
     "text": [
      "음수\n",
      "홀수\n",
      "짝수\n",
      "홀수\n",
      "짝수\n",
      "홀수\n",
      "짝수\n",
      "홀수\n",
      "짝수\n",
      "홀수\n"
     ]
    }
   ],
   "source": [
    "numbers = [-1,1,2,3,4,5,6,7,8,9]          \n",
    "for i in numbers:\n",
    "    if (i<0):\n",
    "        print(\"음수\")\n",
    "    elif (i>0) and (i%2) == 1:\n",
    "        print(\"홀수\")\n",
    "    else:\n",
    "        print(\"짝수\")"
   ]
  },
  {
   "cell_type": "code",
   "execution_count": 140,
   "id": "2f073fa4-f65b-4f30-a287-f208deff910b",
   "metadata": {},
   "outputs": [
    {
     "name": "stdout",
     "output_type": "stream",
     "text": [
      "1\n",
      "2\n",
      "박수\n",
      "4\n",
      "5\n",
      "박수\n"
     ]
    }
   ],
   "source": [
    "numbers = [1,2,3,4,5,6]          \n",
    "for i in numbers:\n",
    "    if (i%3) == 1:\n",
    "        print(i)\n",
    "    elif (i%3) == 2:\n",
    "        print(i)\n",
    "    else:\n",
    "        print(\"박수\")"
   ]
  },
  {
   "cell_type": "code",
   "execution_count": 160,
   "id": "d4ef77dd-6f0b-4cb6-b48b-a87c942821e4",
   "metadata": {},
   "outputs": [
    {
     "name": "stdout",
     "output_type": "stream",
     "text": [
      "[1, 2, '박수', 4, 5, '박수']\n"
     ]
    }
   ],
   "source": [
    "print([i if (i%3) ==1 else (i if (i%3) == 2  else  \"박수\")  for i in numbers ]) #한줄표현,,,"
   ]
  },
  {
   "cell_type": "code",
   "execution_count": 219,
   "id": "cd7e63d0-ab83-48ce-a4cd-d523e669b2e8",
   "metadata": {},
   "outputs": [
    {
     "name": "stdout",
     "output_type": "stream",
     "text": [
      "12박수45박수78박수"
     ]
    }
   ],
   "source": [
    "numbers = [1,2,3,4,5,6,7,8,9]\n",
    "for n in numbers:\n",
    "    if (n%3) == 1:\n",
    "        print(n, end=\"\")\n",
    "    elif (n%3) == 2:\n",
    "        print(n, end=\"\")\n",
    "    else:\n",
    "        print(\"박수\", end=\"\")\n",
    "        "
   ]
  },
  {
   "cell_type": "code",
   "execution_count": 225,
   "id": "0a376ee1-d668-4443-852f-f8a477c32b39",
   "metadata": {},
   "outputs": [
    {
     "name": "stdout",
     "output_type": "stream",
     "text": [
      "[1, 2, '박수', 4, 5, '박수', 7, 8, '박수']\n"
     ]
    }
   ],
   "source": [
    "print([n if (n%3) == 1  else(n if (n%3) == 2  else \"박수\") for n in numbers])"
   ]
  }
 ],
 "metadata": {
  "kernelspec": {
   "display_name": "Python 3 (ipykernel)",
   "language": "python",
   "name": "python3"
  },
  "language_info": {
   "codemirror_mode": {
    "name": "ipython",
    "version": 3
   },
   "file_extension": ".py",
   "mimetype": "text/x-python",
   "name": "python",
   "nbconvert_exporter": "python",
   "pygments_lexer": "ipython3",
   "version": "3.8.8"
  }
 },
 "nbformat": 4,
 "nbformat_minor": 5
}
