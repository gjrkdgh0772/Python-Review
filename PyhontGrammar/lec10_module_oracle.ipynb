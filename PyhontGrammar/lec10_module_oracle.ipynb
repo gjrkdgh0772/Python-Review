{
 "cells": [
  {
   "cell_type": "markdown",
   "id": "e429a8e0-09f0-44e1-9153-8ed5815c521d",
   "metadata": {},
   "source": [
    "## ch 10. Oracle  연동\n",
    "* lec10_module_oracle.ipynb\n",
    "* pip install cx_Oracle"
   ]
  },
  {
   "cell_type": "markdown",
   "id": "ad653a98-8e8e-4a7d-bd90-83c46c8893ed",
   "metadata": {},
   "source": [
    "#### 절대경로 , 상대경로\n",
    "절대경로 abs path c:\\AI\\python38\\xxxxx.txt\n",
    "상대경로 rel path  python39.include/cpython/pymem.h\n",
    "                  ../../../\n",
    "                  AI C: error"
   ]
  },
  {
   "cell_type": "markdown",
   "id": "3e999b74-c936-4d7d-b21a-43404934045e",
   "metadata": {},
   "source": [
    "* 날짜"
   ]
  },
  {
   "cell_type": "code",
   "execution_count": 3,
   "id": "353df408-7d31-4061-aaf1-d98a2058b014",
   "metadata": {},
   "outputs": [
    {
     "name": "stdout",
     "output_type": "stream",
     "text": [
      "2019-03-01 <class 'datetime.date'>\n",
      "2019 3 1\n"
     ]
    }
   ],
   "source": [
    "import datetime\n",
    "set_day = datetime.date(2019,3,1)\n",
    "print(set_day, type(set_day))\n",
    "print(set_day.year, set_day.month, set_day.day)"
   ]
  },
  {
   "cell_type": "code",
   "execution_count": 4,
   "id": "653945c2-ac85-42d1-8e09-3f26e1cf6d7d",
   "metadata": {},
   "outputs": [
    {
     "name": "stdout",
     "output_type": "stream",
     "text": [
      "2021-12-31\n"
     ]
    }
   ],
   "source": [
    "print(datetime.date.today())\n",
    "#select sysdate from dual"
   ]
  },
  {
   "cell_type": "markdown",
   "id": "dc5d476c-2d06-4d93-926a-c672eee8d659",
   "metadata": {},
   "source": [
    "## 날짜내장모듈 datetime"
   ]
  },
  {
   "cell_type": "code",
   "execution_count": 5,
   "id": "0897a465-6c3e-48a3-a70b-47bdf16d5cd1",
   "metadata": {},
   "outputs": [
    {
     "name": "stdout",
     "output_type": "stream",
     "text": [
      "2018-10-09 10:20:00\n"
     ]
    }
   ],
   "source": [
    "import datetime\n",
    "\n",
    "set_dt = datetime.datetime(2018, 10, 9, 10, 20, 0)\n",
    "print(set_dt)"
   ]
  },
  {
   "cell_type": "code",
   "execution_count": 6,
   "id": "4c63649e-6c48-4b43-aff9-9c6ef8b9d6f3",
   "metadata": {},
   "outputs": [
    {
     "name": "stdout",
     "output_type": "stream",
     "text": [
      "2021-12-31 16:32:10.619714\n"
     ]
    }
   ],
   "source": [
    "import datetime\n",
    "\n",
    "now = datetime.datetime.now()\n",
    "print(now)"
   ]
  },
  {
   "cell_type": "code",
   "execution_count": null,
   "id": "68eb6a91-e9b9-484f-8b83-6d67056e5c1c",
   "metadata": {},
   "outputs": [],
   "source": []
  },
  {
   "cell_type": "code",
   "execution_count": null,
   "id": "805f8920-6663-4bcf-ae9c-ac6e7bf78d09",
   "metadata": {},
   "outputs": [],
   "source": []
  },
  {
   "cell_type": "code",
   "execution_count": null,
   "id": "932ffb21-2dd5-46ae-a454-6dfb3c1a8ad3",
   "metadata": {},
   "outputs": [],
   "source": []
  },
  {
   "cell_type": "code",
   "execution_count": null,
   "id": "09cba175-5fa8-4934-a2ce-bba5c5587662",
   "metadata": {},
   "outputs": [],
   "source": []
  }
 ],
 "metadata": {
  "kernelspec": {
   "display_name": "Python 3 (ipykernel)",
   "language": "python",
   "name": "python3"
  },
  "language_info": {
   "codemirror_mode": {
    "name": "ipython",
    "version": 3
   },
   "file_extension": ".py",
   "mimetype": "text/x-python",
   "name": "python",
   "nbconvert_exporter": "python",
   "pygments_lexer": "ipython3",
   "version": "3.8.8"
  }
 },
 "nbformat": 4,
 "nbformat_minor": 5
}
