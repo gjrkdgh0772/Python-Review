{
 "cells": [
  {
   "cell_type": "markdown",
   "id": "39d6fd02-74d2-4f12-9607-1548d99663b6",
   "metadata": {},
   "source": [
    "# ch14. 정규 표현식"
   ]
  },
  {
   "cell_type": "markdown",
   "id": "e89c4b99-51d2-48b1-b3d7-fdff362e6ab0",
   "metadata": {
    "tags": []
   },
   "source": [
    "> <font size=4>**메타문자**"
   ]
  },
  {
   "cell_type": "markdown",
   "id": "3764d3d9-4924-43dd-bbf2-9aaf553555dc",
   "metadata": {},
   "source": [
    "|메타문자| |사용예|설명|\n",
    "|------|---|---|---|\n",
    "|[ ]|문자 클래스|[abc]|a, b, c 중 한 개의 문자와 매치                              &nbsp;|\n",
    "|[s-e]| |[0-2]<br>[a-c]<br>[a-zA-Z]<br>[0-9]|0,1,2<br>a,b,c<br>알파벳모두<br>숫자|\n",
    "|^|반대|[^0-9]|숫자가 아닌 문자와 매치|\n",
    "|<font color=red size=4><b>?|0또는1글자<br>(있어도 되고 없어도 되고)|ab?c|?앞에 문자 b를 0 또는 1번 반복<br>O abc<br>O ac<br>X abbc|\n",
    "|<font color=red size=4><b>.|1글자|a.b<br>a[.]b|a + 모든문자 + b<br>a + Dot(.)문자 + b|\n",
    "|<font color=red size=4><b>*|반복 0~|ca*t| *앞에 문자 a를 0~ 반복<br>O ct<br>O cat<br>O caaat|\n",
    "|<font color=red size=4><b>+|반복 1~|ca+t| +앞에 문자 a를 1~ 반복<br>X ct<br>O cat<br>O caaat|  \n",
    "|{s,e}|반복 s~e|{3,5}<br>{3, }<br>{ ,5}<br>{1, }<br>{0, }<br>ca{2}t<br> <br> <br>ca{2,4}t<br> <br> <br> <br>|3이상 ~ 5이하 반복<br>3~ 이상 반복<br>~5 이하 반복<br>+<br>*<br>{2}앞에 문자a를 2번반복<br>X cat<br>O caat<br>{2}앞에 문자a를 2 ~ 4번반복<br>X cat<br>O caat<br>O caaaat|"
   ]
  },
  {
   "cell_type": "markdown",
   "id": "920e8d46-0624-4cb2-ad36-2a9fa515e3a9",
   "metadata": {},
   "source": [
    "<pre> \n",
    "^…$\tStarts and ends\n",
    "(…)\tCapture Group\n",
    "(a(bc))\tCapture Sub-group\n",
    "(.*)\tCapture all\n",
    "(abc|def)\tMatches abc or def"
   ]
  },
  {
   "cell_type": "markdown",
   "id": "c033ec3c-e094-4ad2-b214-906b872241d5",
   "metadata": {},
   "source": [
    "> <font size=4> **자주 사용하는 문자 클래스**"
   ]
  },
  {
   "cell_type": "markdown",
   "id": "7b7c37f6-b8b7-4f10-8200-e1f8bf71c223",
   "metadata": {
    "tags": []
   },
   "source": [
    "|종류|문자클래스|설명|유사표현|\n",
    "|------|---|---|---|\n",
    "|숫자|<font color=red size=3><b>\\d|숫자와 매치|[0-9]|\n",
    "||<font color=red size=3><b>\\D|숫자가 아닌 것과 매치|[^0-9]|\n",
    "|숫자+문자|<font color=red size=3><b>\\w|문자+숫자(alphanumeric)와 매치|[a-zA-Z0-9]|\n",
    "||<font color=red size=3><b>\\W|문자+숫자(alphanumeric)가 아닌 문자와 매치|[^a-zA-Z0-9]|\n",
    "|특수문자|<font color=red size=3><b>\\s|whitespace 문자와 매치|[ \\t\\n\\r\\f\\v]|\n",
    "||<font color=red size=3><b>\\S|whitespace 문자가 아닌 것과 매치|[^ \\t\\n\\r\\f\\v]|"
   ]
  },
  {
   "cell_type": "code",
   "execution_count": null,
   "id": "f45ca53d-f816-4127-9ee0-19cf531ee7ed",
   "metadata": {},
   "outputs": [],
   "source": []
  },
  {
   "cell_type": "markdown",
   "id": "0c72b41a-3967-4766-ae63-8bc2517467e8",
   "metadata": {},
   "source": [
    "> <font size=4> **import re 정규식을 이용한 문자열 검색**"
   ]
  },
  {
   "cell_type": "markdown",
   "id": "610477dd-bc21-4275-bd83-296ccd301cac",
   "metadata": {},
   "source": [
    "|종류|설명|\n",
    "|------|---|\n",
    "|<font color=red size=3><b>match()|문자열의 처음부터 정규식과 매치되는지 검사|\n",
    "|<font color=red size=3><b>search()|문자열 전체에서 정규식과 매치되는지 검사|\n",
    "|<font color=red size=3><b>findall()|정규식과 매치되는 모든 문자열(substring)을 리스트로 반환|\n",
    "|<font color=red size=3><b>finditer()|정규식과 매치되는 모든 문자열(substring)을 반복 가능한 객체로 반환|"
   ]
  },
  {
   "cell_type": "markdown",
   "id": "66c002ea-f431-4f21-acbd-7ae5fd782ab3",
   "metadata": {},
   "source": [
    "--- "
   ]
  },
  {
   "cell_type": "code",
   "execution_count": 1,
   "id": "db12d625-f958-4763-b9cc-bb38ef2c59b1",
   "metadata": {},
   "outputs": [],
   "source": [
    "import re"
   ]
  },
  {
   "cell_type": "markdown",
   "id": "32058d1e-d1ec-48e2-bf6d-3bbd7813cb82",
   "metadata": {},
   "source": [
    "* <b>re.함수('패턴', '검색대상문자열')"
   ]
  },
  {
   "cell_type": "code",
   "execution_count": 20,
   "id": "7ee6461b-5612-4d2d-8c8f-53047aba1b1c",
   "metadata": {},
   "outputs": [
    {
     "data": {
      "text/plain": [
       "<re.Match object; span=(0, 6), match='python'>"
      ]
     },
     "execution_count": 20,
     "metadata": {},
     "output_type": "execute_result"
    }
   ],
   "source": [
    "m = re.match('[a-z]+', \"python\")\n",
    "m"
   ]
  },
  {
   "cell_type": "code",
   "execution_count": 18,
   "id": "8b826655-b4c8-4fae-80aa-5984c45cd5ab",
   "metadata": {},
   "outputs": [
    {
     "data": {
      "text/plain": [
       "<re.Match object; span=(2, 8), match='python'>"
      ]
     },
     "execution_count": 18,
     "metadata": {},
     "output_type": "execute_result"
    }
   ],
   "source": [
    "m = re.search('[a-z]+', \"10python\")\n",
    "m"
   ]
  },
  {
   "cell_type": "markdown",
   "id": "418c020e-4f91-495d-be58-0c9ea7391622",
   "metadata": {},
   "source": [
    "--- "
   ]
  },
  {
   "cell_type": "markdown",
   "id": "3109c51c-e89e-414f-a592-371980c6e32b",
   "metadata": {},
   "source": [
    "* <b>패턴 '[a-z]+'를 매번 쓰기 귀찮다"
   ]
  },
  {
   "cell_type": "code",
   "execution_count": 3,
   "id": "ac2e4c59-9599-45a6-968e-1c61ffc0666d",
   "metadata": {},
   "outputs": [
    {
     "name": "stdout",
     "output_type": "stream",
     "text": [
      "<re.Match object; span=(0, 6), match='python'>\n",
      "<re.Match object; span=(2, 8), match='python'>\n"
     ]
    }
   ],
   "source": [
    "p = re.compile('[a-z]+')\n",
    "m = p.search(\"python\")\n",
    "print(m)\n",
    "\n",
    "m = p.search(\"3 python\")\n",
    "print(m)"
   ]
  },
  {
   "cell_type": "markdown",
   "id": "0b677ef5-bb61-4440-acc6-52c092166897",
   "metadata": {},
   "source": [
    "---"
   ]
  },
  {
   "cell_type": "markdown",
   "id": "6a5e35fc-4912-4866-8e6f-91220abe5e41",
   "metadata": {},
   "source": [
    "* <b>match()\n",
    "  - 컴파일된 패턴 '[a-z]+'를 가지고 match() 메서드 수행"
   ]
  },
  {
   "cell_type": "code",
   "execution_count": 21,
   "id": "b5da1930-8229-495f-8c1f-01a547af1d36",
   "metadata": {},
   "outputs": [
    {
     "name": "stdout",
     "output_type": "stream",
     "text": [
      "None\n",
      "<re.Match object; span=(0, 6), match='python'> python\n",
      "None\n"
     ]
    }
   ],
   "source": [
    "m = re.match('ab*', \"python\")\n",
    "print(m)\n",
    "\n",
    "m = re.match('[a-z]+', \"python\")\n",
    "print(m, m.group())\n",
    "\n",
    "m = re.match('[a-z]+', \"3 python\")\n",
    "print(m)"
   ]
  },
  {
   "cell_type": "markdown",
   "id": "00adf6b2-ee46-4e18-9727-28dccf6b27a0",
   "metadata": {},
   "source": [
    "* <b>search()\n",
    "  - 컴파일된 패턴 객체 '[a-z]+'를 가지고 search() 메서드 수행"
   ]
  },
  {
   "cell_type": "code",
   "execution_count": 22,
   "id": "e1fa0779-3267-452d-a6db-db1209db811b",
   "metadata": {},
   "outputs": [
    {
     "name": "stdout",
     "output_type": "stream",
     "text": [
      "<re.Match object; span=(2, 8), match='python'>\n"
     ]
    }
   ],
   "source": [
    "p = re.compile('[a-z]+')\n",
    "m = p.search(\"3 python\")\n",
    "print(m)"
   ]
  },
  {
   "cell_type": "markdown",
   "id": "2f1241ef-65b5-46a2-9a5b-fb76cfcc2fba",
   "metadata": {},
   "source": [
    "* <b>findall()\n",
    "  - 컴파일된 패턴 객체 '[a-z]+'를 가지고 findall() 메서드 수행 - <font color=red>정규식과 매치되는 리스트 반환"
   ]
  },
  {
   "cell_type": "code",
   "execution_count": 24,
   "id": "5da990f1-af95-4c06-a21b-e06528a6249e",
   "metadata": {},
   "outputs": [
    {
     "name": "stdout",
     "output_type": "stream",
     "text": [
      "['life', 'is', 'too', 'short']\n"
     ]
    }
   ],
   "source": [
    "p = re.compile('[a-z]+')\n",
    "m = p.findall(\"3 life is 100 too short 100\")\n",
    "print(m)"
   ]
  },
  {
   "cell_type": "markdown",
   "id": "cbfbeb6c-16f8-4996-9821-c328d035182b",
   "metadata": {},
   "source": [
    "* <b>finditer()\n",
    "  - 컴파일된 패턴 객체 '[a-z]+'를 가지고 finditer() 메서드 수행 - <font color=red>정규식과 매치되는 iterator 객체 반환"
   ]
  },
  {
   "cell_type": "code",
   "execution_count": 26,
   "id": "f31a6a0e-e1dd-4581-96fa-17f94d29ae9d",
   "metadata": {},
   "outputs": [
    {
     "name": "stdout",
     "output_type": "stream",
     "text": [
      "<callable_iterator object at 0x000001EDEAD09130>\n",
      "<re.Match object; span=(0, 1), match='a'> \t a\n",
      "<re.Match object; span=(2, 3), match='b'> \t b\n",
      "<re.Match object; span=(4, 7), match='cde'> \t cde\n"
     ]
    }
   ],
   "source": [
    "p = re.compile('[a-z]+')\n",
    "m = p.finditer(\"a b cde 100\")\n",
    "print(m)\n",
    "for match_obj in m: \n",
    "    print(match_obj, '\\t', match_obj.group())"
   ]
  },
  {
   "cell_type": "code",
   "execution_count": 34,
   "id": "2d354895-f059-46c7-93a4-6ca8ec7ab835",
   "metadata": {},
   "outputs": [
    {
     "data": {
      "text/plain": [
       "<re.Match object; span=(0, 9), match='123456789'>"
      ]
     },
     "execution_count": 34,
     "metadata": {},
     "output_type": "execute_result"
    }
   ],
   "source": [
    "p = re.compile('.*')\n",
    "m =p.match('123456789')\n",
    "m"
   ]
  },
  {
   "cell_type": "markdown",
   "id": "35d3cdc7-e824-4cc0-8ef4-4e2f816e19f5",
   "metadata": {},
   "source": [
    "> <font size=4> **re.compile( ___ , 옵션)**"
   ]
  },
  {
   "cell_type": "markdown",
   "id": "f64b1ea3-253a-491c-b795-5114661629ef",
   "metadata": {},
   "source": [
    "## Quiz\n",
    "* ref : https://regexone.com/"
   ]
  },
  {
   "cell_type": "markdown",
   "id": "35f207a6-bca0-4e08-a94c-d4ce2e5ba863",
   "metadata": {},
   "source": [
    "<pre>\n",
    "정규식 a[.]{3,}b과 매치되는 문자열?\n",
    "\n",
    "acccb\n",
    "a....b\n",
    "aaab\n",
    "a.cccb"
   ]
  },
  {
   "cell_type": "code",
   "execution_count": 27,
   "id": "bf04b36f-c85e-4c2e-b5e4-5f7895e4bdea",
   "metadata": {},
   "outputs": [],
   "source": [
    "# 2번"
   ]
  },
  {
   "cell_type": "code",
   "execution_count": null,
   "id": "5da0ed72-ec5f-4064-857d-c97e921a697f",
   "metadata": {},
   "outputs": [],
   "source": []
  },
  {
   "cell_type": "markdown",
   "id": "734ab1b9-5df9-475c-89df-210826bd7d34",
   "metadata": {},
   "source": [
    "<pre>\n",
    "다음은 무엇을 표현하기 위한 정규식인가?\n",
    "\".*[@].*[.].*$\"\n",
    "\n",
    "r\"(\\w+)\\s+\\d+[-]\\d+[-]\\d+\""
   ]
  },
  {
   "cell_type": "code",
   "execution_count": 28,
   "id": "cae72e67-ff5e-4187-91a4-6a91606c1b94",
   "metadata": {},
   "outputs": [
    {
     "data": {
      "text/plain": [
       "'.*[@].*[.].*$'"
      ]
     },
     "execution_count": 28,
     "metadata": {},
     "output_type": "execute_result"
    }
   ],
   "source": [
    "\".*[@].*[.].*$\"\n",
    "# asdfad@adfafaf.com $--> 끝내라 표시"
   ]
  },
  {
   "cell_type": "code",
   "execution_count": 30,
   "id": "7e8d9260-cfbe-4e06-9946-c1e469d535ee",
   "metadata": {},
   "outputs": [
    {
     "data": {
      "text/plain": [
       "<re.Match object; span=(0, 17), match='kim1214@naver.com'>"
      ]
     },
     "execution_count": 30,
     "metadata": {},
     "output_type": "execute_result"
    }
   ],
   "source": [
    "p = re.compile('.*[@].*[.com]')\n",
    "m = p.search(\"kim1214@naver.com\")\n",
    "m"
   ]
  },
  {
   "cell_type": "code",
   "execution_count": 40,
   "id": "4344524d-9501-42ae-bcce-e21e803a1a02",
   "metadata": {},
   "outputs": [
    {
     "data": {
      "text/plain": [
       "<re.Match object; span=(0, 17), match='kim1214@naver.com'>"
      ]
     },
     "execution_count": 40,
     "metadata": {},
     "output_type": "execute_result"
    }
   ],
   "source": [
    "p = re.compile('.+[@][a-z]+[.]\\w*')\n",
    "m = p.search(\"kim1214@naver.com\")\n",
    "m"
   ]
  },
  {
   "cell_type": "code",
   "execution_count": 42,
   "id": "61907b6b-e808-4a59-97c0-e7e0cf85aad6",
   "metadata": {},
   "outputs": [
    {
     "data": {
      "text/plain": [
       "<re.Match object; span=(0, 17), match='kim1214@naver.com'>"
      ]
     },
     "execution_count": 42,
     "metadata": {},
     "output_type": "execute_result"
    }
   ],
   "source": [
    "re.search(f\".+[@][a-zA-Z0-9]+[.]\\w*\",\"kim1214@naver.com\")"
   ]
  },
  {
   "cell_type": "code",
   "execution_count": null,
   "id": "a5b320fa-74d4-41df-8d26-d8e12c8e2585",
   "metadata": {},
   "outputs": [],
   "source": [
    "r\"(\\w+)\\s+\\d+[-]\\d+[-]\\d+\""
   ]
  },
  {
   "cell_type": "code",
   "execution_count": null,
   "id": "b5ef193f-0c33-4e57-b41d-bd1ccee710c5",
   "metadata": {},
   "outputs": [],
   "source": [
    "abc.txt aa.jpg a100.txt"
   ]
  },
  {
   "cell_type": "code",
   "execution_count": 110,
   "id": "33fd83e2-b9af-420c-8bee-ce5918d08b3a",
   "metadata": {},
   "outputs": [
    {
     "data": {
      "text/plain": [
       "['abc.txt', 'a100.txt']"
      ]
     },
     "execution_count": 110,
     "metadata": {},
     "output_type": "execute_result"
    }
   ],
   "source": [
    "re.findall(f\"\\w+[.][t][x][t]\",'abc.txt   aa.jpg   a100.txt')"
   ]
  },
  {
   "cell_type": "code",
   "execution_count": 130,
   "id": "f090d71f-d2a2-4c2d-95c6-1d676c90d64a",
   "metadata": {},
   "outputs": [
    {
     "data": {
      "text/plain": [
       "[' 홍길동', ' 아무개']"
      ]
     },
     "execution_count": 130,
     "metadata": {},
     "output_type": "execute_result"
    }
   ],
   "source": [
    "re.findall(f'\\W+\\S+','James 홍길동 아무개')"
   ]
  },
  {
   "cell_type": "code",
   "execution_count": 122,
   "id": "397b3e02-b0a2-469c-9fc1-5d2f7994dac2",
   "metadata": {},
   "outputs": [
    {
     "data": {
      "text/plain": [
       "['홍길동', '아무개']"
      ]
     },
     "execution_count": 122,
     "metadata": {},
     "output_type": "execute_result"
    }
   ],
   "source": [
    "re.findall('[가-힣]+','James 홍길동 아무개')"
   ]
  },
  {
   "cell_type": "code",
   "execution_count": 147,
   "id": "9bae86de-b962-4541-8e7a-63ab8b2bec72",
   "metadata": {},
   "outputs": [
    {
     "data": {
      "text/plain": [
       "['Mr.']"
      ]
     },
     "execution_count": 147,
     "metadata": {},
     "output_type": "execute_result"
    }
   ],
   "source": [
    "re.findall('[a-zA-Z]+[.]','Braund, Mr. Owen Harris')"
   ]
  },
  {
   "cell_type": "code",
   "execution_count": 156,
   "id": "d0106615-1fd5-4ad5-a5ee-ce557da1f67d",
   "metadata": {},
   "outputs": [
    {
     "data": {
      "text/plain": [
       "['Braund', 'Mr', 'Owen', 'Harris']"
      ]
     },
     "execution_count": 156,
     "metadata": {},
     "output_type": "execute_result"
    }
   ],
   "source": [
    "re.findall('[a-zA-Z]+','Braund, Mr. Owen Harris')"
   ]
  },
  {
   "cell_type": "code",
   "execution_count": null,
   "id": "65486a6c-d412-4010-95db-d6bf1ef44ad9",
   "metadata": {},
   "outputs": [],
   "source": []
  },
  {
   "cell_type": "code",
   "execution_count": null,
   "id": "f9efd555-10ef-4f9c-ab12-ac26a9468a1a",
   "metadata": {},
   "outputs": [],
   "source": []
  }
 ],
 "metadata": {
  "kernelspec": {
   "display_name": "Python 3 (ipykernel)",
   "language": "python",
   "name": "python3"
  },
  "language_info": {
   "codemirror_mode": {
    "name": "ipython",
    "version": 3
   },
   "file_extension": ".py",
   "mimetype": "text/x-python",
   "name": "python",
   "nbconvert_exporter": "python",
   "pygments_lexer": "ipython3",
   "version": "3.8.8"
  }
 },
 "nbformat": 4,
 "nbformat_minor": 5
}
