{
 "cells": [
  {
   "cell_type": "markdown",
   "id": "9b6de0c5-9cc5-45dc-8bfa-a3f141778bd5",
   "metadata": {},
   "source": [
    "lec.01. 변수(Variable)\n",
    "* int ,float, str, bool(True or False)\n",
    "* \"+ - * / ** // %\"\n",
    "* =  ,   ==\n",
    "* type()\n",
    "* or and not"
   ]
  },
  {
   "cell_type": "markdown",
   "id": "f28ce971-2475-4153-a081-8f756dba1f11",
   "metadata": {},
   "source": [
    "num = 10\n",
    "name = '허강호'\n",
    "\n",
    "num1 = 1\n",
    "num2 = 2\n",
    "print(num1 + num2)"
   ]
  },
  {
   "cell_type": "markdown",
   "id": "82977384-340c-4958-9db0-b464409fb892",
   "metadata": {
    "jp-MarkdownHeadingCollapsed": true,
    "tags": []
   },
   "source": [
    "## 숫자 + 숫자 == 가산(덧셈)"
   ]
  },
  {
   "cell_type": "markdown",
   "id": "5d44bb20-59a6-4451-9959-2ae3dd15525f",
   "metadata": {},
   "source": [
    "num1 = 'rr'\n",
    "num2= '허강호'\n",
    "print(num1 + num2) -----> 더하기보단 합치기"
   ]
  },
  {
   "cell_type": "markdown",
   "id": "26fe816f-af2f-4e9a-88f1-3e63fb64587e",
   "metadata": {},
   "source": [
    "## 글자 + 글자 === 두 글자 합친다\n"
   ]
  },
  {
   "cell_type": "code",
   "execution_count": 1,
   "id": "244fb5d0-125e-4fbf-907c-f13977a831af",
   "metadata": {},
   "outputs": [
    {
     "name": "stdout",
     "output_type": "stream",
     "text": [
      "4.86\n",
      "강호사랑소희\n"
     ]
    }
   ],
   "source": [
    "num1 = 1.74\n",
    "num2 = 3.12\n",
    "print(num1 + num2)\n",
    "print(\"강호\"+\"사랑\"+\"소희\")"
   ]
  },
  {
   "cell_type": "code",
   "execution_count": 2,
   "id": "260ac846-ae0d-4f24-88b1-76a1d39e36a7",
   "metadata": {},
   "outputs": [
    {
     "name": "stdout",
     "output_type": "stream",
     "text": [
      "4.86\n",
      "가나다라마\n"
     ]
    }
   ],
   "source": [
    "print(1.74 + 3.12)\n",
    "print('가나다'+'라마')"
   ]
  },
  {
   "cell_type": "markdown",
   "id": "4753e9a1-d83d-4ee1-a1cf-4d1b326f9df8",
   "metadata": {},
   "source": [
    "여러라인을 다 출력하고 싶으면 출력프린트 값을 일일이 부여하면 된다"
   ]
  },
  {
   "cell_type": "markdown",
   "id": "7d520084-a610-428b-870b-fca3d9320dc0",
   "metadata": {},
   "source": [
    "프린터 출력 없이 바로  답을 내면 제일 마지막 연산을 적용한다"
   ]
  },
  {
   "cell_type": "markdown",
   "id": "a33f6c16-38a6-4c3d-818b-732afc85f36e",
   "metadata": {},
   "source": [
    "<font color=red>중요해</font>\n",
    "# <font color=blue>색깔 바꾸는 방법</font>\n"
   ]
  },
  {
   "cell_type": "code",
   "execution_count": 17,
   "id": "88b1936a-a0d7-4b3e-b82c-f3efe79d0ff0",
   "metadata": {},
   "outputs": [
    {
     "data": {
      "text/plain": [
       "float"
      ]
     },
     "execution_count": 17,
     "metadata": {},
     "output_type": "execute_result"
    }
   ],
   "source": [
    "type(0.74)"
   ]
  },
  {
   "cell_type": "code",
   "execution_count": 18,
   "id": "3bb9ce15-1574-48ad-a5a9-5008282c65a2",
   "metadata": {},
   "outputs": [
    {
     "data": {
      "text/plain": [
       "int"
      ]
     },
     "execution_count": 18,
     "metadata": {},
     "output_type": "execute_result"
    }
   ],
   "source": [
    "type(10)"
   ]
  },
  {
   "cell_type": "code",
   "execution_count": 19,
   "id": "f0fd9b8b-4864-4c0b-bee7-d5617ec29f44",
   "metadata": {},
   "outputs": [
    {
     "data": {
      "text/plain": [
       "str"
      ]
     },
     "execution_count": 19,
     "metadata": {},
     "output_type": "execute_result"
    }
   ],
   "source": [
    "type('가나다')"
   ]
  },
  {
   "cell_type": "markdown",
   "id": "60630da0-89cb-4771-aae4-c559a47377e6",
   "metadata": {},
   "source": [
    "#### 파이선에서는 '   ' 쓸때 글자갯수 제한없다"
   ]
  },
  {
   "cell_type": "code",
   "execution_count": 20,
   "id": "44273091-8f08-4ff0-a7f1-1e0137e12c11",
   "metadata": {},
   "outputs": [
    {
     "name": "stdout",
     "output_type": "stream",
     "text": [
      "가나다\n"
     ]
    }
   ],
   "source": [
    "print(\"가나다\")"
   ]
  },
  {
   "cell_type": "markdown",
   "id": "6de89d79-dcb7-49ba-b86f-6237d64e32eb",
   "metadata": {},
   "source": [
    "(bool)논리 : True, False"
   ]
  },
  {
   "cell_type": "code",
   "execution_count": 24,
   "id": "9345733c-67f1-4695-bd35-a564bc507a69",
   "metadata": {},
   "outputs": [
    {
     "name": "stdout",
     "output_type": "stream",
     "text": [
      "True\n"
     ]
    }
   ],
   "source": [
    "# print(true) 파이썬 대소문자 엄격\n",
    "print(True)"
   ]
  },
  {
   "cell_type": "code",
   "execution_count": 5,
   "id": "baf92211-c3de-445f-89e4-82e2cf13def4",
   "metadata": {},
   "outputs": [
    {
     "name": "stdout",
     "output_type": "stream",
     "text": [
      "<class 'bool'>\n",
      "<class 'bool'>\n"
     ]
    }
   ],
   "source": [
    "print(type(True))\n",
    "print(type(False))"
   ]
  },
  {
   "cell_type": "code",
   "execution_count": 26,
   "id": "44bb5532-47a6-4f0e-b0df-c9d67850b30a",
   "metadata": {},
   "outputs": [
    {
     "name": "stdout",
     "output_type": "stream",
     "text": [
      "True\n"
     ]
    }
   ],
   "source": [
    "# and  or not\n",
    "print(True and True)"
   ]
  },
  {
   "cell_type": "code",
   "execution_count": 27,
   "id": "369acb8d-36eb-40b3-9803-44f44da43151",
   "metadata": {},
   "outputs": [
    {
     "name": "stdout",
     "output_type": "stream",
     "text": [
      "False\n"
     ]
    }
   ],
   "source": [
    "print(False and False)"
   ]
  },
  {
   "cell_type": "code",
   "execution_count": 28,
   "id": "01d1ad4f-94a6-4489-b1a2-6395ebc46d51",
   "metadata": {},
   "outputs": [
    {
     "name": "stdout",
     "output_type": "stream",
     "text": [
      "True\n"
     ]
    }
   ],
   "source": [
    "print(True or True)"
   ]
  },
  {
   "cell_type": "code",
   "execution_count": 29,
   "id": "9eea004a-95b3-4ec9-a2d7-09692a9409c3",
   "metadata": {},
   "outputs": [
    {
     "name": "stdout",
     "output_type": "stream",
     "text": [
      "False\n"
     ]
    }
   ],
   "source": [
    "print(False or False)"
   ]
  },
  {
   "cell_type": "code",
   "execution_count": 33,
   "id": "f24ed732-8806-4f3b-bae6-4a0b16858601",
   "metadata": {},
   "outputs": [
    {
     "name": "stdout",
     "output_type": "stream",
     "text": [
      "True\n"
     ]
    }
   ],
   "source": [
    "print(True or False)   #둘중 하나라도 True 이면 True"
   ]
  },
  {
   "cell_type": "code",
   "execution_count": 31,
   "id": "38a43180-0c75-4ad2-8fe6-0d40db666480",
   "metadata": {},
   "outputs": [
    {
     "name": "stdout",
     "output_type": "stream",
     "text": [
      "False\n"
     ]
    }
   ],
   "source": [
    "print(True and False)"
   ]
  },
  {
   "cell_type": "code",
   "execution_count": 6,
   "id": "149a5ea0-896e-49a8-8f61-b904c6eba655",
   "metadata": {},
   "outputs": [
    {
     "name": "stdout",
     "output_type": "stream",
     "text": [
      "False\n",
      "True\n"
     ]
    }
   ],
   "source": [
    "print(not True)\n",
    "print(not False)"
   ]
  },
  {
   "cell_type": "markdown",
   "id": "38c17016-68a9-453b-b9d9-7bedeba28330",
   "metadata": {},
   "source": [
    "num = 3            -------------3이란 값을 num에 넣어라"
   ]
  },
  {
   "cell_type": "code",
   "execution_count": 8,
   "id": "17d4f1d1-78b0-44dd-baeb-8784ca99f2d3",
   "metadata": {},
   "outputs": [
    {
     "name": "stdout",
     "output_type": "stream",
     "text": [
      "\"\"\"기호넣기\"\"\"\n",
      "This is a \"single\" quotation test\n"
     ]
    }
   ],
   "source": [
    "string3 = \"This is a \\\"single\\\" quotation test\"   #역슬러쉬\\ 는 그뒤에 오는 기호를 표시해주세요 라는 뜻\n",
    "\n",
    "print(\"\\\"\\\"\\\"기호넣기\\\"\\\"\\\"\")\n",
    "print(string3)"
   ]
  },
  {
   "cell_type": "markdown",
   "id": "efc47d11-148c-4537-9136-de6fbfc8e9a2",
   "metadata": {},
   "source": [
    "abc<br>abc 밑에 출력 참고"
   ]
  },
  {
   "cell_type": "code",
   "execution_count": 42,
   "id": "5fae1e7a-109b-4b10-b1a5-a44424d5f950",
   "metadata": {},
   "outputs": [
    {
     "name": "stdout",
     "output_type": "stream",
     "text": [
      "abc\n",
      "abc\n"
     ]
    }
   ],
   "source": [
    "print(\"abc\\nabc\")          #   \\n == 줄바꿈"
   ]
  },
  {
   "cell_type": "code",
   "execution_count": 44,
   "id": "607de1c2-a2f8-44ab-9db6-d5e442a4f80a",
   "metadata": {},
   "outputs": [
    {
     "name": "stdout",
     "output_type": "stream",
     "text": [
      "abc\tabc\n"
     ]
    }
   ],
   "source": [
    "print(\"abc\\tabc\")          #   \\t == 탭"
   ]
  },
  {
   "cell_type": "code",
   "execution_count": 45,
   "id": "129d9fc6-1967-44a9-91a5-6a4dac8dd5f8",
   "metadata": {},
   "outputs": [],
   "source": [
    "#     \\기호 == 기호표현"
   ]
  },
  {
   "cell_type": "markdown",
   "id": "c6bcc813-8ee5-4683-970e-391599ed7413",
   "metadata": {},
   "source": [
    "●문자열"
   ]
  },
  {
   "cell_type": "code",
   "execution_count": 46,
   "id": "3511c31d-dd65-4787-ac43-2f8ce5e53524",
   "metadata": {},
   "outputs": [
    {
     "name": "stdout",
     "output_type": "stream",
     "text": [
      "ABCDEF\n"
     ]
    }
   ],
   "source": [
    "print(\"ABC\"+\"DEF\")"
   ]
  },
  {
   "cell_type": "code",
   "execution_count": 47,
   "id": "87c69395-64ae-4434-9c33-b17782831aba",
   "metadata": {},
   "outputs": [
    {
     "ename": "TypeError",
     "evalue": "can only concatenate str (not \"int\") to str",
     "output_type": "error",
     "traceback": [
      "\u001b[1;31m---------------------------------------------------------------------------\u001b[0m",
      "\u001b[1;31mTypeError\u001b[0m                                 Traceback (most recent call last)",
      "\u001b[1;32m~\\AppData\\Local\\Temp/ipykernel_2248/476493684.py\u001b[0m in \u001b[0;36m<module>\u001b[1;34m\u001b[0m\n\u001b[1;32m----> 1\u001b[1;33m \u001b[0mprint\u001b[0m\u001b[1;33m(\u001b[0m\u001b[1;34m\"ABC\"\u001b[0m \u001b[1;33m+\u001b[0m \u001b[1;36m1\u001b[0m\u001b[1;33m)\u001b[0m \u001b[1;31m# 에러\u001b[0m\u001b[1;33m\u001b[0m\u001b[1;33m\u001b[0m\u001b[0m\n\u001b[0m",
      "\u001b[1;31mTypeError\u001b[0m: can only concatenate str (not \"int\") to str"
     ]
    }
   ],
   "source": [
    "print(\"ABC\" + 1) # 에러"
   ]
  },
  {
   "cell_type": "code",
   "execution_count": 9,
   "id": "bf5bc072-d454-4b43-8675-8dc26004531b",
   "metadata": {},
   "outputs": [
    {
     "name": "stdout",
     "output_type": "stream",
     "text": [
      "ABCABCABC\n",
      "abcdefg\n"
     ]
    }
   ],
   "source": [
    "print('ABC' * 3)    # '글자' 3번 반복해달라\n",
    "print('abcdefg')"
   ]
  },
  {
   "cell_type": "markdown",
   "id": "ed7673de-118a-4833-bc99-74556eb55963",
   "metadata": {},
   "source": [
    "## 리스트(List), 튜플(Tuple), 딕셔너리(Dictionaty), ..... 셋(Set)  중요해\n",
    " ## []                                    ()                                     {}    {}                  "
   ]
  },
  {
   "cell_type": "code",
   "execution_count": 10,
   "id": "c145012f-4714-43d7-8d9a-9134d00c9ed5",
   "metadata": {},
   "outputs": [],
   "source": [
    "num1= 1\n",
    "num2= 2\n",
    "num3= 3\n",
    "num_list=[1,2,3,3,3,3]\n",
    "num_tuple=(1,2,2,3,3)\n",
    "num_set={1,2,2,3,3,3} #distinct"
   ]
  },
  {
   "cell_type": "code",
   "execution_count": 11,
   "id": "fba81b9a-cbcf-4bd9-905c-f9eaa037020e",
   "metadata": {},
   "outputs": [
    {
     "name": "stdout",
     "output_type": "stream",
     "text": [
      "[1, 2, 3, 3, 3, 3] <class 'list'>\n"
     ]
    }
   ],
   "source": [
    "print(num_list, type(num_list))"
   ]
  },
  {
   "cell_type": "code",
   "execution_count": 12,
   "id": "eae77edc-a29d-4f77-9a88-e79d0fca0e0a",
   "metadata": {},
   "outputs": [
    {
     "name": "stdout",
     "output_type": "stream",
     "text": [
      "(1, 2, 2, 3, 3) <class 'tuple'>\n"
     ]
    }
   ],
   "source": [
    "print(num_tuple, type(num_tuple))"
   ]
  },
  {
   "cell_type": "code",
   "execution_count": 13,
   "id": "aa64ca88-14e1-4574-b89f-91bcfd68a1ac",
   "metadata": {},
   "outputs": [
    {
     "name": "stdout",
     "output_type": "stream",
     "text": [
      "{1, 2, 3} <class 'set'>\n"
     ]
    }
   ],
   "source": [
    "print(num_set, type(num_set))"
   ]
  },
  {
   "cell_type": "code",
   "execution_count": 14,
   "id": "15a6c6e0-a17c-41ea-a0d5-78e667fe939e",
   "metadata": {},
   "outputs": [],
   "source": [
    "# num_dict = {키:값, 키:값}"
   ]
  },
  {
   "cell_type": "code",
   "execution_count": 19,
   "id": "5a7c2d23-a976-47ae-abeb-0da1bbd10026",
   "metadata": {},
   "outputs": [
    {
     "name": "stdout",
     "output_type": "stream",
     "text": [
      "{'n1': 1, 'n2': 2, 'n3': 3} <class 'dict'>\n",
      "2\n"
     ]
    }
   ],
   "source": [
    "num_dict = {'n1':1, 'n2':2, 'n3':3}\n",
    "print(num_dict, type(num_dict))\n",
    "print(num_dict['n2'])"
   ]
  },
  {
   "cell_type": "markdown",
   "id": "a145d5f0-541e-4170-9490-f22056ec256c",
   "metadata": {},
   "source": [
    "<font color = 'red'> 인덱스는 0번째부터 실행된다 </font>"
   ]
  },
  {
   "cell_type": "code",
   "execution_count": 20,
   "id": "991f55b5-1b97-4fec-8287-01e7880399b3",
   "metadata": {},
   "outputs": [
    {
     "name": "stdout",
     "output_type": "stream",
     "text": [
      "[1, 2, 3, 4, 5]\n",
      "1\n"
     ]
    }
   ],
   "source": [
    "num_list=[1,2,3,4,5]\n",
    "print(num_list)\n",
    "print(num_list[0])  # 변수이름[숫자] 숫자번째(index) 값만 출력된다 인덱스는 0번째부터 실행된다"
   ]
  },
  {
   "cell_type": "code",
   "execution_count": 21,
   "id": "0c24623d-63e7-48d0-867e-afc25c920305",
   "metadata": {},
   "outputs": [
    {
     "name": "stdout",
     "output_type": "stream",
     "text": [
      "4\n"
     ]
    }
   ],
   "source": [
    "print(num_list[3])"
   ]
  },
  {
   "cell_type": "code",
   "execution_count": 22,
   "id": "e7f8cb48-a877-458a-8e33-c71f140c1302",
   "metadata": {},
   "outputs": [
    {
     "name": "stdout",
     "output_type": "stream",
     "text": [
      "[1, 2, 3]\n"
     ]
    }
   ],
   "source": [
    "print(num_list[0:3]) #슬라이싱 [start:end] ---> start <= (정답) < end "
   ]
  },
  {
   "cell_type": "code",
   "execution_count": 23,
   "id": "d5f36c4b-1529-4360-b920-451ece33467b",
   "metadata": {},
   "outputs": [
    {
     "name": "stdout",
     "output_type": "stream",
     "text": [
      "[1, 2, 3]\n"
     ]
    }
   ],
   "source": [
    "print(num_list[:3])"
   ]
  },
  {
   "cell_type": "code",
   "execution_count": 3,
   "id": "d3918235-0375-4c88-9dd2-25ddebd1c1e8",
   "metadata": {},
   "outputs": [
    {
     "ename": "NameError",
     "evalue": "name 'num_list' is not defined",
     "output_type": "error",
     "traceback": [
      "\u001b[1;31m---------------------------------------------------------------------------\u001b[0m",
      "\u001b[1;31mNameError\u001b[0m                                 Traceback (most recent call last)",
      "\u001b[1;32m~\\AppData\\Local\\Temp/ipykernel_40044/4002948685.py\u001b[0m in \u001b[0;36m<module>\u001b[1;34m\u001b[0m\n\u001b[1;32m----> 1\u001b[1;33m \u001b[0mprint\u001b[0m\u001b[1;33m(\u001b[0m\u001b[0mnum_list\u001b[0m\u001b[1;33m[\u001b[0m\u001b[1;36m5\u001b[0m\u001b[1;33m]\u001b[0m\u001b[1;33m)\u001b[0m\u001b[1;33m\u001b[0m\u001b[1;33m\u001b[0m\u001b[0m\n\u001b[0m",
      "\u001b[1;31mNameError\u001b[0m: name 'num_list' is not defined"
     ]
    }
   ],
   "source": [
    "print(num_list[5])"
   ]
  },
  {
   "cell_type": "code",
   "execution_count": 27,
   "id": "3a8c9c8c-c29d-45f3-93d3-1976940e4b85",
   "metadata": {},
   "outputs": [
    {
     "name": "stdout",
     "output_type": "stream",
     "text": [
      "[4]\n"
     ]
    }
   ],
   "source": [
    "print(num_list[3:-1])"
   ]
  },
  {
   "cell_type": "code",
   "execution_count": 28,
   "id": "bfb64b1f-3587-4602-a1a5-7f4a16c18eaf",
   "metadata": {},
   "outputs": [
    {
     "name": "stdout",
     "output_type": "stream",
     "text": [
      "[3, 4]\n"
     ]
    }
   ],
   "source": [
    "print(num_list[2:-1])"
   ]
  },
  {
   "cell_type": "code",
   "execution_count": 31,
   "id": "b90d604a-467b-4210-85ea-c52cdcbf652a",
   "metadata": {},
   "outputs": [
    {
     "name": "stdout",
     "output_type": "stream",
     "text": [
      "[1, 2, 3, 4]\n",
      "[2, 3, 4]\n"
     ]
    }
   ],
   "source": [
    "print(num_list[:-1])\n",
    "print(num_list[-4:-1])"
   ]
  },
  {
   "cell_type": "code",
   "execution_count": 30,
   "id": "d4cb8243-2803-4a9a-bd8c-f1fbbfc66598",
   "metadata": {},
   "outputs": [
    {
     "name": "stdout",
     "output_type": "stream",
     "text": [
      "[1, 2, 3, 4, 5]\n"
     ]
    }
   ],
   "source": [
    "print(num_list[:])"
   ]
  },
  {
   "cell_type": "markdown",
   "id": "ec09c509-37f1-443d-92e2-57f804e614e0",
   "metadata": {},
   "source": [
    "##### -5,-4,-3,-2,-1<br>[1,2,3,4,5]<br>0,1,2,3,4    ###  인덱스 표기법"
   ]
  },
  {
   "cell_type": "code",
   "execution_count": 32,
   "id": "2fb51451-16c5-49d9-a34e-0379b389a818",
   "metadata": {},
   "outputs": [
    {
     "name": "stdout",
     "output_type": "stream",
     "text": [
      "['ab', 'c', 'd', 77, True, 0.14] <class 'list'>\n"
     ]
    }
   ],
   "source": [
    "str_list = ['ab','c','d',77,True,0.14]   #타입에 신경쓰지않고 유연하게 표기할수있다\n",
    "print(str_list, type(str_list))"
   ]
  },
  {
   "cell_type": "code",
   "execution_count": 2,
   "id": "49268c70-6dac-4d51-ac45-8b6805d98bb2",
   "metadata": {},
   "outputs": [
    {
     "name": "stdout",
     "output_type": "stream",
     "text": [
      "['ab', 'c', 'd', 77, True, 0.14, [1, 2, 3], (1, 2, 3), [11, 22, 33], {'k1': 100, 'k2': 200}, {1, 2, 3, 4}] <class 'list'>\n",
      "[True, 0.14, [1, 2, 3]]\n"
     ]
    }
   ],
   "source": [
    "str_list = ['ab','c','d',77,True,0.14,[1,2,3],(1,2,3),[11,22,33],{'k1':100, 'k2':200},{1,2,3,4}]\n",
    "print(str_list, type(str_list))\n",
    "print(str_list[4:7])"
   ]
  },
  {
   "cell_type": "code",
   "execution_count": 3,
   "id": "4ddd565c-0234-447a-a42b-857710d7814e",
   "metadata": {},
   "outputs": [
    {
     "name": "stdout",
     "output_type": "stream",
     "text": [
      "2\n",
      "ab\n"
     ]
    }
   ],
   "source": [
    "print(str_list[7][1])    # 그중에서도 2번을 뽑고 싶다\n",
    "print(str_list[0])"
   ]
  },
  {
   "cell_type": "code",
   "execution_count": 4,
   "id": "70eccf5a-c927-40fc-8cb2-823161821925",
   "metadata": {},
   "outputs": [
    {
     "name": "stdout",
     "output_type": "stream",
     "text": [
      "100\n"
     ]
    }
   ],
   "source": [
    "print(str_list[9]['k1'])   # 딕셔너리는 값을 가져올때 키값을 가져와야 밸류가 나온다"
   ]
  },
  {
   "cell_type": "markdown",
   "id": "ae309218-f02d-4e69-a4e8-f8c912638789",
   "metadata": {},
   "source": [
    "1.400  2.\"badRequest\" 3.\"service\": \"youtube.googleapis.com\" 나오게 하세요\n"
   ]
  },
  {
   "cell_type": "code",
   "execution_count": 195,
   "id": "6a33583a-52c3-4e81-8a06-790b28e900ce",
   "metadata": {},
   "outputs": [
    {
     "name": "stdout",
     "output_type": "stream",
     "text": [
      "400\n",
      "badRequest\n",
      "youtube.googleapis.com\n"
     ]
    }
   ],
   "source": [
    "print(quiz[\"error\"][\"code\"])\n",
    "print(quiz[\"error\"][\"errors\"][0]['reason'])\n",
    "print(quiz[\"error\"][\"details\"][0]['metadata']['service'])      #-----와우!"
   ]
  },
  {
   "cell_type": "code",
   "execution_count": 53,
   "id": "64a74e84-7dd0-45be-9683-9fe54b9fbf84",
   "metadata": {},
   "outputs": [
    {
     "name": "stdout",
     "output_type": "stream",
     "text": [
      "INVALID_ARGUMENT\n",
      "googleapis.com\n"
     ]
    }
   ],
   "source": [
    "print(quiz[\"error\"][\"status\"])\n",
    "print(quiz[\"error\"][\"details\"][0]['domain'])"
   ]
  },
  {
   "cell_type": "code",
   "execution_count": 18,
   "id": "ba63302d-c290-471d-8559-22f221ab74ea",
   "metadata": {},
   "outputs": [
    {
     "name": "stdout",
     "output_type": "stream",
     "text": [
      "{'error': {'code': 400, 'message': 'API key not valid. Please pass a valid API key.', 'errors': [{'message': 'API key not valid. Please pass a valid API key.', 'domain': 'global', 'reason': 'badRequest'}], 'status': 'INVALID_ARGUMENT', 'details': [{'@type': 'type.googleapis.com/google.rpc.ErrorInfo', 'reason': 'API_KEY_INVALID', 'domain': 'googleapis.com', 'metadata': {'service': 'youtube.googleapis.com'}}]}}\n"
     ]
    }
   ],
   "source": [
    "quiz = {\n",
    "  \"error\": {\n",
    "    \"code\": 400,\n",
    "    \"message\": \"API key not valid. Please pass a valid API key.\",\n",
    "    \"errors\": [\n",
    "      {\n",
    "        \"message\": \"API key not valid. Please pass a valid API key.\",\n",
    "        \"domain\": \"global\",\n",
    "        \"reason\": \"badRequest\"\n",
    "      }\n",
    "    ],\n",
    "    \"status\": \"INVALID_ARGUMENT\",\n",
    "    \"details\": [\n",
    "      {\n",
    "        \"@type\": \"type.googleapis.com/google.rpc.ErrorInfo\",\n",
    "        \"reason\": \"API_KEY_INVALID\",\n",
    "        \"domain\": \"googleapis.com\",\n",
    "        \"metadata\": {\n",
    "          \"service\": \"youtube.googleapis.com\"\n",
    "        }\n",
    "      }\n",
    "    ]\n",
    "  }\n",
    "}\n",
    "\n",
    "\n",
    "print(quiz)\n",
    "\n"
   ]
  },
  {
   "cell_type": "code",
   "execution_count": 23,
   "id": "fbb4dab5-1986-4fed-ba45-5fe882b07ff6",
   "metadata": {},
   "outputs": [
    {
     "name": "stdout",
     "output_type": "stream",
     "text": [
      "youtube.googleapis.com\n"
     ]
    }
   ],
   "source": [
    "print(quiz[\"error\"]['details'][0]['metadata']['service'])"
   ]
  },
  {
   "cell_type": "code",
   "execution_count": null,
   "id": "34b231de-6c74-4ccd-92bf-164a83148add",
   "metadata": {},
   "outputs": [
    {
     "name": "stdout",
     "output_type": "stream",
     "text": [
      "{'error': {'code': 400, 'message': 'API key not valid. Please pass a valid API key.', 'errors': [{'message': '11.', 'domain': '22', 'reason': '33'}, {'message': 'aa', 'domain': 'bb', 'reason': 'cc'}]}}\n"
     ]
    }
   ],
   "source": [
    "quiz =  {\n",
    "  \"error\": \n",
    "      #----------------------------\n",
    "      { \n",
    "        \"code\": 400,\n",
    "        \"message\": \"API key not valid. Please pass a valid API key.\",\n",
    "        \"errors\": [\n",
    "                      {\n",
    "                        \"message\": \"11.\",\n",
    "                        \"domain\": \"22\",\n",
    "                        \"reason\": \"33\"\n",
    "                      },\n",
    "\t\t      {\n",
    "                        \"message\": \"aa\",\n",
    "                        \"domain\": \"bb\",\n",
    "                        \"reason\": \"cc\"\n",
    "                      }\n",
    "                 ]\n",
    "        }\n",
    "      }\n",
    "print(quiz)"
   ]
  },
  {
   "cell_type": "code",
   "execution_count": 16,
   "id": "1b41f3a6-5d72-4e02-91bb-fa8dee2b95f8",
   "metadata": {},
   "outputs": [
    {
     "name": "stdout",
     "output_type": "stream",
     "text": [
      "bb\n"
     ]
    }
   ],
   "source": [
    "print(quiz[\"error\"]['errors'][1]['domain'])"
   ]
  },
  {
   "cell_type": "code",
   "execution_count": 23,
   "id": "e0535040-d797-41f8-9bd7-5c819c8ba4f7",
   "metadata": {},
   "outputs": [
    {
     "name": "stdout",
     "output_type": "stream",
     "text": [
      "{'message': 'aa', 'domain': 'bb', 'reason': 'cc'}\n"
     ]
    }
   ],
   "source": [
    "print(quiz[\"error\"]['errors'][1])"
   ]
  },
  {
   "cell_type": "code",
   "execution_count": 28,
   "id": "87ceefcd-03f3-417b-bd62-5ecdf136054e",
   "metadata": {},
   "outputs": [
    {
     "name": "stdout",
     "output_type": "stream",
     "text": [
      "허강호\n"
     ]
    }
   ],
   "source": [
    "heo = [111,\"허강호\"]\n",
    "print(heo[1])"
   ]
  },
  {
   "cell_type": "code",
   "execution_count": null,
   "id": "17cc957e-f11c-412e-bac6-d81a290bda6d",
   "metadata": {},
   "outputs": [],
   "source": []
  },
  {
   "cell_type": "code",
   "execution_count": null,
   "id": "08f18edc-e059-452c-9952-d5beb1fa1065",
   "metadata": {},
   "outputs": [],
   "source": []
  },
  {
   "cell_type": "code",
   "execution_count": null,
   "id": "35efa601-980c-4ca9-9f22-32fba4c47a4e",
   "metadata": {},
   "outputs": [],
   "source": []
  },
  {
   "cell_type": "code",
   "execution_count": null,
   "id": "1673bffa-1602-4fff-a2bb-8db53a512d75",
   "metadata": {},
   "outputs": [],
   "source": []
  }
 ],
 "metadata": {
  "kernelspec": {
   "display_name": "Python 3 (ipykernel)",
   "language": "python",
   "name": "python3"
  },
  "language_info": {
   "codemirror_mode": {
    "name": "ipython",
    "version": 3
   },
   "file_extension": ".py",
   "mimetype": "text/x-python",
   "name": "python",
   "nbconvert_exporter": "python",
   "pygments_lexer": "ipython3",
   "version": "3.8.8"
  }
 },
 "nbformat": 4,
 "nbformat_minor": 5
}
