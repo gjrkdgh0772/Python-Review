{
 "cells": [
  {
   "cell_type": "code",
   "execution_count": 1,
   "id": "b052c19f-250a-437f-be68-32be55603202",
   "metadata": {},
   "outputs": [],
   "source": [
    "\n",
    "#### 배열 \n",
    "# numpy : [1 2 3] ************   numpy.py\n",
    "# -------------------------------------------\n",
    "# 데이터 프레임 == 테이블 **************pandas\n",
    "# class DataFrame(numpy):\n",
    "# empno  ename\n",
    "# -----------------\n",
    "# 7788      smith\n",
    "# 8892      allen\n",
    "# ----------------------------------------"
   ]
  },
  {
   "cell_type": "code",
   "execution_count": 1,
   "id": "4eda3754-5400-41f5-b283-ea10a9e230d5",
   "metadata": {},
   "outputs": [
    {
     "name": "stdout",
     "output_type": "stream",
     "text": [
      "[1 2 3]\n",
      "[1 2 3] <class 'numpy.ndarray'>\n"
     ]
    }
   ],
   "source": [
    "import numpy as np\n",
    "\n",
    "arr =np.array([1, 2, 3])\n",
    "print(arr)\n",
    "print(arr,type(arr))    # array = 배열\n",
    "\n",
    "num = int(\"1\")"
   ]
  },
  {
   "cell_type": "code",
   "execution_count": 4,
   "id": "f924f661-27c5-472c-9e02-8138615fc888",
   "metadata": {},
   "outputs": [
    {
     "name": "stdout",
     "output_type": "stream",
     "text": [
      "<class 'pandas.core.frame.DataFrame'>\n",
      "RangeIndex: 2 entries, 0 to 1\n",
      "Data columns (total 3 columns):\n",
      " #   Column  Non-Null Count  Dtype \n",
      "---  ------  --------------  ----- \n",
      " 0   seq     2 non-null      int64 \n",
      " 1   id      2 non-null      object\n",
      " 2   pw      2 non-null      int64 \n",
      "dtypes: int64(2), object(1)\n",
      "memory usage: 176.0+ bytes\n",
      "None\n"
     ]
    }
   ],
   "source": [
    "import pandas as pd\n",
    "list = [[1,'kim',111],[2,'lee',222]]\n",
    "# data=None,\n",
    "# index: Axes | None = None,\n",
    "# columns: Axes | None = None,\n",
    "# dtype: Dtype | None = None,\n",
    "# copy: bool | None = None,\n",
    "df = pd.DataFrame(data = list,\n",
    "                  columns = ['seq','id','pw']\n",
    "                  )\n",
    "\n",
    "print(df.info())\n"
   ]
  },
  {
   "cell_type": "code",
   "execution_count": 6,
   "id": "c00633ba-2e26-4296-903c-9a9ccfe3817d",
   "metadata": {},
   "outputs": [
    {
     "data": {
      "text/html": [
       "<div>\n",
       "<style scoped>\n",
       "    .dataframe tbody tr th:only-of-type {\n",
       "        vertical-align: middle;\n",
       "    }\n",
       "\n",
       "    .dataframe tbody tr th {\n",
       "        vertical-align: top;\n",
       "    }\n",
       "\n",
       "    .dataframe thead th {\n",
       "        text-align: right;\n",
       "    }\n",
       "</style>\n",
       "<table border=\"1\" class=\"dataframe\">\n",
       "  <thead>\n",
       "    <tr style=\"text-align: right;\">\n",
       "      <th></th>\n",
       "      <th>seq</th>\n",
       "      <th>id</th>\n",
       "      <th>pw</th>\n",
       "    </tr>\n",
       "  </thead>\n",
       "  <tbody>\n",
       "    <tr>\n",
       "      <th>0</th>\n",
       "      <td>1</td>\n",
       "      <td>kim</td>\n",
       "      <td>111</td>\n",
       "    </tr>\n",
       "    <tr>\n",
       "      <th>1</th>\n",
       "      <td>2</td>\n",
       "      <td>lee</td>\n",
       "      <td>222</td>\n",
       "    </tr>\n",
       "  </tbody>\n",
       "</table>\n",
       "</div>"
      ],
      "text/plain": [
       "   seq   id   pw\n",
       "0    1  kim  111\n",
       "1    2  lee  222"
      ]
     },
     "execution_count": 6,
     "metadata": {},
     "output_type": "execute_result"
    }
   ],
   "source": [
    "df.head()    # 그냥 빈괄호는 기본세팅 5개보여줌"
   ]
  },
  {
   "cell_type": "code",
   "execution_count": null,
   "id": "5daf4544-3d94-4960-914f-933ff5050bfc",
   "metadata": {},
   "outputs": [],
   "source": []
  },
  {
   "cell_type": "code",
   "execution_count": null,
   "id": "a287db41-1720-4493-a237-8fcb44cccca9",
   "metadata": {},
   "outputs": [],
   "source": []
  }
 ],
 "metadata": {
  "kernelspec": {
   "display_name": "Python 3 (ipykernel)",
   "language": "python",
   "name": "python3"
  },
  "language_info": {
   "codemirror_mode": {
    "name": "ipython",
    "version": 3
   },
   "file_extension": ".py",
   "mimetype": "text/x-python",
   "name": "python",
   "nbconvert_exporter": "python",
   "pygments_lexer": "ipython3",
   "version": "3.8.8"
  }
 },
 "nbformat": 4,
 "nbformat_minor": 5
}
