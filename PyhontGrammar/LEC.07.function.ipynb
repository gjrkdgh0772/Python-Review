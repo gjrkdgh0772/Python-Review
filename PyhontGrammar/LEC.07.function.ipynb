{
 "cells": [
  {
   "cell_type": "markdown",
   "id": "3a6ec696-f99a-4ac3-a0b7-4128a5ee67fb",
   "metadata": {},
   "source": [
    "# 7.함수"
   ]
  },
  {
   "cell_type": "markdown",
   "id": "ede7001f-2d55-46bb-9976-52d8c9401e43",
   "metadata": {},
   "source": [
    "def ----- 파이썬에서 함수로 불린다\n",
    "\n",
    "def - 이름  (\"   값  \"):--->\n",
    "def - add (n1, n2):----> res = n1+n2 print(res)   이름(호출) n1,n2(파라미터, 매개변수, 인자)\n",
    "return res  ------ 값을 나타낸다\n",
    "\n"
   ]
  },
  {
   "cell_type": "markdown",
   "id": "121b0165-86cf-468d-9778-676bd80ccd70",
   "metadata": {},
   "source": [
    "<pre>\n",
    "* def 함수이름(파라미터,매개변수,인자) :\n",
    "      기능...\n",
    "      return 10\n",
    "* 함수이름 , 파라미터, 리턴값        "
   ]
  },
  {
   "cell_type": "markdown",
   "id": "36e98412-87cb-49ab-872e-06191e542c87",
   "metadata": {},
   "source": [
    "* 리턴이 없는 경우"
   ]
  },
  {
   "cell_type": "code",
   "execution_count": 4,
   "id": "566722cd-819e-45bd-9e7b-b768a0ef6643",
   "metadata": {},
   "outputs": [],
   "source": [
    "# add 함수는 두개의 수를 입력받아 합을 출력해준다\n",
    "def add(num1,num2):\n",
    "    res = num1 + num2\n",
    "    print(res)"
   ]
  },
  {
   "cell_type": "code",
   "execution_count": 5,
   "id": "09096655-51b0-4776-9ea1-645ea6c7781b",
   "metadata": {},
   "outputs": [
    {
     "name": "stdout",
     "output_type": "stream",
     "text": [
      "9\n"
     ]
    }
   ],
   "source": [
    "# 호출한다 == 만들어진 함수를 갖다가 쓴다\n",
    "add(3,6)"
   ]
  },
  {
   "cell_type": "markdown",
   "id": "3021dc54-a797-4809-a901-092a74b0166a",
   "metadata": {},
   "source": [
    "* 리턴이 있는 경우"
   ]
  },
  {
   "cell_type": "code",
   "execution_count": 1,
   "id": "41deea04-e50e-45de-a971-446f0ebf9cb2",
   "metadata": {},
   "outputs": [],
   "source": [
    "# add 함수는 두개의 수를 입력받아 합을 출력해준다\n",
    "def my_add(num1,num2):\n",
    "    res = num1 + num2\n",
    "    print(res)\n",
    "    return res  # 호출한 사람에게 값을 주다"
   ]
  },
  {
   "cell_type": "code",
   "execution_count": 13,
   "id": "35fef639-dac9-4934-834d-6208a21ed0a6",
   "metadata": {},
   "outputs": [
    {
     "name": "stdout",
     "output_type": "stream",
     "text": [
      "9\n"
     ]
    },
    {
     "data": {
      "text/plain": [
       "90"
      ]
     },
     "execution_count": 13,
     "metadata": {},
     "output_type": "execute_result"
    }
   ],
   "source": [
    "# 호출한다 == 만들어진 함수를 갖다가 쓴다\n",
    "my_add(3,6) * 10"
   ]
  },
  {
   "cell_type": "code",
   "execution_count": 14,
   "id": "86c33bbf-81e2-45da-9f44-fe1b70438174",
   "metadata": {},
   "outputs": [
    {
     "name": "stdout",
     "output_type": "stream",
     "text": [
      "9\n"
     ]
    },
    {
     "data": {
      "text/plain": [
       "90"
      ]
     },
     "execution_count": 14,
     "metadata": {},
     "output_type": "execute_result"
    }
   ],
   "source": [
    "# 호출한다 == 만들어진 함수를 갖다가 쓴다\n",
    "# 리턴값이 있으면 변수에 담는다\n",
    "v= my_add(3,6) \n",
    "v*10"
   ]
  },
  {
   "cell_type": "code",
   "execution_count": null,
   "id": "2efaced9-b341-4ae9-a210-41d3b51fa995",
   "metadata": {},
   "outputs": [],
   "source": []
  },
  {
   "cell_type": "markdown",
   "id": "0b2592e2-c608-43cf-82f5-c70798e5b9c6",
   "metadata": {},
   "source": [
    "## 전화번호부 함수 4개\n",
    "* 입력 my_insert , 파라미터 (이름,전화번호) 입력받아 리스트에 저장 후\n",
    "  저장되었습니다. 출력\n",
    "* 조회 my_select , 파라미터 없음 저장된 리스트 모든 목록 출력\n",
    "* 검색 my_search, 파라미터 이름 -->리스트에 저장된 전화번호 출력\n",
    "* 삭제 my_delete , 파라미터 이름  리스트에 저장된 이름의 정보 삭제\n",
    "* 등록 my_update , 파라미터 이름 , 전화번호 리스트에 저장된 이름, 전화번호 수정"
   ]
  },
  {
   "cell_type": "markdown",
   "id": "49429bd0-d725-40a2-920b-50cf07fdb706",
   "metadata": {},
   "source": [
    "* 하다가 막혔어..."
   ]
  },
  {
   "cell_type": "code",
   "execution_count": 68,
   "id": "20f09d5c-846b-479e-82ec-97b8fbe1eb13",
   "metadata": {},
   "outputs": [
    {
     "name": "stdout",
     "output_type": "stream",
     "text": [
      "저장되었습니다\n"
     ]
    }
   ],
   "source": [
    "info_list = [\"강호\",  \"010-1234-5678\"]\n",
    "\n",
    "def my_insert(name,tel):\n",
    "    print(\"저장되었습니다\")\n",
    "\n",
    "my_insert(info_list[0],info_list[1])"
   ]
  },
  {
   "cell_type": "code",
   "execution_count": 77,
   "id": "c8ecd077-6751-4c92-b253-3cacaec0fed8",
   "metadata": {
    "tags": []
   },
   "outputs": [
    {
     "name": "stdout",
     "output_type": "stream",
     "text": [
      "['강호', '010-1234-5678']\n"
     ]
    }
   ],
   "source": [
    "def my_select():\n",
    "    print(info_list)\n",
    "    \n",
    "my_select()"
   ]
  },
  {
   "cell_type": "code",
   "execution_count": 70,
   "id": "ab919cd9-aacb-401e-b7c5-74d2844f4049",
   "metadata": {},
   "outputs": [
    {
     "name": "stdout",
     "output_type": "stream",
     "text": [
      "010-1234-5678\n"
     ]
    }
   ],
   "source": [
    "def my_search(name):\n",
    "    print(name[1])\n",
    "\n",
    "my_search(info_list)"
   ]
  },
  {
   "cell_type": "code",
   "execution_count": 71,
   "id": "8c1d3b44-a1cd-4bff-b7d9-77c58834cb26",
   "metadata": {},
   "outputs": [],
   "source": [
    "def my_delete(name):\n",
    "    del name\n",
    "\n",
    "my_delete(info_list)"
   ]
  },
  {
   "cell_type": "code",
   "execution_count": 76,
   "id": "169b03a1-7982-44e2-a57d-437017425524",
   "metadata": {},
   "outputs": [],
   "source": [
    "def my_update(name,tel):\n",
    "    name == (\"\") and tel == (\"\")\n",
    "\n",
    "my_update(info_list[0],[1])"
   ]
  },
  {
   "cell_type": "code",
   "execution_count": 106,
   "id": "95e03669-aa7a-4ad8-b267-7f9d5ce584b9",
   "metadata": {},
   "outputs": [
    {
     "ename": "SyntaxError",
     "evalue": "f-string: expecting '}' (Temp/ipykernel_3800/2528009650.py, line 14)",
     "output_type": "error",
     "traceback": [
      "\u001b[1;36m  File \u001b[1;32m\"C:\\Users\\USER\\AppData\\Local\\Temp/ipykernel_3800/2528009650.py\"\u001b[1;36m, line \u001b[1;32m14\u001b[0m\n\u001b[1;33m    print(f\"{one_dict['name']} {one_dict['tel']\")\u001b[0m\n\u001b[1;37m          ^\u001b[0m\n\u001b[1;31mSyntaxError\u001b[0m\u001b[1;31m:\u001b[0m f-string: expecting '}'\n"
     ]
    }
   ],
   "source": [
    "info_list = []\n",
    "\n",
    "def my_insert(name,tel):\n",
    "    global info_list\n",
    "    n = {\"name\":name, \"tell\":tel}\n",
    "    info_list.append(n)\n",
    "    print(\"저장되었습니다\")\n",
    "\n",
    "\n",
    "\n",
    "def my_select():\n",
    "    print(info_list)\n",
    "    for one_dict in info_list:\n",
    "        print(f\"{one_dict['name']} {one_dict['tel']\")\n",
    "\n",
    "\n",
    "def my_search(name):\n",
    "    for one_dict in info_list:\n",
    "        if one_dict[\"name\"] == name:\n",
    "            print(one_dict[\"tel\"])\n",
    "\n",
    "my_search(info_list)\n",
    "\n",
    "def my_delete(name):\n",
    "    del name\n",
    "\n",
    "my_delete(info_list)\n",
    "\n",
    "def my_update(name,tel):\n",
    "    name == (\"12\") and tel == (\"123\")\n",
    "\n",
    "my_update(info_list[0],[1])"
   ]
  },
  {
   "cell_type": "code",
   "execution_count": 102,
   "id": "051a3c17-5c4b-48ae-b588-5866e8e6b8f7",
   "metadata": {},
   "outputs": [
    {
     "name": "stdout",
     "output_type": "stream",
     "text": [
      "저장되었습니다\n",
      "[{'name': '강호', 'tell': '010-2716-0772'}]\n",
      "저장되었습니다\n",
      "[{'name': '강호', 'tell': '010-2716-0772'}, {'name': '소희', 'tell': '010-4607-3903'}]\n"
     ]
    }
   ],
   "source": [
    "my_insert(\"강호\", \"010-2716-0772\")\n",
    "print(info_list)\n",
    "my_insert(\"소희\", \"010-4607-3903\")\n",
    "print(info_list)\n",
    "\n"
   ]
  },
  {
   "cell_type": "code",
   "execution_count": 111,
   "id": "5a0f5a9c-8560-460b-9e76-08774c0fcc86",
   "metadata": {},
   "outputs": [
    {
     "name": "stdout",
     "output_type": "stream",
     "text": [
      "[{'name': '강호', 'tell': '010-2716-0772'}, {'name': '소희', 'tell': '010-4607-3903'}]\n"
     ]
    }
   ],
   "source": [
    "my_select()"
   ]
  },
  {
   "cell_type": "code",
   "execution_count": 110,
   "id": "3d3d3ac0-e2a5-424e-86ec-dbe1cc1d7a91",
   "metadata": {},
   "outputs": [
    {
     "name": "stdout",
     "output_type": "stream",
     "text": [
      "희\n"
     ]
    }
   ],
   "source": [
    "my_search('소희')"
   ]
  },
  {
   "cell_type": "markdown",
   "id": "6a2950e5-18e5-48d7-a370-e4ef1e3a5664",
   "metadata": {},
   "source": [
    "## 전화번호부\n",
    "* 입력 my_insert , 파라미터 이름, 전화번호  입력받아 리스트에 저장 후 저장되었습니다. 출력\n",
    "* 조회 my_select , 파라미터 없음   리스트에 저장된 모든 목록 출력\n",
    "* 검색 my_search , 파라미터 이름   리스트에 저장된 전화번호 출력\n",
    "* 삭제 my_delete , 파라미터 이름   리스트에 저장된 해당 이름의 정보 삭제\n",
    "* 삭제 my_update , 파라미터 이름, 전화번호   리스트에 저장된 이름,전화번호 수정\n"
   ]
  },
  {
   "cell_type": "markdown",
   "id": "0e110fcd-d7a0-4c4c-bb95-7285b0aade95",
   "metadata": {},
   "source": [
    "###### 김문식님 코드\n",
    "\n",
    "my_addr = []\n",
    "\n",
    "def my_insert(name, tel):\n",
    "    my_addr.append({'name': name, 'tel' : tel})\n",
    "    print('저장성공!')\n",
    "\n",
    "def my_select():\n",
    "    print('-------------select -----------')\n",
    "    for i in my_addr:\n",
    "        print(i['name'], i['tel'])\n",
    "    print('-----------select end--------------')\n",
    "\n",
    "def my_search(name):\n",
    "    res = {}\n",
    "    print('-------------Search -----------')\n",
    "    for i in my_addr:\n",
    "        if i['name'] == name:\n",
    "            print(i['tel'])\n",
    "            res = i\n",
    "    print('-----------search end--------------')\n",
    "    return res\n",
    "\n",
    "def my_delete(name):\n",
    "    print('----------delete---------')\n",
    "    del_user = my_search(name)\n",
    "    my_addr.remove(del_user)\n",
    "    print('-----------delete end-------')\n",
    "\n",
    "def my_update(name, tel):\n",
    "    print('-----update------------')\n",
    "    for i in my_addr:\n",
    "        if i[\"name\"] == name:\n",
    "            i[\"tel\"] = tel \n",
    "    print('-----update end-----------')\n"
   ]
  }
 ],
 "metadata": {
  "kernelspec": {
   "display_name": "Python 3 (ipykernel)",
   "language": "python",
   "name": "python3"
  },
  "language_info": {
   "codemirror_mode": {
    "name": "ipython",
    "version": 3
   },
   "file_extension": ".py",
   "mimetype": "text/x-python",
   "name": "python",
   "nbconvert_exporter": "python",
   "pygments_lexer": "ipython3",
   "version": "3.8.8"
  }
 },
 "nbformat": 4,
 "nbformat_minor": 5
}
